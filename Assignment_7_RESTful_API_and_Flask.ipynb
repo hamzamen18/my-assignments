{
  "nbformat": 4,
  "nbformat_minor": 0,
  "metadata": {
    "colab": {
      "provenance": []
    },
    "kernelspec": {
      "name": "python3",
      "display_name": "Python 3"
    },
    "language_info": {
      "name": "python"
    }
  },
  "cells": [
    {
      "cell_type": "markdown",
      "source": [
        "#**RESTful API and Flask Theory Section**"
      ],
      "metadata": {
        "id": "GBJzXVQfmUUn"
      }
    },
    {
      "cell_type": "markdown",
      "source": [
        "1. What is a RESTful API?\n",
        "\n",
        "RESTful API stands for Representational State Transfer Application Programming Interface.\n",
        "\n",
        "It is an architectural style for designing networked applications.\n",
        "\n",
        "RESTful APIs use standard HTTP methods (GET, POST, PUT, DELETE) for operations.\n",
        "\n",
        "They are stateless, meaning each request from a client to server contains all the necessary information to understand the request."
      ],
      "metadata": {
        "id": "JX-U-bzAmuXP"
      }
    },
    {
      "cell_type": "markdown",
      "source": [
        "2. Explain the concept of API specification.\n",
        "\n",
        "An API specification is a document or a set of rules that describes how an API works.\n",
        "\n",
        "It defines the endpoints, HTTP methods, request parameters, and response structures.\n",
        "\n",
        "Popular formats include OpenAPI (Swagger) and RAML.\n",
        "\n",
        "Specifications help developers understand and interact with the API without needing to see the source code."
      ],
      "metadata": {
        "id": "G9QHPpTmnGDd"
      }
    },
    {
      "cell_type": "markdown",
      "source": [
        "3. What is Flask, and why is it popular for building APIs?\n",
        "\n",
        "Flask is a micro web framework written in Python.\n",
        "\n",
        "It is known for its simplicity and minimalistic approach, providing only essential tools.\n",
        "\n",
        "Its \"micro\" nature means it doesn't come with many built-in features, allowing developers to choose their own tools and libraries.\n",
        "\n",
        "This flexibility makes it popular for building lightweight and scalable APIs."
      ],
      "metadata": {
        "id": "uB7lY290nJUA"
      }
    },
    {
      "cell_type": "markdown",
      "source": [
        "4. What is routing in Flask?\n",
        "\n",
        "Routing in Flask refers to the process of mapping URLs to Python functions.\n",
        "\n",
        "It determines which function should be executed when a specific URL is accessed.\n",
        "\n",
        "This is typically achieved using the @app.route() decorator.\n",
        "\n",
        "Routes can include dynamic parts (variable rules) to capture values from the URL."
      ],
      "metadata": {
        "id": "KLese2iJnSwU"
      }
    },
    {
      "cell_type": "markdown",
      "source": [
        "5. How do you create a simple Flask application?\n",
        "\n",
        "First, import the Flask class from the flask module.\n",
        "\n",
        "Create an instance of the Flask class, typically app = Flask(__name__).\n",
        "\n",
        "Define a route using the @app.route('/') decorator for the root URL.\n",
        "\n",
        "Write a Python function that returns the content to be displayed for that route and run the application using app.run()."
      ],
      "metadata": {
        "id": "ZyHBSF1WnUii"
      }
    },
    {
      "cell_type": "markdown",
      "source": [
        "6. What are HTTP methods used in RESTful APIs?\n",
        "\n",
        "GET: Retrieves data from the server.\n",
        "\n",
        "POST: Sends new data to the server to create a resource.\n",
        "\n",
        "PUT: Updates an existing resource or creates one if it doesn't exist.\n",
        "\n",
        "DELETE: Removes a resource from the server."
      ],
      "metadata": {
        "id": "W99Cc0nRnZmw"
      }
    },
    {
      "cell_type": "markdown",
      "source": [
        "7. What is the purpose of the @app.route() decorator in Flask?\n",
        "\n",
        "The @app.route() decorator binds a URL path to a specific Python function.\n",
        "\n",
        "It tells Flask which function to call when a client requests a particular URL.\n",
        "\n",
        "It can specify HTTP methods that the route should respond to (e.g., methods=['GET', 'POST']).\n",
        "\n",
        "It is a core part of Flask's routing mechanism, simplifying the creation of endpoints."
      ],
      "metadata": {
        "id": "mlSdNU9jnc9-"
      }
    },
    {
      "cell_type": "markdown",
      "source": [
        "8. What is the difference between GET and POST HTTP methods?\n",
        "\n",
        "GET is used to request data from a specified resource; data is sent in the URL query string.\n",
        "\n",
        "POST is used to send data to a server to create or update a resource; data is sent in the request body.\n",
        "\n",
        "GET requests are idempotent (multiple identical requests have the same effect as a single one) and can be cached.\n",
        "\n",
        "POST requests are not idempotent and generally not cached."
      ],
      "metadata": {
        "id": "9EEvlr-InkcO"
      }
    },
    {
      "cell_type": "markdown",
      "source": [
        "9. How do you handle errors in Flask APIs?\n",
        "\n",
        "Flask allows you to register error handlers for specific HTTP status codes (e.g., 404 Not Found, 500 Internal Server Error).\n",
        "\n",
        "You can use the @app.errorhandler() decorator to define functions that execute when an error occurs.\n",
        "\n",
        "Custom error responses (e.g., JSON error messages) can be returned from these handlers.\n",
        "\n",
        "For unhandled exceptions, Flask provides a default debug traceback, but custom error pages are essential for production."
      ],
      "metadata": {
        "id": "PsSnVogZnpFX"
      }
    },
    {
      "cell_type": "markdown",
      "source": [
        "10. How do you connect Flask to a SQL database?\n",
        "\n",
        "You typically use a database connector library for Python, such as psycopg2 for PostgreSQL or mysql-connector-python for MySQL.\n",
        "\n",
        "Flask-SQLAlchemy is a popular Flask extension that provides an ORM (Object-Relational Mapper) layer for SQLAlchemy.\n",
        "\n",
        "This extension simplifies database interactions by mapping Python objects to database tables.\n",
        "\n",
        "You configure the database URI in your Flask application's configuration."
      ],
      "metadata": {
        "id": "OcYNjkzentio"
      }
    },
    {
      "cell_type": "markdown",
      "source": [
        "11. What is the role of Flask-SQLAlchemy?\n",
        "\n",
        "Flask-SQLAlchemy is an extension that provides SQLAlchemy support for Flask applications.\n",
        "\n",
        "It simplifies database operations by integrating SQLAlchemy's ORM capabilities directly into Flask.\n",
        "\n",
        "It manages database sessions, connection pooling, and provides a convenient way to define and query models.\n",
        "\n",
        "It streamlines the process of working with relational databases in a Flask project."
      ],
      "metadata": {
        "id": "JMq8oZMZnwPm"
      }
    },
    {
      "cell_type": "markdown",
      "source": [
        "12. What are Flask blueprints, and how are they useful?\n",
        "\n",
        "Flask blueprints are a way to organize your Flask application into smaller, reusable components.\n",
        "\n",
        "They allow you to modularize your application by separating different functionalities (e.g., user authentication, blog posts).\n",
        "\n",
        "Blueprints can define their own routes, templates, and static files, and can be registered with the main Flask application.\n",
        "\n",
        "They are useful for building larger applications, promoting code reusability, and managing complex routing structures."
      ],
      "metadata": {
        "id": "WBjanOHInys4"
      }
    },
    {
      "cell_type": "markdown",
      "source": [
        "13. What is the purpose of Flask's request object?\n",
        "\n",
        "The request object in Flask holds all incoming request data from the client.\n",
        "\n",
        "It provides access to form data (request.form), query parameters (request.args), JSON data (request.json), headers (request.headers), and files (request.files).\n",
        "\n",
        "It is a global object that is available within the context of a request.\n",
        "\n",
        "It is crucial for processing client inputs and building dynamic responses."
      ],
      "metadata": {
        "id": "mJNFRvh-n2dl"
      }
    },
    {
      "cell_type": "markdown",
      "source": [
        "14. How do you create a RESTful API endpoint using Flask?\n",
        "\n",
        "Define a function that will handle requests to a specific URL path.\n",
        "\n",
        "Use the @app.route() decorator (or @blueprint.route()) to map the URL and specify allowed HTTP methods (e.g., methods=['GET', 'POST']).\n",
        "\n",
        "Inside the function, access request data using Flask's request object.\n",
        "\n",
        "Return a JSON response using Flask's jsonify() function to maintain RESTful conventions."
      ],
      "metadata": {
        "id": "NS_vc3vnn8px"
      }
    },
    {
      "cell_type": "markdown",
      "source": [
        "15. What is the purpose of Flask's jsonify() function?\n",
        "\n",
        "jsonify() is a helper function in Flask that serializes Python dictionaries or lists into JSON format.\n",
        "\n",
        "It also sets the Content-Type header of the HTTP response to application/json.\n",
        "\n",
        "It simplifies returning structured data from API endpoints.\n",
        "\n",
        "It ensures that the response is properly formatted for consumption by other applications."
      ],
      "metadata": {
        "id": "y-8-H9cuoBhl"
      }
    },
    {
      "cell_type": "markdown",
      "source": [
        "16. Explain Flask's url_for() function.\n",
        "\n",
        "url_for() is a Flask function used for URL building, also known as reverse routing.\n",
        "\n",
        "It takes the name of a view function (endpoint) as its first argument and any variable parts of the URL as keyword arguments.\n",
        "\n",
        "It generates a URL for the specified endpoint, making your application's URLs independent of actual URL changes.\n",
        "\n",
        "This helps in avoiding hardcoding URLs, making applications more robust and maintainable."
      ],
      "metadata": {
        "id": "Cj0qktlNoEoq"
      }
    },
    {
      "cell_type": "markdown",
      "source": [
        "17. How does Flask handle static files (CSS, JavaScript, etc.)?\n",
        "\n",
        "Flask provides a dedicated mechanism for serving static files.\n",
        "\n",
        "By default, it looks for static files in a folder named static within your application's root directory.\n",
        "\n",
        "You can access these files in your templates using the url_for() function with the special endpoint 'static'.\n",
        "\n",
        "For example, url_for('static', filename='css/style.css') would generate the URL for static/css/style.css."
      ],
      "metadata": {
        "id": "bSDHL918oINL"
      }
    },
    {
      "cell_type": "markdown",
      "source": [
        "18. What is an API specification, and how does it help in building a Flask API?\n",
        "\n",
        "An API specification is a blueprint or contract describing the API's functionality, endpoints, data models, and operations.\n",
        "\n",
        "It helps in building a Flask API by providing clear documentation for both frontend and backend developers.\n",
        "\n",
        "Tools like OpenAPI (Swagger) can generate interactive documentation directly from the specification.\n",
        "\n",
        "It facilitates consistent API design, enables automated testing, and simplifies client integration."
      ],
      "metadata": {
        "id": "hTteW9S9oP4n"
      }
    },
    {
      "cell_type": "markdown",
      "source": [
        "19. What are HTTP status codes, and why are they important in a Flask API?\n",
        "\n",
        "HTTP status codes are three-digit numbers returned by the server in response to an HTTP request.\n",
        "\n",
        "They indicate the outcome of the request (e.g., 200 OK, 404 Not Found, 500 Internal Server Error).\n",
        "\n",
        "In a Flask API, they are crucial for communicating the success or failure of an operation to the client.\n",
        "\n",
        "Proper use of status codes helps clients understand what happened and how to proceed, leading to more robust API interactions."
      ],
      "metadata": {
        "id": "MT7WbuEuoLCG"
      }
    },
    {
      "cell_type": "markdown",
      "source": [
        "20. How do you handle POST requests in Flask?\n",
        "\n",
        "Define a route using @app.route() and explicitly specify methods=['POST'].\n",
        "\n",
        "Access the data sent in the request body using request.form for form data or request.json for JSON data.\n",
        "\n",
        "Process the incoming data, which often involves saving it to a database or performing some business logic.\n",
        "\n",
        "Return an appropriate HTTP status code (e.g., 201 Created for successful resource creation) and a response, often in JSON format."
      ],
      "metadata": {
        "id": "U1-nnOrPoVs_"
      }
    },
    {
      "cell_type": "markdown",
      "source": [
        "21. How would you secure a Flask API?\n",
        "\n",
        "Authentication: Implement user authentication using methods like token-based authentication (JWT), OAuth, or session management.\n",
        "\n",
        "Authorization: Control access to resources based on user roles and permissions.\n",
        "\n",
        "HTTPS: Ensure all communication is encrypted using SSL/TLS to prevent eavesdropping and data tampering.\n",
        "\n",
        "Input Validation & Sanitize: Validate and sanitize all incoming data to prevent common vulnerabilities like SQL injection and XSS."
      ],
      "metadata": {
        "id": "lUn7vIWloYNU"
      }
    },
    {
      "cell_type": "markdown",
      "source": [
        "22. What is the significance of the Flask-RESTful extension?\n",
        "\n",
        "Flask-RESTful is an extension for Flask that provides tools for quickly building REST APIs.\n",
        "\n",
        "It simplifies common API development tasks such as request parsing, response formatting, and error handling.\n",
        "\n",
        "It provides a resource-based approach, allowing developers to define API endpoints as classes.\n",
        "\n",
        "It abstracts away much of the boilerplate code required for RESTful API creation in Flask."
      ],
      "metadata": {
        "id": "6GJNVjo2obeM"
      }
    },
    {
      "cell_type": "markdown",
      "source": [
        "23. What is the role of Flask's session object?\n",
        "\n",
        "The Flask session object provides a way to store data specific to a user's session across multiple requests.\n",
        "\n",
        "It is typically implemented using signed cookies, where data is stored client-side but signed by the server to prevent tampering.\n",
        "\n",
        "It's used for maintaining user state, such as login status, shopping cart contents, or user preferences.\n",
        "\n",
        "Session data is typically encrypted and signed, ensuring its integrity and preventing unauthorized modification."
      ],
      "metadata": {
        "id": "E5GdbLHXATsN"
      }
    },
    {
      "cell_type": "markdown",
      "source": [
        "#**RESTful API and Flask Practical Section**"
      ],
      "metadata": {
        "id": "zL7gljqRopWO"
      }
    },
    {
      "cell_type": "code",
      "source": [
        "# 1. How do you create a basic Flask application?\n",
        "from flask import Flask\n",
        "\n",
        "app = Flask(__name__)\n",
        "\n",
        "@app.route('/')\n",
        "def hello_world():\n",
        "    return 'Hello, World!'\n",
        "\n",
        "if __name__ == '__main__':\n",
        "    app.run(debug=True)"
      ],
      "metadata": {
        "id": "0t1xeMfuo54E"
      },
      "execution_count": null,
      "outputs": []
    },
    {
      "cell_type": "code",
      "source": [
        "# 2. How do you serve static files like images or CSS in Flask?\n",
        "# Static files are typically served from a 'static' folder in your application's root directory.\n",
        "# For example, if you have a file 'style.css' in a 'static' folder:\n",
        "# /your_app\n",
        "#   /static\n",
        "#     style.css\n",
        "#   app.py\n",
        "\n",
        "from flask import Flask, render_template\n",
        "\n",
        "app = Flask(__name__)\n",
        "\n",
        "@app.route('/')\n",
        "def index():\n",
        "    return '''\n",
        "    <!DOCTYPE html>\n",
        "    <html lang=\"en\">\n",
        "    <head>\n",
        "        <meta charset=\"UTF-8\">\n",
        "        <meta name=\"viewport\" content=\"width=device-width, initial-scale=1.0\">\n",
        "        <title>Static Files Example</title>\n",
        "        <link rel=\"stylesheet\" href=\"/static/style.css\">\n",
        "    </head>\n",
        "    <body>\n",
        "        <h1>Serving Static Files</h1>\n",
        "        <img src=\"/static/image.png\" alt=\"Example Image\">\n",
        "        <p>This page uses a static CSS file and an image.</p>\n",
        "    </body>\n",
        "    </html>\n",
        "    '''\n",
        "\n",
        "if __name__ == '__main__':\n",
        "    app.run(debug=True)"
      ],
      "metadata": {
        "id": "6V9z1OLxpuMa"
      },
      "execution_count": null,
      "outputs": []
    },
    {
      "cell_type": "code",
      "source": [
        "# 3. How do you define different routes with different HTTP methods in Flask?\n",
        "from flask import Flask, request\n",
        "\n",
        "app = Flask(__name__)\n",
        "\n",
        "@app.route('/login', methods=['GET', 'POST'])\n",
        "def login():\n",
        "    if request.method == 'POST':\n",
        "        return 'Logged in via POST'\n",
        "    else:\n",
        "        return 'Please log in via GET (form)'\n",
        "\n",
        "@app.route('/data', methods=['GET'])\n",
        "def get_data():\n",
        "    return 'Here is your data (GET request)'\n",
        "\n",
        "@app.route('/data', methods=['POST'])\n",
        "def post_data():\n",
        "    return 'Data received (POST request)'\n",
        "\n",
        "if __name__ == '__main__':\n",
        "    app.run(debug=True)"
      ],
      "metadata": {
        "id": "am-Zr7i4pw1F"
      },
      "execution_count": null,
      "outputs": []
    },
    {
      "cell_type": "code",
      "source": [
        "# 4. How do you render HTML templates in Flask?\n",
        "# Templates are typically stored in a 'templates' folder.\n",
        "# For example, if you have 'index.html' in a 'templates' folder:\n",
        "# /your_app\n",
        "#   /templates\n",
        "#     index.html\n",
        "#   app.py\n",
        "\n",
        "from flask import Flask, render_template\n",
        "\n",
        "app = Flask(__name__)\n",
        "\n",
        "@app.route('/')\n",
        "def index():\n",
        "    user_name = \"Alice\"\n",
        "    items = [\"item1\", \"item2\", \"item3\"]\n",
        "    return render_template('index.html', name=user_name, items=items)\n",
        "\n",
        "# Example content for templates/index.html:\n",
        "# <!DOCTYPE html>\n",
        "# <html lang=\"en\">\n",
        "# <head>\n",
        "#     <meta charset=\"UTF-8\">\n",
        "#     <meta name=\"viewport\" content=\"width=device-width, initial-scale=1.0\">\n",
        "#     <title>Home</title>\n",
        "# </head>\n",
        "# <body>\n",
        "#     <h1>Hello, {{ name }}!</h1>\n",
        "#     <p>Here are your items:</p>\n",
        "#     <ul>\n",
        "#         {% for item in items %}\n",
        "#             <li>{{ item }}</li>\n",
        "#         {% endfor %}\n",
        "#     </ul>\n",
        "# </body>\n",
        "# </html>\n",
        "\n",
        "if __name__ == '__main__':\n",
        "    app.run(debug=True)"
      ],
      "metadata": {
        "id": "PrMziyeLpxtZ"
      },
      "execution_count": null,
      "outputs": []
    },
    {
      "cell_type": "code",
      "source": [
        "# 5. How can you generate URLs for routes in Flask using url_for?\n",
        "from flask import Flask, url_for, redirect\n",
        "\n",
        "app = Flask(__name__)\n",
        "\n",
        "@app.route('/')\n",
        "def index():\n",
        "    return 'Welcome to the home page!'\n",
        "\n",
        "@app.route('/user/<username>')\n",
        "def show_user_profile(username):\n",
        "    return f'User: {username}'\n",
        "\n",
        "@app.route('/login')\n",
        "def login():\n",
        "    return 'This is the login page.'\n",
        "\n",
        "@app.route('/generate_url')\n",
        "def generate_urls():\n",
        "    # Generate URL for 'index' route\n",
        "    home_url = url_for('index')\n",
        "    # Generate URL for 'show_user_profile' with a parameter\n",
        "    user_url = url_for('show_user_profile', username='Bob')\n",
        "    # Generate URL for 'login' route\n",
        "    login_url = url_for('login')\n",
        "    # Generate URL for static files (e.g., a CSS file)\n",
        "    css_url = url_for('static', filename='style.css')\n",
        "\n",
        "    return f\"\"\"\n",
        "    <p>Home URL: <a href=\"{home_url}\">{home_url}</a></p>\n",
        "    <p>User URL for Bob: <a href=\"{user_url}\">{user_url}</a></p>\n",
        "    <p>Login URL: <a href=\"{login_url}\">{login_url}</a></p>\n",
        "    <p>Static CSS URL: <a href=\"{css_url}\">{css_url}</a></p>\n",
        "    \"\"\"\n",
        "\n",
        "if __name__ == '__main__':\n",
        "    app.run(debug=True)"
      ],
      "metadata": {
        "id": "ThQ2kLLUpxHp"
      },
      "execution_count": null,
      "outputs": []
    },
    {
      "cell_type": "code",
      "source": [
        "# 6. How do you handle forms in Flask?\n",
        "from flask import Flask, request, render_template_string\n",
        "\n",
        "app = Flask(__name__)\n",
        "\n",
        "@app.route('/submit_form', methods=['GET', 'POST'])\n",
        "def submit_form():\n",
        "    if request.method == 'POST':\n",
        "        name = request.form.get('name')\n",
        "        email = request.form.get('email')\n",
        "        return f'Form submitted! Name: {name}, Email: {email}'\n",
        "    return render_template_string('''\n",
        "        <form method=\"POST\">\n",
        "            <label for=\"name\">Name:</label><br>\n",
        "            <input type=\"text\" id=\"name\" name=\"name\"><br>\n",
        "            <label for=\"email\">Email:</label><br>\n",
        "            <input type=\"email\" id=\"email\" name=\"email\"><br><br>\n",
        "            <input type=\"submit\" value=\"Submit\">\n",
        "        </form>\n",
        "    ''')\n",
        "\n",
        "if __name__ == '__main__':\n",
        "    app.run(debug=True)"
      ],
      "metadata": {
        "id": "0KMC6G4_pyKX"
      },
      "execution_count": null,
      "outputs": []
    },
    {
      "cell_type": "code",
      "source": [
        "# 7. How can you validate form data in Flask?\n",
        "from flask import Flask, request, render_template_string, flash, redirect, url_for\n",
        "\n",
        "app = Flask(__name__)\n",
        "app.secret_key = 'your_secret_key' # Required for flashing messages\n",
        "\n",
        "@app.route('/register', methods=['GET', 'POST'])\n",
        "def register():\n",
        "    if request.method == 'POST':\n",
        "        username = request.form.get('username')\n",
        "        password = request.form.get('password')\n",
        "        confirm_password = request.form.get('confirm_password')\n",
        "\n",
        "        errors = []\n",
        "        if not username:\n",
        "            errors.append('Username is required.')\n",
        "        if not password:\n",
        "            errors.append('Password is required.')\n",
        "        elif len(password) < 6:\n",
        "            errors.append('Password must be at least 6 characters long.')\n",
        "        if password != confirm_password:\n",
        "            errors.append('Passwords do not match.')\n",
        "\n",
        "        if errors:\n",
        "            for error in errors:\n",
        "                flash(error, 'error')\n",
        "            return render_template_string('''\n",
        "                {% with messages = get_flashed_messages(with_categories=true) %}\n",
        "                  {% if messages %}\n",
        "                    <ul class=flashes>\n",
        "                    {% for category, message in messages %}\n",
        "                      <li class=\"{{ category }}\">{{ message }}</li>\n",
        "                    {% endfor %}\n",
        "                    </ul>\n",
        "                  {% endif %}\n",
        "                {% endwith %}\n",
        "                <form method=\"POST\">\n",
        "                    <label for=\"username\">Username:</label><br>\n",
        "                    <input type=\"text\" id=\"username\" name=\"username\" value=\"{{ request.form.username or '' }}\"><br>\n",
        "                    <label for=\"password\">Password:</label><br>\n",
        "                    <input type=\"password\" id=\"password\" name=\"password\"><br>\n",
        "                    <label for=\"confirm_password\">Confirm Password:</label><br>\n",
        "                    <input type=\"password\" id=\"confirm_password\" name=\"confirm_password\"><br><br>\n",
        "                    <input type=\"submit\" value=\"Register\">\n",
        "                </form>\n",
        "            ''', request=request)\n",
        "        else:\n",
        "            flash('Registration successful!', 'success')\n",
        "            return redirect(url_for('register'))\n",
        "\n",
        "    return render_template_string('''\n",
        "        {% with messages = get_flashed_messages(with_categories=true) %}\n",
        "          {% if messages %}\n",
        "            <ul class=flashes>\n",
        "            {% for category, message in messages %}\n",
        "              <li class=\"{{ category }}\">{{ message }}</li>\n",
        "            {% endfor %}\n",
        "            </ul>\n",
        "          {% endif %}\n",
        "        {% endwith %}\n",
        "        <form method=\"POST\">\n",
        "            <label for=\"username\">Username:</label><br>\n",
        "            <input type=\"text\" id=\"username\" name=\"username\"><br>\n",
        "            <label for=\"password\">Password:</label><br>\n",
        "            <input type=\"password\" id=\"password\" name=\"password\"><br>\n",
        "            <label for=\"confirm_password\">Confirm Password:</label><br>\n",
        "            <input type=\"password\" id=\"confirm_password\" name=\"confirm_password\"><br><br>\n",
        "            <input type=\"submit\" value=\"Register\">\n",
        "        </form>\n",
        "    ''')\n",
        "\n",
        "if __name__ == '__main__':\n",
        "    app.run(debug=True)"
      ],
      "metadata": {
        "id": "R8rYENUmpyk3"
      },
      "execution_count": null,
      "outputs": []
    },
    {
      "cell_type": "code",
      "source": [
        "# 8. How do you manage sessions in Flask?\n",
        "from flask import Flask, session, redirect, url_for, escape, request\n",
        "\n",
        "app = Flask(__name__)\n",
        "app.secret_key = 'super secret key' # Essential for session security\n",
        "\n",
        "@app.route('/')\n",
        "def index():\n",
        "    if 'username' in session:\n",
        "        return f'Logged in as {escape(session[\"username\"])} <br><a href=\"/logout\">Logout</a>'\n",
        "    return 'You are not logged in <br><a href=\"/login\">Login</a>'\n",
        "\n",
        "@app.route('/login', methods=['GET', 'POST'])\n",
        "def login():\n",
        "    if request.method == 'POST':\n",
        "        session['username'] = request.form.get('username')\n",
        "        return redirect(url_for('index'))\n",
        "    return '''\n",
        "        <form method=\"post\">\n",
        "            <p><input type=text name=username>\n",
        "            <p><input type=submit value=Login>\n",
        "        </form>\n",
        "    '''\n",
        "\n",
        "@app.route('/logout')\n",
        "def logout():\n",
        "    session.pop('username', None)\n",
        "    return redirect(url_for('index'))\n",
        "\n",
        "if __name__ == '__main__':\n",
        "    app.run(debug=True)"
      ],
      "metadata": {
        "id": "FKX3_S9Mpy7D"
      },
      "execution_count": null,
      "outputs": []
    },
    {
      "cell_type": "code",
      "source": [
        "# 9. How do you redirect to a different route in Flask?\n",
        "from flask import Flask, redirect, url_for\n",
        "\n",
        "app = Flask(__name__)\n",
        "\n",
        "@app.route('/')\n",
        "def index():\n",
        "    return 'This is the index page.'\n",
        "\n",
        "@app.route('/old_route')\n",
        "def old_route():\n",
        "    # Redirect to the 'new_route'\n",
        "    return redirect(url_for('new_route'))\n",
        "\n",
        "@app.route('/new_route')\n",
        "def new_route():\n",
        "    return 'You have been redirected to the new route!'\n",
        "\n",
        "@app.route('/external_redirect')\n",
        "def external_redirect():\n",
        "    # Redirect to an external URL\n",
        "    return redirect(\"https://www.google.com\")\n",
        "\n",
        "if __name__ == '__main__':\n",
        "    app.run(debug=True)"
      ],
      "metadata": {
        "id": "zQ27ro6jpzOY"
      },
      "execution_count": null,
      "outputs": []
    },
    {
      "cell_type": "code",
      "source": [
        "# 10. How do you handle errors in Flask (e.g., 404)?\n",
        "from flask import Flask, render_template_string, jsonify\n",
        "\n",
        "app = Flask(__name__)\n",
        "\n",
        "@app.errorhandler(404)\n",
        "def page_not_found(error):\n",
        "    # Render a custom 404 HTML page\n",
        "    return render_template_string('''\n",
        "        <!DOCTYPE html>\n",
        "        <html lang=\"en\">\n",
        "        <head>\n",
        "            <meta charset=\"UTF-8\">\n",
        "            <meta name=\"viewport\" content=\"width=device-width, initial-scale=1.0\">\n",
        "            <title>404 Not Found</title>\n",
        "        </head>\n",
        "        <body>\n",
        "            <h1>404 - Page Not Found</h1>\n",
        "            <p>Sorry, the page you are looking for does not exist.</p>\n",
        "            <p>{{ error }}</p>\n",
        "        </body>\n",
        "        </html>\n",
        "    ''', error=error), 404\n",
        "\n",
        "@app.errorhandler(500)\n",
        "def internal_server_error(error):\n",
        "    # For API endpoints, you might want to return JSON\n",
        "    if request.path.startswith('/api/'):\n",
        "        return jsonify(error=\"Internal Server Error\", message=str(error)), 500\n",
        "    return \"<h1>500 - Internal Server Error</h1><p>Something went wrong.</p>\", 500\n",
        "\n",
        "@app.route('/')\n",
        "def index():\n",
        "    return 'Welcome! Try going to a non-existent page to see the 404 error.'\n",
        "\n",
        "@app.route('/trigger_500')\n",
        "def trigger_500():\n",
        "    raise Exception(\"This is a simulated internal server error!\")\n",
        "\n",
        "@app.route('/api/data')\n",
        "def api_data():\n",
        "    # Simulate an error in an API endpoint\n",
        "    if True: # Some condition that leads to an error\n",
        "        raise ValueError(\"Invalid data requested\")\n",
        "    return jsonify({\"message\": \"Data retrieved\"})\n",
        "\n",
        "\n",
        "if __name__ == '__main__':\n",
        "    app.run(debug=True)"
      ],
      "metadata": {
        "id": "u2reUU76pzk5"
      },
      "execution_count": null,
      "outputs": []
    },
    {
      "cell_type": "code",
      "source": [
        "# 11. How do you structure a Flask app using Blueprints?\n",
        "# Create a 'my_app' directory:\n",
        "# my_app/\n",
        "#   __init__.py\n",
        "#   auth.py\n",
        "#   blog.py\n",
        "#   views.py\n",
        "\n",
        "# --- my_app/__init__.py ---\n",
        "from flask import Flask\n",
        "\n",
        "def create_app():\n",
        "    app = Flask(__name__)\n",
        "    app.config['SECRET_KEY'] = 'your_secret_key'\n",
        "\n",
        "    from .auth import auth_bp\n",
        "    from .blog import blog_bp\n",
        "\n",
        "    app.register_blueprint(auth_bp, url_prefix='/auth')\n",
        "    app.register_blueprint(blog_bp, url_prefix='/blog')\n",
        "\n",
        "    @app.route('/')\n",
        "    def index():\n",
        "        return 'Welcome to the main app!'\n",
        "\n",
        "    return app\n",
        "\n",
        "# --- my_app/auth.py ---\n",
        "from flask import Blueprint, render_template, request, flash, redirect, url_for\n",
        "\n",
        "auth_bp = Blueprint('auth', __name__)\n",
        "\n",
        "@auth_bp.route('/login', methods=['GET', 'POST'])\n",
        "def login():\n",
        "    if request.method == 'POST':\n",
        "        username = request.form.get('username')\n",
        "        password = request.form.get('password')\n",
        "        if username == 'user' and password == 'pass':\n",
        "            flash('Logged in successfully!', 'success')\n",
        "            return redirect(url_for('auth.dashboard'))\n",
        "        else:\n",
        "            flash('Invalid credentials.', 'error')\n",
        "    return render_template_string('''\n",
        "        <form method=\"POST\">\n",
        "            <label for=\"username\">Username:</label><br>\n",
        "            <input type=\"text\" id=\"username\" name=\"username\"><br>\n",
        "            <label for=\"password\">Password:</label><br>\n",
        "            <input type=\"password\" id=\"password\" name=\"password\"><br><br>\n",
        "            <input type=\"submit\" value=\"Login\">\n",
        "        </form>\n",
        "        {% with messages = get_flashed_messages(with_categories=true) %}\n",
        "          {% if messages %}\n",
        "            <ul class=flashes>\n",
        "            {% for category, message in messages %}\n",
        "              <li class=\"{{ category }}\">{{ message }}</li>\n",
        "            {% endfor %}\n",
        "            </ul>\n",
        "          {% endif %}\n",
        "        {% endwith %}\n",
        "    ''')\n",
        "\n",
        "@auth_bp.route('/dashboard')\n",
        "def dashboard():\n",
        "    return 'Welcome to the Auth Dashboard!'\n",
        "\n",
        "# --- my_app/blog.py ---\n",
        "from flask import Blueprint, render_template\n",
        "\n",
        "blog_bp = Blueprint('blog', __name__)\n",
        "\n",
        "@blog_bp.route('/')\n",
        "def home():\n",
        "    return 'Welcome to the Blog!'\n",
        "\n",
        "@blog_bp.route('/post/<int:post_id>')\n",
        "def post(post_id):\n",
        "    return f'Viewing Blog Post {post_id}'\n",
        "\n",
        "# --- run.py (in the root directory, alongside 'my_app') ---\n",
        "# from my_app import create_app\n",
        "#\n",
        "# app = create_app()\n",
        "#\n",
        "# if __name__ == '__main__':\n",
        "#     app.run(debug=True)\n",
        "\n",
        "# To run this example, you would typically have the file structure and then run run.py.\n",
        "# For demonstration purposes, here's a minimal setup that can be run directly:\n",
        "from flask import Flask, Blueprint, render_template_string, request, flash, redirect, url_for\n",
        "\n",
        "app_blueprint_example = Flask(__name__)\n",
        "app_blueprint_example.config['SECRET_KEY'] = 'another_secret_key'\n",
        "\n",
        "auth_bp_example = Blueprint('auth_bp_example', __name__, url_prefix='/auth')\n",
        "blog_bp_example = Blueprint('blog_bp_example', __name__, url_prefix='/blog')\n",
        "\n",
        "@auth_bp_example.route('/login')\n",
        "def login_bp_example():\n",
        "    return 'Auth Blueprint Login Page'\n",
        "\n",
        "@blog_bp_example.route('/posts')\n",
        "def posts_bp_example():\n",
        "    return 'Blog Blueprint Posts Page'\n",
        "\n",
        "app_blueprint_example.register_blueprint(auth_bp_example)\n",
        "app_blueprint_example.register_blueprint(blog_bp_example)\n",
        "\n",
        "@app_blueprint_example.route('/')\n",
        "def index_blueprint_example():\n",
        "    return 'Main App Page'\n",
        "\n",
        "if __name__ == '__main__':\n",
        "    app_blueprint_example.run(debug=True, port=5001) # Using a different port to avoid conflict"
      ],
      "metadata": {
        "id": "5YCVLU7Fpz2x"
      },
      "execution_count": null,
      "outputs": []
    },
    {
      "cell_type": "code",
      "source": [
        "# 12. How do you define a custom Jinja filter in Flask?\n",
        "from flask import Flask, render_template_string\n",
        "\n",
        "app = Flask(__name__)\n",
        "\n",
        "# Custom Jinja filter to reverse a string\n",
        "@app.template_filter('reverse_string')\n",
        "def reverse_string_filter(s):\n",
        "    return s[::-1]\n",
        "\n",
        "# Custom Jinja filter to capitalize the first letter of each word\n",
        "@app.template_filter('capitalize_words')\n",
        "def capitalize_words_filter(s):\n",
        "    return ' '.join(word.capitalize() for word in s.split())\n",
        "\n",
        "@app.route('/')\n",
        "def index():\n",
        "    return render_template_string('''\n",
        "        <p>Original string: Hello World</p>\n",
        "        <p>Reversed string: {{ \"Hello World\" | reverse_string }}</p>\n",
        "        <p>Capitalized words: {{ \"this is a test string\" | capitalize_words }}</p>\n",
        "    ''')\n",
        "\n",
        "if __name__ == '__main__':\n",
        "    app.run(debug=True)"
      ],
      "metadata": {
        "id": "2YwzEVpcp0Il"
      },
      "execution_count": null,
      "outputs": []
    },
    {
      "cell_type": "code",
      "source": [
        "# 13. How can you redirect with query parameters in Flask?\n",
        "from flask import Flask, redirect, url_for, request\n",
        "\n",
        "app = Flask(__name__)\n",
        "\n",
        "@app.route('/')\n",
        "def index():\n",
        "    return 'Welcome! Go to /redirect_with_params to see a redirect.'\n",
        "\n",
        "@app.route('/redirect_with_params')\n",
        "def redirect_with_params():\n",
        "    # Redirect to '/target_page' with query parameters\n",
        "    return redirect(url_for('target_page', name='Alice', age=30, city='New York'))\n",
        "\n",
        "@app.route('/target_page')\n",
        "def target_page():\n",
        "    name = request.args.get('name')\n",
        "    age = request.args.get('age')\n",
        "    city = request.args.get('city')\n",
        "    return f'Welcome to the target page! Name: {name}, Age: {age}, City: {city}'\n",
        "\n",
        "if __name__ == '__main__':\n",
        "    app.run(debug=True)"
      ],
      "metadata": {
        "id": "ai_d-_FBp0aL"
      },
      "execution_count": null,
      "outputs": []
    },
    {
      "cell_type": "code",
      "source": [
        "# 14. How do you return JSON responses in Flask?\n",
        "from flask import Flask, jsonify, request\n",
        "\n",
        "app = Flask(__name__)\n",
        "\n",
        "@app.route('/api/data')\n",
        "def get_data():\n",
        "    data = {\n",
        "        \"name\": \"John Doe\",\n",
        "        \"age\": 30,\n",
        "        \"isStudent\": False,\n",
        "        \"courses\": [\"Math\", \"Science\", \"History\"]\n",
        "    }\n",
        "    return jsonify(data)\n",
        "\n",
        "@app.route('/api/post_data', methods=['POST'])\n",
        "def post_data():\n",
        "    if request.is_json:\n",
        "        received_data = request.get_json()\n",
        "        return jsonify({\"message\": \"Data received successfully!\", \"your_data\": received_data}), 200\n",
        "    else:\n",
        "        return jsonify({\"error\": \"Request must be JSON\"}), 400\n",
        "\n",
        "if __name__ == '__main__':\n",
        "    app.run(debug=True)"
      ],
      "metadata": {
        "id": "yU0dMrE4F8_W"
      },
      "execution_count": null,
      "outputs": []
    },
    {
      "cell_type": "code",
      "source": [
        "# 15. How do you capture URL parameters in Flask?\n",
        "from flask import Flask\n",
        "\n",
        "app = Flask(__name__)\n",
        "\n",
        "@app.route('/user/<username>')\n",
        "def show_user_profile(username):\n",
        "    # Captures 'username' from the URL path\n",
        "    return f'User profile for: {username}'\n",
        "\n",
        "@app.route('/post/<int:post_id>')\n",
        "def show_post(post_id):\n",
        "    # Captures 'post_id' as an integer\n",
        "    return f'Post ID: {post_id}'\n",
        "\n",
        "@app.route('/path/<path:subpath>')\n",
        "def show_subpath(subpath):\n",
        "    # Captures 'subpath' which can include slashes\n",
        "    return f'Subpath: {subpath}'\n",
        "\n",
        "@app.route('/greet/<string:name>/<int:times>')\n",
        "def greet_multiple_times(name, times):\n",
        "    # Captures multiple parameters with type converters\n",
        "    return f'Hello {name}! ' * times\n",
        "\n",
        "if __name__ == '__main__':\n",
        "    app.run(debug=True)"
      ],
      "metadata": {
        "id": "J5mThhDgF-2d"
      },
      "execution_count": null,
      "outputs": []
    }
  ]
}