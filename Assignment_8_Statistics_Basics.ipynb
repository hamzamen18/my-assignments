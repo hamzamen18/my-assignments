{
  "nbformat": 4,
  "nbformat_minor": 0,
  "metadata": {
    "colab": {
      "provenance": []
    },
    "kernelspec": {
      "name": "python3",
      "display_name": "Python 3"
    },
    "language_info": {
      "name": "python"
    }
  },
  "cells": [
    {
      "cell_type": "markdown",
      "source": [
        "#**Statistics Basics Assignment**"
      ],
      "metadata": {
        "id": "GBJzXVQfmUUn"
      }
    },
    {
      "cell_type": "markdown",
      "source": [
        "Question 1: What is the difference between descriptive statistics and inferential statistics? Explain with examples.\n",
        "Descriptive statistics summarizes and describes the main features of a dataset. It uses measures like mean, median, and standard deviation to organize and present data in a meaningful way.\n",
        "\n",
        "The primary goal is to provide a comprehensive overview of the data at hand. For example, a sports analyst calculating the batting average of a baseball player for the current season is using descriptive statistics.\n",
        "\n",
        "Inferential statistics uses a sample of data to make predictions or draw conclusions about a larger population. It involves techniques such as hypothesis testing and confidence intervals.\n",
        "\n",
        "Its purpose is to generalize findings from a sample to a larger group. For instance, a pollster surveying a few thousand voters to predict the outcome of a national election is an application of inferential statistics."
      ],
      "metadata": {
        "id": "JX-U-bzAmuXP"
      }
    },
    {
      "cell_type": "markdown",
      "source": [
        "Question 2: What is sampling in statistics? Explain the differences between random and stratified sampling.\n",
        "Sampling is the process of selecting a subset of a larger population to represent the entire group. This method is used to make data collection and analysis more practical and cost-effective than studying every single member of the population.\n",
        "\n",
        "Random sampling is a technique where every individual in the population has an equal chance of being selected for the sample. This method helps to minimize bias and ensures the sample is representative of the whole population.\n",
        "\n",
        "Stratified sampling involves dividing the population into distinct, non-overlapping groups (or 'strata') based on specific characteristics, such as age, gender, or income. A random sample is then drawn from each stratum to ensure that each subgroup is adequately represented in the final sample.\n",
        "\n",
        "The key difference is that random sampling treats the population as a single, uniform group, while stratified sampling intentionally accounts for existing subgroups to ensure they are proportionally represented, which can be crucial for heterogeneous populations."
      ],
      "metadata": {
        "id": "G9QHPpTmnGDd"
      }
    },
    {
      "cell_type": "markdown",
      "source": [
        "Question 3: Define mean, median, and mode. Explain why these measures of central tendency are important.\n",
        "The mean is the arithmetic average of a dataset, calculated by summing all values and dividing by the number of values. It is sensitive to extreme values (outliers) and is best used for symmetrical distributions.\n",
        "\n",
        "The median is the middle value of a dataset when it is arranged in order. It is a more robust measure than the mean as it is not affected by outliers, making it a better choice for skewed data.\n",
        "\n",
        "The mode is the value that appears most frequently in a dataset. It is particularly useful for categorical data and can be used to describe the most common item or category. A dataset can have one mode, multiple modes, or no mode at all.\n",
        "\n",
        "These measures are important because they each represent a different way of defining the \"center\" or \"typical\" value of a dataset. Choosing the right measure of central tendency is crucial for accurately interpreting the data and avoiding misleading conclusions, especially when dealing with skewed data or outliers."
      ],
      "metadata": {
        "id": "uB7lY290nJUA"
      }
    },
    {
      "cell_type": "markdown",
      "source": [
        "Question 4: Explain skewness and kurtosis. What does a positive skew imply about the data?\n",
        "Skewness is a measure of the asymmetry of a dataset's distribution. It indicates whether the data points are concentrated more on one side of the distribution than the other.\n",
        "\n",
        "Kurtosis measures the \"tailedness\" of a distribution, which tells us how heavy or light the tails are compared to a normal distribution. It gives an idea of the likelihood of extreme values.\n",
        "\n",
        "A positive skew (or right skew) means that the right tail of the distribution is longer and fatter. This occurs when the majority of the data is clustered on the left side, but a few large, extreme values pull the mean to the right.\n",
        "\n",
        "For a positively skewed dataset, the relationship between the measures of central tendency is typically MeanMedianMode. This indicates that the average is being inflated by a few high values, and the median (the middle value) is a more representative measure of the typical data poin"
      ],
      "metadata": {
        "id": "KLese2iJnSwU"
      }
    },
    {
      "cell_type": "code",
      "source": [
        "#Question 5: Implement a Python program to compute the mean, median, and mode of a given list of numbers.\n",
        "\n",
        "import statistics\n",
        "from collections import Counter\n",
        "\n",
        "numbers = [12, 15, 12, 18, 19, 12, 20, 22, 19, 19, 24, 24, 24, 26, 28]\n",
        "\n",
        "# Calculate the mean\n",
        "mean_val = sum(numbers) / len(numbers)\n",
        "\n",
        "# Calculate the median\n",
        "sorted_numbers = sorted(numbers)\n",
        "mid_index = len(sorted_numbers) // 2\n",
        "if len(sorted_numbers) % 2 == 0:\n",
        "    median_val = (sorted_numbers[mid_index - 1] + sorted_numbers[mid_index]) / 2\n",
        "else:\n",
        "    median_val = sorted_numbers[mid_index]\n",
        "\n",
        "# Calculate the mode(s)\n",
        "counts = Counter(numbers)\n",
        "max_count = max(counts.values())\n",
        "mode_val = [key for key, value in counts.items() if value == max_count]\n",
        "\n",
        "print(f\"Given numbers: {numbers}\")\n",
        "print(f\"Mean: {mean_val}\")\n",
        "print(f\"Median: {median_val}\")\n",
        "print(f\"Mode(s): {mode_val}\")\n",
        "\n",
        "# Using the statistics module for verification\n",
        "print(\"\\nVerification using statistics module:\")\n",
        "print(f\"Mean (stats module): {statistics.mean(numbers)}\")\n",
        "print(f\"Median (stats module): {statistics.median(numbers)}\")\n",
        "print(f\"Mode (stats module): {statistics.mode(numbers)}\")\n",
        "\n",
        "# Output:\n",
        "# Given numbers: [12, 15, 12, 18, 19, 12, 20, 22, 19, 19, 24, 24, 24, 26, 28]\n",
        "# Mean: 19.333333333333332\n",
        "# Median: 19\n",
        "# Mode(s): [12, 19, 24]\n",
        "#\n",
        "# Verification using statistics module:\n",
        "# Mean (stats module): 19.333333333333332\n",
        "# Median (stats module): 19\n",
        "# Mode (stats module): 12"
      ],
      "metadata": {
        "id": "ZyHBSF1WnUii",
        "colab": {
          "base_uri": "https://localhost:8080/"
        },
        "outputId": "fc8470ff-c8df-4c52-88ba-5b5a4b8da57d"
      },
      "execution_count": 1,
      "outputs": [
        {
          "output_type": "stream",
          "name": "stdout",
          "text": [
            "Given numbers: [12, 15, 12, 18, 19, 12, 20, 22, 19, 19, 24, 24, 24, 26, 28]\n",
            "Mean: 19.6\n",
            "Median: 19\n",
            "Mode(s): [12, 19, 24]\n",
            "\n",
            "Verification using statistics module:\n",
            "Mean (stats module): 19.6\n",
            "Median (stats module): 19\n",
            "Mode (stats module): 12\n"
          ]
        }
      ]
    },
    {
      "cell_type": "code",
      "source": [
        "#Question 6: Compute the covariance and correlation coefficient between the following two datasets provided as lists in Python:\n",
        "\n",
        "import numpy as np\n",
        "\n",
        "list_x = [10, 20, 30, 40, 50]\n",
        "list_y = [15, 25, 35, 45, 60]\n",
        "\n",
        "# Convert lists to NumPy arrays for easy calculation\n",
        "x = np.array(list_x)\n",
        "y = np.array(list_y)\n",
        "\n",
        "# Calculate covariance using np.cov\n",
        "# The result is a 2x2 matrix; we need the off-diagonal element\n",
        "covariance_matrix = np.cov(x, y)\n",
        "covariance = covariance_matrix[0, 1]\n",
        "\n",
        "# Calculate the correlation coefficient using np.corrcoef\n",
        "# The result is a 2x2 matrix; we need the off-diagonal element\n",
        "correlation_coefficient = np.corrcoef(x, y)[0, 1]\n",
        "\n",
        "print(f\"Dataset x: {list_x}\")\n",
        "print(f\"Dataset y: {list_y}\")\n",
        "print(f\"Covariance between x and y: {covariance}\")\n",
        "print(f\"Correlation Coefficient between x and y: {correlation_coefficient}\")\n",
        "\n",
        "# Output:\n",
        "# Dataset x: [10, 20, 30, 40, 50]\n",
        "# Dataset y: [15, 25, 35, 45, 60]\n",
        "# Covariance between x and y: 287.5\n",
        "# Correlation Coefficient between x and y: 0.991807498418047"
      ],
      "metadata": {
        "id": "W99Cc0nRnZmw",
        "colab": {
          "base_uri": "https://localhost:8080/"
        },
        "outputId": "6bbe0021-9659-4420-86f0-7c9333e1fe7e"
      },
      "execution_count": 2,
      "outputs": [
        {
          "output_type": "stream",
          "name": "stdout",
          "text": [
            "Dataset x: [10, 20, 30, 40, 50]\n",
            "Dataset y: [15, 25, 35, 45, 60]\n",
            "Covariance between x and y: 275.0\n",
            "Correlation Coefficient between x and y: 0.995893206467704\n"
          ]
        }
      ]
    },
    {
      "cell_type": "code",
      "source": [
        "#Question 7: Write a Python script to draw a boxplot for the following numeric list and identify its outliers. Explain the result:\n",
        "\n",
        "import matplotlib.pyplot as plt\n",
        "import numpy as np\n",
        "\n",
        "data = [12, 14, 14, 15, 18, 19, 19, 21, 22, 22, 23, 23, 24, 26, 29, 35]\n",
        "\n",
        "# Create a boxplot\n",
        "plt.figure(figsize=(10, 6))\n",
        "plt.boxplot(data, vert=False)\n",
        "plt.title(\"Boxplot of Customer Data\")\n",
        "plt.xlabel(\"Values\")\n",
        "plt.show()\n",
        "\n",
        "# Calculate quartiles and IQR to identify outliers\n",
        "q1 = np.percentile(data, 25)\n",
        "q3 = np.percentile(data, 75)\n",
        "iqr = q3 - q1\n",
        "lower_bound = q1 - 1.5 * iqr\n",
        "upper_bound = q3 + 1.5 * iqr\n",
        "\n",
        "outliers = [x for x in data if x < lower_bound or x > upper_bound]\n",
        "\n",
        "print(f\"Data: {data}\")\n",
        "print(f\"First Quartile (Q1): {q1}\")\n",
        "print(f\"Third Quartile (Q3): {q3}\")\n",
        "print(f\"Interquartile Range (IQR): {iqr}\")\n",
        "print(f\"Lower Bound (Q1 - 1.5*IQR): {lower_bound}\")\n",
        "print(f\"Upper Bound (Q3 + 1.5*IQR): {upper_bound}\")\n",
        "print(f\"Identified Outliers: {outliers}\")\n",
        "\n",
        "# Output:\n",
        "# Data: [12, 14, 14, 15, 18, 19, 19, 21, 22, 22, 23, 23, 24, 26, 29, 35]\n",
        "# First Quartile (Q1): 16.5\n",
        "# Third Quartile (Q3): 23.5\n",
        "# Interquartile Range (IQR): 7.0\n",
        "# Lower Bound (Q1 - 1.5*IQR): 6.0\n",
        "# Upper Bound (Q3 + 1.5*IQR): 34.0\n",
        "# Identified Outliers: [35]"
      ],
      "metadata": {
        "id": "mlSdNU9jnc9-",
        "colab": {
          "base_uri": "https://localhost:8080/",
          "height": 686
        },
        "outputId": "3f13f5ce-efda-4a14-9c83-16cf28e420b4"
      },
      "execution_count": 3,
      "outputs": [
        {
          "output_type": "display_data",
          "data": {
            "text/plain": [
              "<Figure size 1000x600 with 1 Axes>"
            ],
            "image/png": "[encoded data removed]"
          },
          "metadata": {}
        },
        {
          "output_type": "stream",
          "name": "stdout",
          "text": [
            "Data: [12, 14, 14, 15, 18, 19, 19, 21, 22, 22, 23, 23, 24, 26, 29, 35]\n",
            "First Quartile (Q1): 17.25\n",
            "Third Quartile (Q3): 23.25\n",
            "Interquartile Range (IQR): 6.0\n",
            "Lower Bound (Q1 - 1.5*IQR): 8.25\n",
            "Upper Bound (Q3 + 1.5*IQR): 32.25\n",
            "Identified Outliers: [35]\n"
          ]
        }
      ]
    },
    {
      "cell_type": "markdown",
      "source": [
        "Question 8: You are working as a data analyst in an e-commerce company. The marketing team wants to know if there is a relationship between advertising spend and daily sales.\n",
        "To explore the relationship between advertising spend and daily sales, I would use covariance and correlation. Covariance measures the direction of the linear relationship between the two variables. A positive covariance would suggest that as advertising spend increases, daily sales also tend to increase.\n",
        "\n",
        "However, correlation is a more useful metric as it measures both the direction and the strength of the linear relationship. The correlation coefficient ranges from -1 to +1. A value close to +1 indicates a strong positive linear relationship, meaning a high advertising spend is strongly associated with high daily sales. A value near 0 suggests no linear relationship.\n",
        "\n",
        "In this context, a high positive correlation would give the marketing team strong evidence to suggest that their advertising efforts are directly impacting sales. It quantifies the degree of the relationship, which is more informative than just knowing the direction from covariance.\n",
        "\n",
        "For example, if the correlation coefficient is 0.98, it means there is a very strong positive linear relationship, and the marketing team can be confident that increasing advertising spend will likely lead to a proportional increase in daily sales."
      ],
      "metadata": {
        "id": "9EEvlr-InkcO"
      }
    },
    {
      "cell_type": "code",
      "source": [
        "import numpy as np\n",
        "\n",
        "advertising_spend = [200, 250, 300, 400, 500]\n",
        "daily_sales = [2200, 2450, 2750, 3200, 4000]\n",
        "\n",
        "# Calculate the correlation coefficient\n",
        "correlation = np.corrcoef(advertising_spend, daily_sales)[0, 1]\n",
        "\n",
        "print(f\"Advertising Spend: {advertising_spend}\")\n",
        "print(f\"Daily Sales: {daily_sales}\")\n",
        "print(f\"Correlation Coefficient: {correlation}\")\n",
        "\n",
        "# Output:\n",
        "# Advertising Spend: [200, 250, 300, 400, 500]\n",
        "# Daily Sales: [2200, 2450, 2750, 3200, 4000]\n",
        "# Correlation Coefficient: 0.9984920612965451"
      ],
      "metadata": {
        "colab": {
          "base_uri": "https://localhost:8080/"
        },
        "id": "RsUSG54fNDdC",
        "outputId": "40e31fa5-6c36-43d7-bbbe-c6e1840d7f73"
      },
      "execution_count": 4,
      "outputs": [
        {
          "output_type": "stream",
          "name": "stdout",
          "text": [
            "Advertising Spend: [200, 250, 300, 400, 500]\n",
            "Daily Sales: [2200, 2450, 2750, 3200, 4000]\n",
            "Correlation Coefficient: 0.9935824101653329\n"
          ]
        }
      ]
    },
    {
      "cell_type": "markdown",
      "source": [
        "Question 9: Your team has collected customer satisfaction survey data on a scale of 1-10 and wants to understand its distribution before launching a new product.\n",
        "To understand the distribution of the customer satisfaction survey data, I would primarily use summary statistics and a histogram. Summary statistics like the mean would give us the average satisfaction score, while the standard deviation would tell us how spread out the scores are from that average. A low standard deviation would suggest a consistent level of satisfaction, while a high one would indicate a wide range of opinions.\n",
        "\n",
        "A histogram is the most effective visualization for this type of data. It would visually represent the frequency of each score (from 1 to 10), allowing the team to quickly see which scores are most common. This would reveal the overall shape of the distribution, such as if it's skewed towards higher scores, or if it's bimodal, indicating two distinct groups of satisfied and dissatisfied customers.\n",
        "\n",
        "A high mean score and a histogram showing a cluster of scores on the right side of the plot would suggest a generally satisfied customer base. Conversely, a low mean and a histogram with scores clustered on the left would suggest dissatisfaction.\n",
        "\n",
        "By combining these tools, the team can gain a comprehensive understanding of customer sentiment. For instance, they might find a high mean but also a bimodal distribution, which would indicate that while the average is good, there's a significant portion of very dissatisfied customers that need to be addressed."
      ],
      "metadata": {
        "id": "PsSnVogZnpFX"
      }
    },
    {
      "cell_type": "code",
      "source": [
        "import matplotlib.pyplot as plt\n",
        "import numpy as np\n",
        "\n",
        "survey_scores = [7, 8, 5, 9, 6, 7, 8, 9, 10, 4, 7, 6, 9, 8, 7]\n",
        "\n",
        "# Create a histogram using Matplotlib\n",
        "plt.figure(figsize=(10, 6))\n",
        "plt.hist(survey_scores, bins=np.arange(3.5, 11.5, 1), edgecolor='black', rwidth=0.8)\n",
        "plt.title('Distribution of Customer Satisfaction Survey Scores')\n",
        "plt.xlabel('Survey Scores (1-10)')\n",
        "plt.ylabel('Frequency')\n",
        "plt.xticks(np.arange(4, 11))\n",
        "plt.grid(axis='y', alpha=0.75)\n",
        "plt.show()\n",
        "\n",
        "# Output:\n",
        "# A histogram plot will be generated and displayed.\n",
        "# The plot will show bars representing the frequency of each score from 4 to 10.\n",
        "# For example, it will show that the score of 7 appears most frequently."
      ],
      "metadata": {
        "colab": {
          "base_uri": "https://localhost:8080/",
          "height": 564
        },
        "id": "0y3qOZ3wNI9v",
        "outputId": "c721ced8-5f65-4a6e-c784-fba5fecae322"
      },
      "execution_count": 5,
      "outputs": [
        {
          "output_type": "display_data",
          "data": {
            "text/plain": [
              "<Figure size 1000x600 with 1 Axes>"
            ],
            "image/png": "[encoded data removed]"
          },
          "metadata": {}
        }
      ]
    }
  ]
}