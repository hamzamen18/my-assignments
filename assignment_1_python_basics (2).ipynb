{
  "nbformat": 4,
  "nbformat_minor": 0,
  "metadata": {
    "colab": {
      "provenance": []
    },
    "kernelspec": {
      "name": "python3",
      "display_name": "Python 3"
    },
    "language_info": {
      "name": "python"
    }
  },
  "cells": [
    {
      "cell_type": "markdown",
      "source": [
        "**Assignment 1 python basics theory section**"
      ],
      "metadata": {
        "id": "5463KOgd1uKa"
      }
    },
    {
      "cell_type": "markdown",
      "source": [
        "1. What is Python, and why is it popular?\n",
        "- Python is a versatile, high-level programming language created by Guido van Rossum in 1991. Its clear, English-like syntax makes it easy to read and write, which is a big reason both beginners and seasoned developers love it. Python’s extensive standard library and thriving ecosystem of third-party packages cover everything from web frameworks (Django, Flask) to data science tools (Pandas, NumPy) and machine learning libraries (scikit-learn, TensorFlow). Because it supports multiple programming styles—procedural, object-oriented, and functional—Python adapts to a wide range of projects, driving its popularity across industry, academia, and open-source communities."
      ],
      "metadata": {
        "id": "3rqy_C9b5d2S"
      }
    },
    {
      "cell_type": "markdown",
      "source": [
        "2. What is an interpreter in Python?\n",
        "- The Python interpreter is the engine that takes your human-readable code, parses it, and executes it line by line. Unlike a compiled language, where source code is turned into a standalone binary, Python’s interpreter converts your script into bytecode on the fly and runs that bytecode on a virtual machine. This on-the-spot execution model lets you experiment interactively in the REPL (Read-Eval-Print Loop), debug more easily, and enjoy seamless cross-platform compatibility—at the cost of a slight performance trade-off compared to fully compiled languages."
      ],
      "metadata": {
        "id": "UEvdmXi65kz4"
      }
    },
    {
      "cell_type": "markdown",
      "source": [
        "3. What are pre-defined keywords in Python?\n",
        "- Pre-defined keywords are the building blocks of Python’s syntax. Words like if, else, for, while, def, class, try, except, import, lambda, and return have special meanings that the interpreter recognizes during parsing. They define core constructs—conditional logic, loops, function and class definitions, exception handling, and module importation. Since these keywords drive the language’s grammar, you cannot use them as names for your own variables, functions, or classes."
      ],
      "metadata": {
        "id": "IXWfsJBA54iD"
      }
    },
    {
      "cell_type": "markdown",
      "source": [
        "4. Can keywords be used as variable names?\n",
        "- No. Because keywords carry specific, predefined roles in Python’s syntax, the interpreter will raise a SyntaxError if you try to assign a variable, function, or class with a keyword name (for example, for = 5 or def = \"hello\"). Reserving these words ensures clarity in your code and prevents ambiguity in how the interpreter reads your scripts. Instead, choose descriptive identifiers—like count, result, or user_input—that don’t shadow Python’s core vocabulary."
      ],
      "metadata": {
        "id": "_xdAgvDp6A1T"
      }
    },
    {
      "cell_type": "markdown",
      "source": [
        "5. What is mutability in Python?\n",
        "- Mutability describes whether an object’s content can change after it’s created. Mutable objects—such as lists, dictionaries, and sets—allow in-place updates: you can add, remove, or modify their elements without creating a new object. Immutable objects—like integers, floats, strings, and tuples—cannot be altered once they exist; any “change” produces a new object. Grasping mutability helps you avoid unintended side effects, especially when passing data between functions, and it informs decisions around performance and thread safety."
      ],
      "metadata": {
        "id": "KrSzghh46GRa"
      }
    },
    {
      "cell_type": "markdown",
      "source": [
        "6. Why are lists mutable, but tuples are immutable?\n",
        "- Lists are built for flexibility: you can append, insert, sort, or remove elements on the fly, making them ideal for collections that evolve over time. Behind the scenes, Python manages the memory layout to accommodate these changes. Tuples, on the other hand, have a fixed size once created. Their immutability allows Python to optimize storage and access speed, and it makes tuples hashable (provided their contents are hashable), which means you can use them as keys in dictionaries or elements of sets."
      ],
      "metadata": {
        "id": "3E8psDYF6I0X"
      }
    },
    {
      "cell_type": "markdown",
      "source": [
        "7. What is the difference between == and is operators in Python?\n",
        "- The == operator checks whether two objects have the same value by invoking their __eq__ method. For instance, [1, 2, 3] == [1, 2, 3] returns True even though they are distinct objects. The is operator, however, tests identity: it returns True only if both references point to the exact same object in memory. Understanding this distinction prevents bugs, especially when working with mutable structures or relying on Python’s internal optimizations for small or interned objects."
      ],
      "metadata": {
        "id": "hqUp6GvN6QC0"
      }
    },
    {
      "cell_type": "markdown",
      "source": [
        "8. What are logical operators in Python?\n",
        "- Python’s logical operators—and, or, and not—let you combine or invert Boolean expressions:\n",
        "\n",
        "and returns the first falsy operand or the last operand if all are truthy.\n",
        "\n",
        "or returns the first truthy operand or the last operand if all are falsy.\n",
        "\n",
        "not flips a value’s truthiness.\n",
        "These operators short-circuit evaluation, meaning they stop as soon as the outcome is determined, which can improve performance and control flow in complex conditionals."
      ],
      "metadata": {
        "id": "BZo3Elks6UQC"
      }
    },
    {
      "cell_type": "markdown",
      "source": [
        "9. What is type casting in Python?\n",
        "- Type casting (or type conversion) means transforming a value from one data type to another. Python provides built-in functions like int(), float(), str(), list(), and tuple() for this purpose. For example, int(\"42\") yields the integer 42, and str(3.14) yields the string \"3.14\". You’ll often cast types when handling user input (always a string), parsing file data, or preparing values for arithmetic and concatenation operations."
      ],
      "metadata": {
        "id": "RgTuhabw6Ymu"
      }
    },
    {
      "cell_type": "markdown",
      "source": [
        "10. What is the difference between implicit and explicit type casting?\n",
        "\n",
        "-Implicit casting happens automatically when Python promotes one type to another to perform an operation safely—like converting an integer to a float in 5 + 2.0 → 7.0.\n",
        "\n",
        "Explicit casting requires you to call a conversion function (e.g., int(\"123\") or float(5)) to change a value’s type intentionally.\n",
        "Explicit casting gives you control and the opportunity to handle errors (such as invalid string formats), while implicit casting keeps simple mixed-type operations seamless."
      ],
      "metadata": {
        "id": "CIn3EFRL6fHw"
      }
    },
    {
      "cell_type": "markdown",
      "source": [
        "11. What is the purpose of conditional statements in Python?\n",
        "- Conditional statements (if, elif, else) guide your program’s decision-making by executing specific blocks of code only when certain conditions are met. They let your application react to different inputs or states—for example, validating user credentials before granting access or tailoring responses based on data values. Clear, well-structured conditionals enhance code readability and maintainability, making complex logic easier to follow."
      ],
      "metadata": {
        "id": "DXK8Nchj6pN1"
      }
    },
    {
      "cell_type": "markdown",
      "source": [
        "12. How does the elif statement work?\n",
        "- The elif (else-if) keyword lets you check additional conditions when the initial if evaluates to False. Python evaluates each condition in sequence: the first one that’s True executes its block, and the rest are skipped. If none match, an optional else block can handle the “fallback” case. This approach avoids deeply nested if statements and makes your branching logic straightforward."
      ],
      "metadata": {
        "id": "cpokR4If6vIT"
      }
    },
    {
      "cell_type": "markdown",
      "source": [
        "13. What is the difference between for and while loops?\n",
        "- A for loop iterates directly over the elements of a known sequence (like a list, string, or range), handling counter updates and termination automatically. It’s perfect for situations where you know how many steps you need. A while loop, in contrast, continues as long as a given condition remains True, giving you the flexibility to loop until a dynamic or external condition changes. However, you must manage loop variables and termination yourself to avoid infinite loops."
      ],
      "metadata": {
        "id": "S2HiSiem6zEL"
      }
    },
    {
      "cell_type": "markdown",
      "source": [
        "14. Describe a scenario where a while loop is more suitable than a for loop.\n",
        "-   authenticated = False\n",
        "\n",
        "    while not authenticated:\n",
        "\n",
        "    username = input(\"Username: \")\n",
        "\n",
        "    password = input(\"Password: \")\n",
        "\n",
        "    authenticated = check_credentials(username, password)\n",
        "    \n",
        "    print(\"Access granted.\")\n",
        "\n",
        "Since we don’t know how many attempts it will take, a while loop is ideal.\n",
        "and hence here, the loop naturally continues until authentication succeeds."
      ],
      "metadata": {
        "id": "XGUKiH6J63je"
      }
    },
    {
      "cell_type": "code",
      "source": [],
      "metadata": {
        "id": "IsPmJFTp7Ln9"
      },
      "execution_count": 31,
      "outputs": []
    },
    {
      "cell_type": "markdown",
      "source": [],
      "metadata": {
        "id": "o_m_g51N71cq"
      }
    },
    {
      "cell_type": "markdown",
      "source": [
        "**Assignment 1 python basics practical section**"
      ],
      "metadata": {
        "id": "kQN3WO1q716_"
      }
    },
    {
      "cell_type": "code",
      "source": [
        "# Question 1. Write a Python program to print \"Hello, World!\"\n",
        "\n",
        "print(\"Hello, World!\")\n"
      ],
      "metadata": {
        "colab": {
          "base_uri": "https://localhost:8080/"
        },
        "id": "rCBQ9D4G74L9",
        "outputId": "b938283c-2307-4e06-9ab6-99d542c616ca"
      },
      "execution_count": 32,
      "outputs": [
        {
          "output_type": "stream",
          "name": "stdout",
          "text": [
            "Hello, World!\n"
          ]
        }
      ]
    },
    {
      "cell_type": "code",
      "source": [
        "# Question 2. Write a Python program that displays your name and age\n",
        "\n",
        "name = \"Hamza Menghrani\"\n",
        "age = 23\n",
        "print(f\"My name is {name} and I am {age} years old.\")\n",
        "\n",
        "\n"
      ],
      "metadata": {
        "colab": {
          "base_uri": "https://localhost:8080/"
        },
        "id": "jARlIm2E8cND",
        "outputId": "2c20e3f7-7722-48cc-8509-2d89331ff046"
      },
      "execution_count": 33,
      "outputs": [
        {
          "output_type": "stream",
          "name": "stdout",
          "text": [
            "My name is Hamza Menghrani and I am 23 years old.\n"
          ]
        }
      ]
    },
    {
      "cell_type": "code",
      "source": [
        "# Question 3 Write code to print all the pre-defined keywords in Python using the keyword library\n",
        "\n",
        "import keyword\n",
        "\n",
        "all_keywords = keyword.kwlist\n",
        "print(\"Python keywords:\", all_keywords)\n"
      ],
      "metadata": {
        "colab": {
          "base_uri": "https://localhost:8080/"
        },
        "id": "8nC5mHU_8v2-",
        "outputId": "300eb4f6-22c3-4453-ad9a-f3d5e78b6a17"
      },
      "execution_count": 34,
      "outputs": [
        {
          "output_type": "stream",
          "name": "stdout",
          "text": [
            "Python keywords: ['False', 'None', 'True', 'and', 'as', 'assert', 'async', 'await', 'break', 'class', 'continue', 'def', 'del', 'elif', 'else', 'except', 'finally', 'for', 'from', 'global', 'if', 'import', 'in', 'is', 'lambda', 'nonlocal', 'not', 'or', 'pass', 'raise', 'return', 'try', 'while', 'with', 'yield']\n"
          ]
        }
      ]
    },
    {
      "cell_type": "code",
      "source": [
        "# Question 4 Write a program that checks if a given word is a Python keyword.\n",
        "\n",
        "import keyword\n",
        "\n",
        "word = input(\"Enter a word: \")\n",
        "if keyword.iskeyword(word):\n",
        "    print(f\"'{word}' is a Python keyword.\")\n",
        "else:\n",
        "    print(f\"'{word}' is NOT a Python keyword.\")"
      ],
      "metadata": {
        "colab": {
          "base_uri": "https://localhost:8080/"
        },
        "id": "wEAU2anS80kf",
        "outputId": "93afad02-9052-4980-fa16-bdd36a980e05"
      },
      "execution_count": 35,
      "outputs": [
        {
          "output_type": "stream",
          "name": "stdout",
          "text": [
            "Enter a word: eif\n",
            "'eif' is NOT a Python keyword.\n"
          ]
        }
      ]
    },
    {
      "cell_type": "code",
      "source": [
        "# Question 5 Create a list and tuple in Python, and demonstrate how attempting to change an element works differently for each.\n",
        "\n",
        "lst = [10, 20, 30]\n",
        "tup = (10, 20, 30)\n",
        "lst[1] = 99\n",
        "try:\n",
        "    tup[1] = 99\n",
        "except TypeError:\n",
        "    pass\n",
        "print(\"List\", lst, \"Tuple\", tup)\n",
        "\n",
        "\n"
      ],
      "metadata": {
        "colab": {
          "base_uri": "https://localhost:8080/"
        },
        "id": "uT0-tE1I-UOX",
        "outputId": "fd096cdf-ac57-4c6f-b206-2a254ba24f20"
      },
      "execution_count": 36,
      "outputs": [
        {
          "output_type": "stream",
          "name": "stdout",
          "text": [
            "List [10, 99, 30] Tuple (10, 20, 30)\n"
          ]
        }
      ]
    },
    {
      "cell_type": "code",
      "source": [
        "# Question 6 Write a function to demonstrate the behavior of mutable and immutable arguments.\n",
        "\n",
        "def demo(x, lst):\n",
        "    x += 1\n",
        "    lst.append(99)\n",
        "\n",
        "n = 10\n",
        "items = [1, 2, 3]\n",
        "demo(n, items)\n",
        "print(\"mutable\", n)      # 10\n",
        "print(\"immutable\", items) # [1, 2, 3, 99]\n",
        "\n"
      ],
      "metadata": {
        "colab": {
          "base_uri": "https://localhost:8080/"
        },
        "id": "r8JOIy8v9kae",
        "outputId": "07da0189-4221-4d11-d5f6-481bdd57ec90"
      },
      "execution_count": 37,
      "outputs": [
        {
          "output_type": "stream",
          "name": "stdout",
          "text": [
            "mutable 10\n",
            "immutable [1, 2, 3, 99]\n"
          ]
        }
      ]
    },
    {
      "cell_type": "code",
      "source": [
        "# Question 7 Write a program that performs basic arithmetic operations on two user-input numbers.\n",
        "\n",
        "a = float(input(\"Enter first number: \"))\n",
        "b = float(input(\"Enter second number: \"))\n",
        "\n",
        "print(\"Sum:\", a + b)\n",
        "print(\"Difference:\", a - b)\n",
        "print(\"Product:\", a * b)\n",
        "print(\"Quotient:\", a / b if b != 0 else \"undefined (division by zero)\")\n",
        "print(\"Remainder:\", a % b if b != 0 else \"undefined\")\n"
      ],
      "metadata": {
        "colab": {
          "base_uri": "https://localhost:8080/"
        },
        "id": "RhIQJtsQ-xGe",
        "outputId": "36b3ddb0-6c5a-49f6-e3ea-b80385cc1720"
      },
      "execution_count": 38,
      "outputs": [
        {
          "output_type": "stream",
          "name": "stdout",
          "text": [
            "Enter first number: 10\n",
            "Enter second number: 5\n",
            "Sum: 15.0\n",
            "Difference: 5.0\n",
            "Product: 50.0\n",
            "Quotient: 2.0\n",
            "Remainder: 0.0\n"
          ]
        }
      ]
    },
    {
      "cell_type": "code",
      "source": [
        "# Question 8\n",
        "\n",
        "a = float(input(\"Enter roll no: \"))\n",
        "b = float(input(\"Enter age: \"))\n",
        "\n",
        "# Example: check if roll_no is even AND age is at least 18\n",
        "if a % 2 == 0 and b >= 18:\n",
        "    print(\"Even roll number and adult.\")\n",
        "elif a % 2 == 0 or b >= 18:\n",
        "    print(\"Either even roll number or adult (or both).\")\n",
        "else:\n",
        "    print(\"Odd roll number and minor.\")\n"
      ],
      "metadata": {
        "colab": {
          "base_uri": "https://localhost:8080/"
        },
        "id": "eqUtcuY2_5r0",
        "outputId": "ee8bea21-6ea9-4761-a568-08d634f9352a"
      },
      "execution_count": 39,
      "outputs": [
        {
          "output_type": "stream",
          "name": "stdout",
          "text": [
            "Enter roll no: 45\n",
            "Enter age: 56\n",
            "Either even roll number or adult (or both).\n"
          ]
        }
      ]
    },
    {
      "cell_type": "code",
      "source": [
        "# Question 9 Write a Python program to convert user input from string to integer, float, and boolean types\n",
        "\n",
        "s = input(\"Enter something: \")  # e.g. \"123\", \"3.14\", \"True\"\n",
        "\n",
        "as_int = int(s)      # may ValueError if not integer format\n",
        "as_float = float(s)  # may ValueError if not float format\n",
        "as_bool = bool(s)    # any non-empty string → True\n",
        "\n",
        "print(\"As integer:\", as_int)\n",
        "print(\"As float:\", as_float)\n",
        "print(\"As boolean:\", as_bool)\n"
      ],
      "metadata": {
        "colab": {
          "base_uri": "https://localhost:8080/"
        },
        "id": "mxQbd7ewCONf",
        "outputId": "83d11b03-7263-405e-c40d-14565f8b8a55"
      },
      "execution_count": 40,
      "outputs": [
        {
          "output_type": "stream",
          "name": "stdout",
          "text": [
            "Enter something: 45\n",
            "As integer: 45\n",
            "As float: 45.0\n",
            "As boolean: True\n"
          ]
        }
      ]
    },
    {
      "cell_type": "code",
      "source": [
        "# Question 10 Write code to demonstrate type casting with list elements.\n",
        "\n",
        "str_list = [\"1\", \"2\", \"3\", \"4\"]\n",
        "int_list = [int(x) for x in str_list]\n",
        "float_list = [float(x) for x in str_list]\n",
        "\n",
        "print(\"Original strings:\", str_list)\n",
        "print(\"As integers:\", int_list)\n",
        "print(\"As floats:\", float_list)\n"
      ],
      "metadata": {
        "colab": {
          "base_uri": "https://localhost:8080/"
        },
        "id": "qPpqcFYhCavk",
        "outputId": "43464a51-29ff-4b57-ed1f-5384725a3a3c"
      },
      "execution_count": 41,
      "outputs": [
        {
          "output_type": "stream",
          "name": "stdout",
          "text": [
            "Original strings: ['1', '2', '3', '4']\n",
            "As integers: [1, 2, 3, 4]\n",
            "As floats: [1.0, 2.0, 3.0, 4.0]\n"
          ]
        }
      ]
    },
    {
      "cell_type": "code",
      "source": [
        "# Question 11 Write a program that checks if a number is positive, negative, or zero.\n",
        "\n",
        "n = float(input(\"Enter a number: \"))\n",
        "if n > 0:\n",
        "    print(\"Positive\")\n",
        "elif n < 0:\n",
        "    print(\"Negative\")\n",
        "else:\n",
        "    print(\"Zero\")\n"
      ],
      "metadata": {
        "colab": {
          "base_uri": "https://localhost:8080/"
        },
        "id": "B9EZ1s_IClxY",
        "outputId": "1c88eb13-1f93-4e72-a4e1-542cf97ec7ce"
      },
      "execution_count": 42,
      "outputs": [
        {
          "output_type": "stream",
          "name": "stdout",
          "text": [
            "Enter a number: 45\n",
            "Positive\n"
          ]
        }
      ]
    },
    {
      "cell_type": "code",
      "source": [
        "# Question 12 Write a for loop to print numbers from 1 to 10.\n",
        "\n",
        "for i in range(1, 11):\n",
        "    print(i, end=\" \")\n",
        "print()\n"
      ],
      "metadata": {
        "colab": {
          "base_uri": "https://localhost:8080/"
        },
        "id": "G7ureYPxCpWH",
        "outputId": "111a12ee-4d3e-499a-becc-b40070925a4e"
      },
      "execution_count": 43,
      "outputs": [
        {
          "output_type": "stream",
          "name": "stdout",
          "text": [
            "1 2 3 4 5 6 7 8 9 10 \n"
          ]
        }
      ]
    },
    {
      "cell_type": "code",
      "source": [
        "# Question 13 Write a Python program to find the sum of all even numbers between 1 and 50.\n",
        "\n",
        "total = sum(i for i in range(1, 51) if i % 2 == 0)\n",
        "print(\"Sum of evens from 1 to 50:\", total)\n"
      ],
      "metadata": {
        "colab": {
          "base_uri": "https://localhost:8080/"
        },
        "id": "E1q0qGYpCr3g",
        "outputId": "3cdc4cac-3d15-4aa0-f92b-597f6b31c07c"
      },
      "execution_count": 44,
      "outputs": [
        {
          "output_type": "stream",
          "name": "stdout",
          "text": [
            "Sum of evens from 1 to 50: 650\n"
          ]
        }
      ]
    },
    {
      "cell_type": "code",
      "source": [
        "# Question 14 Write a program to reverse a string using a while loop.\n",
        "\n",
        "s = input(\"Enter a string: \")\n",
        "rev = \"\"\n",
        "index = len(s) - 1\n",
        "\n",
        "while index >= 0:\n",
        "    rev += s[index]\n",
        "    index -= 1\n",
        "\n",
        "print(\"Reversed string:\", rev)\n"
      ],
      "metadata": {
        "colab": {
          "base_uri": "https://localhost:8080/"
        },
        "id": "Zat5s6eFCuph",
        "outputId": "eb1760dc-8b67-4dae-ec7f-f84b327f2477"
      },
      "execution_count": 45,
      "outputs": [
        {
          "output_type": "stream",
          "name": "stdout",
          "text": [
            "Enter a string: hamza\n",
            "Reversed string: azmah\n"
          ]
        }
      ]
    },
    {
      "cell_type": "code",
      "source": [
        "# Question 15 Write a Python program to calculate the factorial of a number provided by the user using a while loop.\n",
        "\n",
        "n = int(input(\"Enter a non-negative integer: \"))\n",
        "fact = 1\n",
        "counter = n\n",
        "\n",
        "while counter > 1:\n",
        "    fact *= counter\n",
        "    counter -= 1\n",
        "\n",
        "print(f\"Factorial of {n} is {fact}.\")\n"
      ],
      "metadata": {
        "colab": {
          "base_uri": "https://localhost:8080/"
        },
        "id": "0nt107i-CxeO",
        "outputId": "71f724df-9453-4c93-c728-acff9b5dba8a"
      },
      "execution_count": 46,
      "outputs": [
        {
          "output_type": "stream",
          "name": "stdout",
          "text": [
            "Enter a non-negative integer: 100\n",
            "Factorial of 100 is 93326215443944152681699238856266700490715968264381621468592963895217599993229915608941463976156518286253697920827223758251185210916864000000000000000000000000.\n"
          ]
        }
      ]
    }
  ]
}