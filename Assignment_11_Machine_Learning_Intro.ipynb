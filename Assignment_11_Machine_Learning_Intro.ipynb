{
  "nbformat": 4,
  "nbformat_minor": 0,
  "metadata": {
    "colab": {
      "provenance": []
    },
    "kernelspec": {
      "name": "python3",
      "display_name": "Python 3"
    },
    "language_info": {
      "name": "python"
    }
  },
  "cells": [
    {
      "cell_type": "markdown",
      "source": [
        "**Assignment 11 Machine Learning Intro**"
      ],
      "metadata": {
        "id": "ZRWBx6MMpSFV"
      }
    },
    {
      "cell_type": "markdown",
      "metadata": {
        "id": "74288719"
      },
      "source": [
        "Question 1: Explain the differences between AI, ML, Deep Learning (DL), and Data Science (DS).\n",
        "Answer:\n",
        "AI, ML, DL, and DS are all interconnected but distinct fields. **Artificial Intelligence** (AI) is the broadest field, aiming to create intelligent machines that can reason, learn, and act autonomously. **Machine Learning** (ML) is a subset of AI focused on training models to learn from data and make predictions or decisions without being explicitly programmed. **Deep Learning** (DL) is a specialized subset of ML that uses multi-layered neural networks to find complex patterns in data. **Data Science** (DS) is an interdisciplinary field that uses scientific methods, processes, algorithms, and systems to extract knowledge and insights from structured and unstructured data, encompassing aspects of AI, ML, and statistics."
      ]
    },
    {
      "cell_type": "markdown",
      "metadata": {
        "id": "a7577b19"
      },
      "source": [
        "Question 2: What are the types of machine learning? Describe each with one real-world example.\n",
        "Answer:\n",
        "The three main types of machine learning are supervised learning, unsupervised learning, and reinforcement learning.\n",
        "\n",
        "  * **Supervised Learning:** This type of learning uses labeled data to train a model to predict an outcome. The model learns a mapping from input variables to an output variable. An example is **spam detection**, where an algorithm is trained on a dataset of emails labeled as 'spam' or 'not spam' to classify new emails.\n",
        "  * **Unsupervised Learning:** This type of learning uses unlabeled data to find hidden patterns or intrinsic structures within the data. The goal is to model the underlying structure or distribution of the data. An example is **customer segmentation**, where a company clusters its customers based on their purchasing habits without any predefined labels to identify different groups.\n",
        "  * **Reinforcement Learning:** This type of learning involves an agent learning to make a sequence of decisions in an environment to maximize a cumulative reward. The agent learns through trial and error. An example is **self-driving cars**, where the vehicle's agent learns to navigate roads and respond to traffic signals by receiving rewards for good actions (e.g., reaching a destination safely) and penalties for bad ones (e.g., hitting an obstacle)."
      ]
    },
    {
      "cell_type": "markdown",
      "metadata": {
        "id": "29e21879"
      },
      "source": [
        "Question 3: Define overfitting, underfitting, and the bias-variance tradeoff in machine learning.\n",
        "Answer:\n",
        "\n",
        "  * **Overfitting:** This occurs when a model learns the training data and its noise too well, capturing patterns that aren't generalizable to new, unseen data. An overfitted model performs very well on the training data but poorly on test data.\n",
        "  * **Underfitting:** This occurs when a model is too simple to capture the underlying patterns in the training data. An underfitted model performs poorly on both training and test data because it fails to learn the basic relationships in the data.\n",
        "  * **Bias-Variance Tradeoff:** This is a core concept in machine learning where you must balance two sources of error. **Bias** is the error introduced by a model that is too simple (underfitting). **Variance** is the error due to a model being too complex and sensitive to small fluctuations in the training data (overfitting). A good model aims for low bias and low variance."
      ]
    },
    {
      "cell_type": "markdown",
      "metadata": {
        "id": "134c27a9"
      },
      "source": [
        "Question 4: What are outliers in a dataset, and list three common techniques for handling them.\n",
        "Answer:\n",
        "Outliers are data points that are significantly different from the majority of the data in a dataset. They can occur due to measurement errors, data entry mistakes, or genuine but rare events. Outliers can skew statistical analyses and negatively impact the performance of machine learning models.\n",
        "\n",
        "Three common techniques for handling outliers are:\n",
        "\n",
        "Deletion/Trimming: This involves removing the outlier data points entirely from the dataset. It's a simple method but can lead to a loss of valuable information.\n",
        "\n",
        "Transformation: Applying mathematical transformations to the data can reduce the impact of outliers. Common transformations include log, square root, or reciprocal transformations, which can compress the scale of the data and bring outliers closer to the rest of the distribution.\n",
        "\n",
        "Imputation: Outliers can be replaced with a more representative value, such as the mean, median, or a value derived from a more robust statistical method. The median is often preferred as it is less sensitive to extreme values than the mean."
      ]
    },
    {
      "cell_type": "markdown",
      "metadata": {
        "id": "7013bf55"
      },
      "source": [
        "Question 5: Explain the process of handling missing values and mention one imputation technique for numerical and one for categorical data.\n",
        "Answer:\n",
        "Handling missing values is a crucial data preprocessing step. The general process involves:\n",
        "\n",
        "Identification: First, you identify the columns that contain missing values and the extent of the missingness.\n",
        "\n",
        "Analysis: You then analyze the nature of the missing data. Is it random, or is there a pattern? The method you choose depends on this analysis.\n",
        "\n",
        "Treatment: Finally, you decide how to handle the missing data. This could involve removing the data points or using an imputation technique to fill them.\n",
        "\n",
        "Numerical Data Imputation: A common technique is mean or median imputation. The missing numerical value is replaced by the mean or median of that column. Median is generally more robust to outliers.\n",
        "\n",
        "Categorical Data Imputation: A common technique is mode imputation. The missing categorical value is replaced with the most frequent value (the mode) in that column. This is a simple and effective method when the missingness is not extensive."
      ]
    },
    {
      "cell_type": "markdown",
      "source": [
        "Question 6: Write a Python program that:\n",
        "● Creates a synthetic imbalanced dataset with make_classification() from sklearn.datasets.\n",
        "● Prints the class distribution."
      ],
      "metadata": {
        "id": "_qPZNOwUoGVe"
      }
    },
    {
      "cell_type": "code",
      "source": [
        "from sklearn.datasets import make_classification\n",
        "import numpy as np\n",
        "\n",
        "# Create a synthetic imbalanced dataset\n",
        "# 1000 samples, 20 features, 2 informative features, 2 classes\n",
        "# with a weights ratio of 95:5\n",
        "X, y = make_classification(\n",
        "    n_samples=1000,\n",
        "    n_features=20,\n",
        "    n_informative=2,\n",
        "    n_redundant=2,\n",
        "    n_classes=2,\n",
        "    n_clusters_per_class=1,\n",
        "    weights=[0.95, 0.05],\n",
        "    flip_y=0,\n",
        "    random_state=42\n",
        ")\n",
        "\n",
        "# Print the class distribution\n",
        "unique, counts = np.unique(y, return_counts=True)\n",
        "class_distribution = dict(zip(unique, counts))\n",
        "print(\"Class Distribution:\")\n",
        "print(class_distribution)\n",
        "\n",
        "# Expected output:\n",
        "# Class Distribution:\n",
        "# {0: 950, 1: 50}"
      ],
      "metadata": {
        "id": "hgnEOVjBoK2_",
        "colab": {
          "base_uri": "https://localhost:8080/"
        },
        "outputId": "f54d9ba4-8cae-43a4-ff4e-5b5fd360c7ba"
      },
      "execution_count": 4,
      "outputs": [
        {
          "output_type": "stream",
          "name": "stdout",
          "text": [
            "Class Distribution:\n",
            "{np.int64(0): np.int64(950), np.int64(1): np.int64(50)}\n"
          ]
        }
      ]
    },
    {
      "cell_type": "markdown",
      "source": [
        "Question 7: Implement one-hot encoding using pandas for the following list of colors:\n",
        "['Red', 'Green', 'Blue', 'Green', 'Red']. Print the resulting dataframe."
      ],
      "metadata": {
        "id": "za5y0GCsowp5"
      }
    },
    {
      "cell_type": "code",
      "source": [
        "import pandas as pd\n",
        "\n",
        "# List of colors\n",
        "colors = ['Red', 'Green', 'Blue', 'Green', 'Red']\n",
        "\n",
        "# Create a DataFrame\n",
        "df = pd.DataFrame({'color': colors})\n",
        "\n",
        "# Implement one-hot encoding\n",
        "one_hot_encoded_df = pd.get_dummies(df, columns=['color'])\n",
        "\n",
        "# Print the resulting DataFrame\n",
        "print(one_hot_encoded_df)\n",
        "\n",
        "# Expected output:\n",
        "#    color_Blue  color_Green  color_Red\n",
        "# 0       False        False       True\n",
        "# 1       False         True      False\n",
        "# 2        True        False      False\n",
        "# 3       False         True      False\n",
        "# 4       False        False       True"
      ],
      "metadata": {
        "colab": {
          "base_uri": "https://localhost:8080/"
        },
        "id": "FPu0duTmo3Hw",
        "outputId": "7d18daa7-bc75-4c71-dd56-a8e8f4af09ec"
      },
      "execution_count": 5,
      "outputs": [
        {
          "output_type": "stream",
          "name": "stdout",
          "text": [
            "   color_Blue  color_Green  color_Red\n",
            "0       False        False       True\n",
            "1       False         True      False\n",
            "2        True        False      False\n",
            "3       False         True      False\n",
            "4       False        False       True\n"
          ]
        }
      ]
    },
    {
      "cell_type": "markdown",
      "source": [
        "Question 8: Write a Python script to:\n",
        "● Generate 1000 samples from a normal distribution.\n",
        "● Introduce 50 random missing values.\n",
        "● Fill missing values with the column mean.\n",
        "● Plot a histogram before and after imputation."
      ],
      "metadata": {
        "id": "-wwnPZCJonPX"
      }
    },
    {
      "cell_type": "code",
      "source": [
        "import numpy as np\n",
        "import matplotlib.pyplot as plt\n",
        "\n",
        "# 1. Generate 1000 samples from a normal distribution\n",
        "data = np.random.normal(loc=10, scale=2, size=1000)\n",
        "data = data.astype(float) # Ensure float type for NaN\n",
        "\n",
        "# 2. Introduce 50 random missing values\n",
        "num_missing = 50\n",
        "missing_indices = np.random.choice(len(data), num_missing, replace=False)\n",
        "data_with_missing = data.copy()\n",
        "data_with_missing[missing_indices] = np.nan\n",
        "\n",
        "# 3. Fill missing values with the column mean\n",
        "data_imputed = data_with_missing.copy()\n",
        "mean_value = np.nanmean(data_with_missing)\n",
        "data_imputed[np.isnan(data_imputed)] = mean_value\n",
        "\n",
        "# 4. Plot histograms before and after imputation\n",
        "plt.figure(figsize=(12, 5))\n",
        "\n",
        "plt.subplot(1, 2, 1)\n",
        "plt.hist(data_with_missing[~np.isnan(data_with_missing)], bins=30, color='skyblue', edgecolor='black')\n",
        "plt.title('Histogram Before Imputation')\n",
        "plt.xlabel('Value')\n",
        "plt.ylabel('Frequency')\n",
        "plt.axvline(mean_value, color='red', linestyle='dashed', linewidth=2, label=f'Mean: {mean_value:.2f}')\n",
        "plt.legend()\n",
        "\n",
        "plt.subplot(1, 2, 2)\n",
        "plt.hist(data_imputed, bins=30, color='lightgreen', edgecolor='black')\n",
        "plt.title('Histogram After Imputation')\n",
        "plt.xlabel('Value')\n",
        "plt.ylabel('Frequency')\n",
        "plt.axvline(mean_value, color='red', linestyle='dashed', linewidth=2, label=f'Mean: {mean_value:.2f}')\n",
        "plt.legend()\n",
        "\n",
        "plt.tight_layout()\n",
        "plt.show()\n",
        "\n",
        "# The output is a plot, so no text output is expected, but the script\n",
        "# successfully generates and displays the required histograms.\n",
        "# The histograms will show a nearly identical distribution, with a\n",
        "# small peak at the mean in the \"After Imputation\" plot due to the\n",
        "# filled values."
      ],
      "metadata": {
        "colab": {
          "base_uri": "https://localhost:8080/",
          "height": 507
        },
        "id": "x4eKguwWorDC",
        "outputId": "da974cbb-5d74-431c-c556-3824f5124410"
      },
      "execution_count": 6,
      "outputs": [
        {
          "output_type": "display_data",
          "data": {
            "text/plain": [
              "<Figure size 1200x500 with 2 Axes>"
            ],
            "image/png": "[encoded data removed]"
          },
          "metadata": {}
        }
      ]
    },
    {
      "cell_type": "markdown",
      "source": [
        "Question 9: Implement Min-Max scaling on the following list of numbers [2, 5, 10, 15, 20] using sklearn.preprocessing.MinMaxScaler. Print the scaled array."
      ],
      "metadata": {
        "id": "rG1NGTYho7m_"
      }
    },
    {
      "cell_type": "code",
      "source": [
        "import numpy as np\n",
        "from sklearn.preprocessing import MinMaxScaler\n",
        "\n",
        "# List of numbers\n",
        "data = np.array([2, 5, 10, 15, 20]).reshape(-1, 1)\n",
        "\n",
        "# Initialize the MinMaxScaler\n",
        "scaler = MinMaxScaler()\n",
        "\n",
        "# Fit and transform the data\n",
        "scaled_data = scaler.fit_transform(data)\n",
        "\n",
        "# Print the scaled array\n",
        "print(scaled_data)\n",
        "\n",
        "# Expected output:\n",
        "# [[0.        ]\n",
        "#  [0.16666667]\n",
        "#  [0.44444444]\n",
        "#  [0.72222222]\n",
        "#  [1.        ]]"
      ],
      "metadata": {
        "colab": {
          "base_uri": "https://localhost:8080/"
        },
        "id": "De1rj0BNpBJU",
        "outputId": "507cefdc-ea45-4695-88f4-1498859bc7b8"
      },
      "execution_count": 7,
      "outputs": [
        {
          "output_type": "stream",
          "name": "stdout",
          "text": [
            "[[0.        ]\n",
            " [0.16666667]\n",
            " [0.44444444]\n",
            " [0.72222222]\n",
            " [1.        ]]\n"
          ]
        }
      ]
    },
    {
      "cell_type": "markdown",
      "source": [
        "Question 10: You are working as a data scientist for a retail company. You receive a customer transaction dataset that contains:\n",
        "● Missing ages,\n",
        "● Outliers in transaction amount,\n",
        "● A highly imbalanced target (fraud vs. non-fraud),\n",
        "● Categorical variables like payment method.\n",
        "Explain the step-by-step data preparation plan you’d follow before training a machine learning model. Include how you’d address missing data, outliers, imbalance, and encoding.\n",
        "Answer:\n",
        "My data preparation plan would be a systematic, multi-step process to ensure the dataset is clean, robust, and ready for model training.\n",
        "\n",
        "Step 1: Data Understanding and Initial Inspection\n",
        "First, I would load the dataset and perform an initial inspection to understand its structure, data types, and the extent of the issues. This involves checking for missing values, unique values in categorical columns, and summary statistics to identify potential outliers.\n",
        "\n",
        "Step 2: Handling Missing Data\n",
        "I would address the missing ages by using imputation. Since age is a numerical feature, I would likely use the median age of the customers to fill the missing values. The median is a robust choice as it is less sensitive to outliers compared to the mean.\n",
        "\n",
        "Step 3: Handling Outliers\n",
        "For the outliers in the transaction amount, I would analyze their distribution using box plots or histograms. I would then use a robust technique like log transformation to normalize the skewed distribution and reduce the impact of extreme values. Alternatively, I could use IQR (Interquartile Range) method to identify and cap the outliers, replacing values beyond the whiskers with the upper or lower boundary.\n",
        "\n",
        "Step 4: Encoding Categorical Variables\n",
        "The categorical variable payment method would need to be converted into a numerical format that a machine learning model can understand. I would use one-hot encoding for this purpose. This method creates a new binary column for each unique category, which is suitable for nominal categorical data and avoids the creation of an artificial order that ordinal encoding might impose.\n",
        "\n",
        "Step 5: Addressing Class Imbalance\n",
        "The highly imbalanced target (fraud vs. non-fraud) is a critical issue. Training a model on this data would likely result in it being biased towards the majority class (non-fraud). To handle this, I would use resampling techniques.\n",
        "\n",
        "Oversampling: I would apply a technique like SMOTE (Synthetic Minority Over-sampling Technique) on the training data. SMOTE generates synthetic samples for the minority class (fraud) to balance the class distribution.\n",
        "\n",
        "Alternative: I could use a combination of undersampling the majority class and oversampling the minority class, or use different evaluation metrics (like precision, recall, or F1-score) that are more suitable for imbalanced datasets. The choice of technique would depend on the size of the dataset and the specific problem.\n",
        "\n",
        "Step 6: Feature Scaling\n",
        "Finally, before training the model, I would perform feature scaling on the numerical features, such as the transaction amount. I would use a scaler like Min-Max Scaler or Standard Scaler to bring all numerical features to a similar scale. This is important for many machine learning algorithms, especially those that rely on distance calculations, like SVM or k-NN.\n",
        "\n",
        "This systematic plan ensures that all data quality issues are addressed appropriately, leading to a clean, balanced, and well-prepared dataset that will yield a more robust and accurate machine learning model."
      ],
      "metadata": {
        "id": "mNA2gJKWpC9d"
      }
    }
  ]
}