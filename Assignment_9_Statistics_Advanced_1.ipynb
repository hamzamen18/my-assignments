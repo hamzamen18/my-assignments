{
  "nbformat": 4,
  "nbformat_minor": 0,
  "metadata": {
    "colab": {
      "provenance": []
    },
    "kernelspec": {
      "name": "python3",
      "display_name": "Python 3"
    },
    "language_info": {
      "name": "python"
    }
  },
  "cells": [
    {
      "cell_type": "markdown",
      "source": [
        "#**Statistics Advanced 1 Assignment**"
      ],
      "metadata": {
        "id": "GBJzXVQfmUUn"
      }
    },
    {
      "cell_type": "markdown",
      "source": [
        "Question 1: What is a random variable in probability theory?\n",
        "A random variable is a function that assigns a numerical value to each possible outcome of a random experiment. For example, if you flip a coin, the outcomes are heads or tails. A random variable could assign the number 1 to heads and 0 to tails. Random variables can be either discrete or continuous"
      ],
      "metadata": {
        "id": "JX-U-bzAmuXP"
      }
    },
    {
      "cell_type": "markdown",
      "source": [
        "Question 2: What are the types of random variables?\n",
        "There are two main types of random variables:\n",
        "\n",
        "Discrete random variable: A variable that can only take on a finite or countably infinite number of values. These values are often integers. Examples include the number of heads in a series of coin flips or the number of cars passing an intersection in an hour.\n",
        "\n",
        "\n",
        "Continuous random variable: A variable that can take on any value within a given range. These values are typically measurements. Examples include a person's height, the temperature of a room, or the time it takes to run a race."
      ],
      "metadata": {
        "id": "G9QHPpTmnGDd"
      }
    },
    {
      "cell_type": "markdown",
      "source": [
        "Question 3: Explain the difference between discrete and continuous distributions.\n",
        "The primary difference lies in the types of values each distribution represents.\n",
        "\n",
        "A discrete distribution describes the probability of a discrete random variable taking on specific, distinct values. The probabilities for all possible values must sum to 1. Think of a bar chart where each bar represents a specific outcome and its probability.\n",
        "\n",
        "\n",
        "A continuous distribution describes the probability of a continuous random variable falling within a certain range of values. The probability of the variable equaling any single value is zero. We instead calculate probabilities over intervals using a probability density function, and the total area under the curve is 1. Think of a smooth curve where the area under the curve over a given interval represents the probability"
      ],
      "metadata": {
        "id": "uB7lY290nJUA"
      }
    },
    {
      "cell_type": "markdown",
      "source": [
        "Question 4: What is a binomial distribution, and how is it used in probability?\n",
        "A binomial distribution is a discrete probability distribution used to model the number of successes in a fixed number of independent trials. Each trial has only two possible outcomes: success or failure, and the probability of success remains constant for every trial.\n",
        "\n",
        "It's used to answer questions like: \"What's the probability of getting exactly 5 heads in 10 coin flips?\" or \"What's the probability of 3 out of 20 customers responding to a survey?\" The distribution is defined by two parameters: n (the number of trials) and p (the probability of success on a single trial).\n"
      ],
      "metadata": {
        "id": "KLese2iJnSwU"
      }
    },
    {
      "cell_type": "markdown",
      "source": [
        "Question 5: What is the standard normal distribution, and why is it important?\n",
        "The standard normal distribution, also known as the Z-distribution, is a special case of the normal distribution with a mean (mu) of 0 and a standard deviation (sigma) of 1.\n",
        "It is important because any normal distribution can be converted into a standard normal distribution using the Z-score formula: Z=(X−mu)/sigma. This allows us to compare and analyze data from different normal distributions using a single, standardized table or curve. It simplifies probability calculations and is a foundational concept in inferential statistics, especially in hypothesis testing and confidence intervals."
      ],
      "metadata": {
        "id": "ZyHBSF1WnUii"
      }
    },
    {
      "cell_type": "markdown",
      "source": [
        "Question 6: What is the Central Limit Theorem (CLT), and why is it critical in statistics?\n",
        "The Central Limit Theorem (CLT) states that, regardless of the original population's distribution, the distribution of the sample means will tend to be a normal distribution as the sample size (n) gets larger. The mean of this sampling distribution will be equal to the population mean (\n",
        "mu), and its standard deviation (known as the standard error) will be\n",
        "sigma/\n",
        "sqrtn.\n",
        "\n",
        "The CLT is critical because it allows us to apply the principles of the normal distribution to a wide range of statistical problems, even when the underlying population is not normal. This is the foundation for many statistical inference techniques, such as constructing confidence intervals and performing hypothesis tests on sample means. It allows us to make reliable inferences about a population based on a sample.\n",
        "\n"
      ],
      "metadata": {
        "id": "W99Cc0nRnZmw"
      }
    },
    {
      "cell_type": "markdown",
      "source": [
        "Question 7: What is the significance of confidence intervals in statistical analysis?\n",
        "A confidence interval is a range of values, calculated from sample data, that is likely to contain the true value of a population parameter. For example, a 95% confidence interval for a mean means we are 95% confident that the true population mean lies within that interval.\n",
        "\n",
        "Their significance lies in providing a measure of the uncertainty or precision of our estimates. While a point estimate (like a sample mean) gives a single value, a confidence interval gives a range, acknowledging that our estimate is based on a sample and is therefore subject to sampling variability. It provides a more complete picture than a point estimate alone and is crucial for making informed decisions based on sample data."
      ],
      "metadata": {
        "id": "mlSdNU9jnc9-"
      }
    },
    {
      "cell_type": "markdown",
      "source": [
        "Question 8: What is the concept of expected value in a probability distribution?\n",
        "The expected value (E[X]) of a random variable X is the long-term average value of the variable over many trials or repetitions of an experiment. It's essentially a weighted average of all possible outcomes, where the weights are the probabilities of each outcome.\n",
        "\n",
        "For a discrete random variable, the expected value is calculated as E[X]=\n",
        "sumx_iP(x_i), where x_i are the possible values and P(x_i) are their respective probabilities. For a continuous variable, it's calculated using an integral. The expected value is a fundamental concept in probability theory, used in fields like finance to represent the average return on an investment or in gambling to determine the fair price of a lottery ticket."
      ],
      "metadata": {
        "id": "9EEvlr-InkcO"
      }
    },
    {
      "cell_type": "markdown",
      "source": [
        "Question 9: Write a Python program to generate 1000 random numbers from a normal distribution with mean = 50 and standard deviation = 5. Compute its mean and standard deviation using NumPy, and draw a histogram to visualize the distribution."
      ],
      "metadata": {
        "id": "PsSnVogZnpFX"
      }
    },
    {
      "cell_type": "code",
      "source": [
        "import numpy as np\n",
        "import matplotlib.pyplot as plt\n",
        "\n",
        "# Generate 1000 random numbers from a normal distribution\n",
        "mu = 50  # mean\n",
        "sigma = 5  # standard deviation\n",
        "num_samples = 1000\n",
        "\n",
        "random_numbers = np.random.normal(mu, sigma, num_samples)\n",
        "\n",
        "# Compute the mean and standard deviation using NumPy\n",
        "computed_mean = np.mean(random_numbers)\n",
        "computed_std = np.std(random_numbers)\n",
        "\n",
        "print(f\"Computed Mean: {computed_mean:.4f}\")\n",
        "print(f\"Computed Standard Deviation: {computed_std:.4f}\")\n",
        "\n",
        "# Draw a histogram to visualize the distribution\n",
        "plt.hist(random_numbers, bins=30, density=True, alpha=0.6, color='b')\n",
        "plt.title('Histogram of 1000 Random Numbers from Normal Distribution')\n",
        "plt.xlabel('Value')\n",
        "plt.ylabel('Frequency')\n",
        "plt.grid(True)\n",
        "plt.show()"
      ],
      "metadata": {
        "colab": {
          "base_uri": "https://localhost:8080/",
          "height": 507
        },
        "id": "0y3qOZ3wNI9v",
        "outputId": "87fb19ee-6470-4669-c414-ddcf0b881b89"
      },
      "execution_count": 2,
      "outputs": [
        {
          "output_type": "stream",
          "name": "stdout",
          "text": [
            "Computed Mean: 49.9146\n",
            "Computed Standard Deviation: 5.0424\n"
          ]
        },
        {
          "output_type": "display_data",
          "data": {
            "text/plain": [
              "<Figure size 640x480 with 1 Axes>"
            ],
            "image/png": "[encoded data removed]"
          },
          "metadata": {}
        }
      ]
    },
    {
      "cell_type": "markdown",
      "source": [
        "Question 10: You are working as a data analyst for a retail company. The company has collected daily sales data for 2 years and wants you to identify the overall sales trend. daily_sales = [220, 245, 210, 265, 230, 250, 260, 275, 240, 255, 235, 260, 245, 250, 225, 270, 265, 255, 250, 260]\n",
        "Explanation of applying the Central Limit Theorem\n",
        "To estimate the average sales with a 95% confidence interval, we can use the Central Limit Theorem (CLT). Even though we only have a small sample of 20 daily sales, we can assume this sample is representative of the larger, unobserved population of all daily sales. The CLT tells us that the sampling distribution of the mean will be approximately normal, which allows us to construct a confidence interval.\n",
        "\n",
        "Here's how we would apply it:\n",
        "\n",
        "Calculate the sample mean (\n",
        "barx) and sample standard deviation (s) from the given daily_sales data.\n",
        "\n",
        "Determine the standard error of the mean, which is SE=s/\n",
        "sqrtn, where n is the sample size (20). This represents the standard deviation of the sampling distribution of the mean.\n",
        "\n",
        "Choose a confidence level, which is 95% in this case. This corresponds to a critical value (Z_critical) from the standard normal distribution. For a 95% confidence interval, this value is approximately 1.96.\n",
        "\n",
        "Calculate the margin of error (ME=Z_critical\n",
        "timesSE).\n",
        "\n",
        "Construct the confidence interval using the formula: [\n",
        "barx−ME,\n",
        "barx+ME].\n",
        "\n",
        "This interval will provide a range where we can be 95% confident the true average daily sales for the entire population lies.\n",
        "\n",
        "Python Code to compute the mean sales and its confidence interval"
      ],
      "metadata": {
        "id": "4p_gNtwxZtyc"
      }
    },
    {
      "cell_type": "code",
      "source": [
        "import numpy as np\n",
        "from scipy import stats\n",
        "\n",
        "# Given daily sales data\n",
        "daily_sales = [220, 245, 210, 265, 230, 250, 260, 275, 240, 255,\n",
        "               235, 260, 245, 250, 225, 270, 265, 255, 250, 260]\n",
        "\n",
        "# Convert the list to a NumPy array for easier calculations\n",
        "sales_array = np.array(daily_sales)\n",
        "\n",
        "# Compute the sample mean and standard deviation\n",
        "sample_mean = np.mean(sales_array)\n",
        "sample_std = np.std(sales_array, ddof=1)  # Use ddof=1 for sample standard deviation\n",
        "\n",
        "# Sample size\n",
        "n = len(sales_array)\n",
        "\n",
        "# Confidence level and critical value (for 95% confidence)\n",
        "confidence_level = 0.95\n",
        "t_critical = stats.t.ppf(q=1 - (1 - confidence_level) / 2, df=n-1)\n",
        "\n",
        "# Calculate the standard error of the mean\n",
        "standard_error = sample_std / np.sqrt(n)\n",
        "\n",
        "# Calculate the margin of error\n",
        "margin_of_error = t_critical * standard_error\n",
        "\n",
        "# Calculate the confidence interval\n",
        "confidence_interval_lower = sample_mean - margin_of_error\n",
        "confidence_interval_upper = sample_mean + margin_of_error\n",
        "\n",
        "print(f\"Sample Mean Sales: ${sample_mean:.2f}\")\n",
        "print(f\"Confidence Interval (95%): (${confidence_interval_lower:.2f}, ${confidence_interval_upper:.2f})\")"
      ],
      "metadata": {
        "colab": {
          "base_uri": "https://localhost:8080/"
        },
        "id": "kCBgVc8GZvg9",
        "outputId": "e2aead51-39a8-4b28-e2b1-0bc76e78ad1e"
      },
      "execution_count": 3,
      "outputs": [
        {
          "output_type": "stream",
          "name": "stdout",
          "text": [
            "Sample Mean Sales: $248.25\n",
            "Confidence Interval (95%): ($240.17, $256.33)\n"
          ]
        }
      ]
    }
  ]
}