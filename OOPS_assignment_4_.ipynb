{
  "nbformat": 4,
  "nbformat_minor": 0,
  "metadata": {
    "colab": {
      "provenance": []
    },
    "kernelspec": {
      "name": "python3",
      "display_name": "Python 3"
    },
    "language_info": {
      "name": "python"
    }
  },
  "cells": [
    {
      "cell_type": "markdown",
      "source": [
        "#***OOPS Assignment Theory Section***"
      ],
      "metadata": {
        "id": "tYiu1ffTMwDo"
      }
    },
    {
      "cell_type": "markdown",
      "source": [
        "\n",
        "\n",
        "**1. What is Object-Oriented Programming (OOP)?**\n",
        "\n",
        "Object-Oriented Programming (OOP) is a programming paradigm based on the concept of \"objects,\" which can contain data (attributes) and code (methods). The core idea is to structure a program by bundling related data and behaviors into individual, reusable units (objects), making code more modular, maintainable, and scalable.\n",
        "\n",
        "\n",
        "\n",
        "**2. What is a class in OOP?**\n",
        "\n",
        "A **class** in OOP is a blueprint or a template for creating objects. It defines the structure (attributes/data) and behavior (methods/functions) that all objects of that class will possess. It doesn't hold any actual data itself; rather, it specifies what kind of data and operations its instances will have."
      ],
      "metadata": {
        "id": "eMkCVov_Mnsu"
      }
    },
    {
      "cell_type": "code",
      "source": [
        "class Car:\n",
        "    def __init__(self, brand, model, color):\n",
        "        self.brand = brand\n",
        "        self.model = model\n",
        "        self.color = color\n",
        "\n",
        "    def start_engine(self):\n",
        "        return f\"The {self.color} {self.brand} {self.model} engine starts.\""
      ],
      "outputs": [],
      "execution_count": 180,
      "metadata": {
        "id": "cYxP1J5xMns4"
      }
    },
    {
      "cell_type": "markdown",
      "source": [
        "\n",
        "\n",
        "**3. What is an object in OOP?**\n",
        "\n",
        "An **object** in OOP is an instance of a class. It is a concrete entity created from a class blueprint, with its own unique set of data (attribute values) while sharing the behaviors (methods) defined by its class. Objects are the actual working units in an OOP system."
      ],
      "metadata": {
        "id": "x7MtlR6yMns7"
      }
    },
    {
      "cell_type": "code",
      "source": [
        "class Car:\n",
        "    def __init__(self, brand, model, color):\n",
        "        self.brand = brand\n",
        "        self.model = model\n",
        "        self.color = color\n",
        "\n",
        "    def start_engine(self):\n",
        "        return f\"The {self.color} {self.brand} {self.model} engine starts.\"\n",
        "\n",
        "my_tata = Car(\"Tata\", \"Nexon\", \"Red\")\n",
        "my_mahindra = Car(\"Mahindra\", \"XUV700\", \"Blue\")\n",
        "\n",
        "print(f\"I own a {my_tata.brand} {my_tata.model}.\")\n",
        "print(my_mahindra.start_engine())"
      ],
      "outputs": [
        {
          "output_type": "stream",
          "name": "stdout",
          "text": [
            "I own a Tata Nexon.\n",
            "The Blue Mahindra XUV700 engine starts.\n"
          ]
        }
      ],
      "execution_count": 181,
      "metadata": {
        "colab": {
          "base_uri": "https://localhost:8080/"
        },
        "id": "6IrbwDf5Mns8",
        "outputId": "db59c002-e6f2-4a21-d34b-ed52d7a5b047"
      }
    },
    {
      "cell_type": "markdown",
      "source": [
        "\n",
        "\n",
        "**4. What is the difference between abstraction and encapsulation?**\n",
        "\n",
        "  * **Abstraction:** Abstraction focuses on showing only essential features and hiding the complex implementation details. It's about designing classes in a way that users interact with them through a simplified interface, without needing to know how the internal mechanisms work.\n",
        "\n",
        "    **Example (Abstraction):** Imagine using a UPI (Unified Payments Interface) app. You click \"Send Money,\" enter an amount, and the recipient's ID. You don't need to know the complex network protocols, bank server interactions, or encryption algorithms happening behind the scenes. The app *abstracts away* these complexities.\n",
        "\n",
        "  * **Encapsulation:** Encapsulation is the bundling of data (attributes) and the methods that operate on that data into a single unit (a class). It also involves restricting direct access to some of an object's components, typically its internal state, and allowing access only through controlled interfaces (methods). This protects the data from external, unintended modification.\n",
        "\n",
        "    **Example (Encapsulation):**"
      ],
      "metadata": {
        "id": "Hbd3vBwZMns8"
      }
    },
    {
      "cell_type": "code",
      "source": [
        "class BankAccount:\n",
        "        def __init__(self, account_holder, initial_balance=0):\n",
        "            self.account_holder = account_holder\n",
        "            self.__balance = initial_balance\n",
        "\n",
        "        def deposit(self, amount):\n",
        "            if amount > 0:\n",
        "                self.__balance += amount\n",
        "                print(f\"Deposited ₹{amount}. New balance: ₹{self.__balance}\")\n",
        "            else:\n",
        "                print(\"Deposit amount must be positive.\")\n",
        "\n",
        "        def withdraw(self, amount):\n",
        "            if 0 < amount <= self.__balance:\n",
        "                self.__balance -= amount\n",
        "                print(f\"Withdrew ₹{amount}. New balance: ₹{self.__balance}\")\n",
        "            else:\n",
        "                print(\"Invalid withdrawal amount or insufficient balance.\")\n",
        "\n",
        "        def get_balance(self):\n",
        "            return self.__balance\n",
        "\n",
        "my_account = BankAccount(\"Rohan Sharma\", 10000)\n",
        "my_account.deposit(5000)\n",
        "my_account.withdraw(2000)\n",
        "print(f\"Rohan's current balance: ₹{my_account.get_balance()}\")"
      ],
      "outputs": [
        {
          "output_type": "stream",
          "name": "stdout",
          "text": [
            "Deposited ₹5000. New balance: ₹15000\n",
            "Withdrew ₹2000. New balance: ₹13000\n",
            "Rohan's current balance: ₹13000\n"
          ]
        }
      ],
      "execution_count": 182,
      "metadata": {
        "colab": {
          "base_uri": "https://localhost:8080/"
        },
        "id": "9c8dO3FsMns9",
        "outputId": "ba52af67-6a30-46fd-889b-3ca6ceb5d97e"
      }
    },
    {
      "cell_type": "markdown",
      "source": [
        "\n",
        "\n",
        "**5. What are dunder methods in Python?**\n",
        "\n",
        "\"Dunder methods\" (short for \"double underscore methods\") are special methods in Python that have two leading and two trailing underscores (e.g., `__init__`, `__str__`, `__add__`). They are also known as \"magic methods\" or \"special methods.\" Python uses these methods to implement core language features, allowing classes to define how they behave with built-in operations, functions, or operators (like `+`, `-`, `len()`, `str()`, etc.). They enable operator overloading and customize object behavior."
      ],
      "metadata": {
        "id": "dqRUL8XSMns_"
      }
    },
    {
      "cell_type": "code",
      "source": [
        "class CricketPlayer:\n",
        "    def __init__(self, name, runs):\n",
        "        self.name = name\n",
        "        self.runs = runs\n",
        "\n",
        "    def __str__(self):\n",
        "        return f\"{self.name} has scored {self.runs} runs.\"\n",
        "\n",
        "    def __add__(self, other):\n",
        "        if isinstance(other, CricketPlayer):\n",
        "            return CricketPlayer(\"Combined Score\", self.runs + other.runs)\n",
        "        return NotImplemented\n",
        "\n",
        "virat = CricketPlayer(\"Virat Kohli\", 12000)\n",
        "rohit = CricketPlayer(\"Rohit Sharma\", 9500)\n",
        "\n",
        "print(virat)\n",
        "print(rohit)\n",
        "\n",
        "combined = virat + rohit\n",
        "print(combined)"
      ],
      "outputs": [
        {
          "output_type": "stream",
          "name": "stdout",
          "text": [
            "Virat Kohli has scored 12000 runs.\n",
            "Rohit Sharma has scored 9500 runs.\n",
            "Combined Score has scored 21500 runs.\n"
          ]
        }
      ],
      "execution_count": 183,
      "metadata": {
        "colab": {
          "base_uri": "https://localhost:8080/"
        },
        "id": "VdSyIHp5MntA",
        "outputId": "27c27db5-d606-4cac-a67a-041adf255adb"
      }
    },
    {
      "cell_type": "markdown",
      "source": [
        "\n",
        "\n",
        "**6. Explain the concept of inheritance in OOP.**\n",
        "\n",
        "**Inheritance** is a fundamental OOP concept that allows a new class (subclass or derived class) to inherit attributes and methods from an existing class (superclass or base class). This promotes code reusability and establishes an \"is-a\" relationship (e.g., a \"Dog is a Mammal\"). The subclass can extend or override the inherited functionalities, leading to a hierarchical organization of classes."
      ],
      "metadata": {
        "id": "Siq9G7WvMntB"
      }
    },
    {
      "cell_type": "code",
      "source": [
        "class Vehicle:\n",
        "    def __init__(self, make, model):\n",
        "        self.make = make\n",
        "        self.model = model\n",
        "\n",
        "    def start(self):\n",
        "        return f\"The {self.make} {self.model} starts.\"\n",
        "\n",
        "    def stop(self):\n",
        "        return f\"The {self.make} {self.model} stops.\"\n",
        "\n",
        "class Car(Vehicle):\n",
        "    def __init__(self, make, model, seating_capacity):\n",
        "        super().__init__(make, model)\n",
        "        self.seating_capacity = seating_capacity\n",
        "\n",
        "    def honk(self):\n",
        "        return \"Beep beep!\"\n",
        "\n",
        "class Bike(Vehicle):\n",
        "    def __init__(self, make, model, engine_cc):\n",
        "        super().__init__(make, model)\n",
        "        self.engine_cc = engine_cc\n",
        "\n",
        "    def lean_into_turn(self):\n",
        "        return \"Bike is leaning into the turn.\"\n",
        "\n",
        "my_scorpio = Car(\"Mahindra\", \"Scorpio\", 7)\n",
        "my_splendor = Bike(\"Hero\", \"Splendor\", 100)\n",
        "\n",
        "print(my_scorpio.start())\n",
        "print(my_scorpio.honk())\n",
        "\n",
        "print(my_splendor.stop())\n",
        "print(my_splendor.lean_into_turn())"
      ],
      "outputs": [
        {
          "output_type": "stream",
          "name": "stdout",
          "text": [
            "The Mahindra Scorpio starts.\n",
            "Beep beep!\n",
            "The Hero Splendor stops.\n",
            "Bike is leaning into the turn.\n"
          ]
        }
      ],
      "execution_count": 184,
      "metadata": {
        "colab": {
          "base_uri": "https://localhost:8080/"
        },
        "id": "9l0YxVk7MntC",
        "outputId": "dcff40ed-0fed-471a-b75b-9595d217a83e"
      }
    },
    {
      "cell_type": "markdown",
      "source": [
        "\n",
        "\n",
        "**7. What is polymorphism in OOP?**\n",
        "\n",
        "**Polymorphism** (meaning \"many forms\") is the ability of objects of different classes to respond to the same method call in their own specific ways. It allows a single interface to represent different underlying forms. In Python, polymorphism is naturally supported through duck typing, where the focus is on \"what an object can do\" rather than \"what type of object it is.\" If an object walks like a duck and quacks like a duck, it's treated as a duck."
      ],
      "metadata": {
        "id": "uj2UY-uZMntD"
      }
    },
    {
      "cell_type": "code",
      "source": [
        "class Musician:\n",
        "    def play_instrument(self):\n",
        "        return \"Musician plays a generic instrument.\"\n",
        "\n",
        "class Sitarist(Musician):\n",
        "    def play_instrument(self):\n",
        "        return \"Sitarist plays the soulful Sitar.\"\n",
        "\n",
        "class Tablist(Musician):\n",
        "    def play_instrument(self):\n",
        "        return \"Tablist plays rhythmic Tabla beats.\"\n",
        "\n",
        "class Vocalist(Musician):\n",
        "    def sing(self):\n",
        "        return \"Vocalist sings a melodious raga.\"\n",
        "\n",
        "def jam_session(artist):\n",
        "    if hasattr(artist, 'play_instrument'):\n",
        "        print(artist.play_instrument())\n",
        "    elif hasattr(artist, 'sing'):\n",
        "        print(artist.sing())\n",
        "    else:\n",
        "        print(\"This artist doesn't seem to perform in this session.\")\n",
        "\n",
        "ravi = Sitarist()\n",
        "zakir = Tablist()\n",
        "lata = Vocalist()\n",
        "unknown_artist = Musician()\n",
        "\n",
        "print(\"--- Jam Session ---\")\n",
        "jam_session(ravi)\n",
        "jam_session(zakir)\n",
        "jam_session(lata)\n",
        "jam_session(unknown_artist)"
      ],
      "outputs": [
        {
          "output_type": "stream",
          "name": "stdout",
          "text": [
            "--- Jam Session ---\n",
            "Sitarist plays the soulful Sitar.\n",
            "Tablist plays rhythmic Tabla beats.\n",
            "Musician plays a generic instrument.\n",
            "Musician plays a generic instrument.\n"
          ]
        }
      ],
      "execution_count": 185,
      "metadata": {
        "colab": {
          "base_uri": "https://localhost:8080/"
        },
        "id": "aeXCLNpjMntD",
        "outputId": "9d1fc81f-2d49-49cf-a7a1-b1bb07c61002"
      }
    },
    {
      "cell_type": "markdown",
      "source": [
        "\n",
        "\n",
        "**8. How is encapsulation achieved in Python?**\n",
        "\n",
        "While Python doesn't have strict access modifiers like `private` or `protected` as found in some other languages (e.g., Java, C++), encapsulation is achieved through:\n",
        "\n",
        "  * **Conventions:** The primary way is by using naming conventions:\n",
        "      * **Single leading underscore (`_variable`):** Indicates that a variable or method is intended for internal use within the class (a \"protected\" convention). Users are warned not to access it directly from outside.\n",
        "      * **Double leading underscore (`__variable`):** Triggers a name mangling mechanism (e.g., `_ClassName__variable`). This makes it harder to accidentally access or override attributes/methods from outside the class or in subclasses, providing a form of \"pseudo-private\" attribute.\n",
        "  * **Property Decorators:** The `@property` decorator is used to provide controlled access to attributes, allowing you to define getter, setter, and deleter methods for an attribute, thus encapsulating the logic of attribute access and modification.\n",
        "\n",
        "<!-- end list -->"
      ],
      "metadata": {
        "id": "CvfxnDrAMntE"
      }
    },
    {
      "cell_type": "code",
      "source": [
        "class AadhaarCard:\n",
        "    def __init__(self, name, aadhaar_number):\n",
        "        self._name = name\n",
        "        self.__aadhaar_number = aadhaar_number\n",
        "\n",
        "    @property\n",
        "    def name(self):\n",
        "        return self._name\n",
        "\n",
        "    @name.setter\n",
        "    def name(self, new_name):\n",
        "        if isinstance(new_name, str) and len(new_name) > 2:\n",
        "            self._name = new_name\n",
        "            print(\"Name updated.\")\n",
        "        else:\n",
        "            print(\"Invalid name. Must be a string with at least 3 characters.\")\n",
        "\n",
        "    def verify_aadhaar(self, provided_number):\n",
        "        if provided_number == self.__aadhaar_number:\n",
        "            return True\n",
        "        return False\n",
        "\n",
        "my_aadhaar = AadhaarCard(\"Priya Sharma\", \"1234-5678-9012\")\n",
        "\n",
        "print(f\"Name (using property): {my_aadhaar.name}\")\n",
        "\n",
        "my_aadhaar.name = \"Priya Kumari\"\n",
        "print(f\"Updated Name: {my_aadhaar.name}\")\n",
        "\n",
        "my_aadhaar.name = \"P\"\n",
        "print(f\"Name after invalid update: {my_aadhaar.name}\")\n",
        "\n",
        "print(f\"Aadhaar verification success: {my_aadhaar.verify_aadhaar('1234-5678-9012')}\")"
      ],
      "outputs": [
        {
          "output_type": "stream",
          "name": "stdout",
          "text": [
            "Name (using property): Priya Sharma\n",
            "Name updated.\n",
            "Updated Name: Priya Kumari\n",
            "Invalid name. Must be a string with at least 3 characters.\n",
            "Name after invalid update: Priya Kumari\n",
            "Aadhaar verification success: True\n"
          ]
        }
      ],
      "execution_count": 186,
      "metadata": {
        "colab": {
          "base_uri": "https://localhost:8080/"
        },
        "id": "Xwk0JMdjMntE",
        "outputId": "9915a0e3-c278-4b79-a5b0-bd5e022604c9"
      }
    },
    {
      "cell_type": "markdown",
      "source": [
        "\n",
        "\n",
        "**9. What is a constructor in Python?**\n",
        "\n",
        "In Python, a **constructor** is a special method named `__init__`. It is automatically called when a new object (instance) of a class is created. Its primary purpose is to initialize the attributes of the newly created object. It takes `self` as its first argument, which refers to the instance being created, and can take other arguments to set initial values for the object's attributes."
      ],
      "metadata": {
        "id": "cGkmyuQLMntF"
      }
    },
    {
      "cell_type": "code",
      "source": [
        "class Student:\n",
        "    def __init__(self, roll_no, name, major):\n",
        "        self.roll_no = roll_no\n",
        "        self.name = name\n",
        "        self.major = major\n",
        "        self.grades = {}\n",
        "\n",
        "    def display_info(self):\n",
        "        return f\"Roll No: {self.roll_no}, Name: {self.name}, Major: {self.major}\"\n",
        "\n",
        "student1 = Student(101, \"Amit Kumar\", \"Computer Science\")\n",
        "student2 = Student(102, \"Sneha Reddy\", \"Electrical Engineering\")\n",
        "\n",
        "print(student1.display_info())\n",
        "print(student2.display_info())"
      ],
      "outputs": [
        {
          "output_type": "stream",
          "name": "stdout",
          "text": [
            "Roll No: 101, Name: Amit Kumar, Major: Computer Science\n",
            "Roll No: 102, Name: Sneha Reddy, Major: Electrical Engineering\n"
          ]
        }
      ],
      "execution_count": 187,
      "metadata": {
        "colab": {
          "base_uri": "https://localhost:8080/"
        },
        "id": "3pOC-s60MntF",
        "outputId": "0068a350-5358-4e88-f66d-72641ef862d5"
      }
    },
    {
      "cell_type": "markdown",
      "source": [
        "\n",
        "\n",
        "**10. What are class and static methods in Python?**\n",
        "\n",
        "  * **Class Methods (`@classmethod`):**\n",
        "\n",
        "      * Are bound to the class, not the instance of the class.\n",
        "      * They receive the class itself (`cls`) as their first argument, rather than an instance (`self`).\n",
        "      * They can access or modify class-level attributes.\n",
        "      * Often used for alternative constructors or operations that involve the class as a whole, rather than a specific instance.\n",
        "\n",
        "  * **Static Methods (`@staticmethod`):**\n",
        "\n",
        "      * Are not bound to the class or the instance.\n",
        "      * They don't receive `self` or `cls` as their first argument.\n",
        "      * They behave like regular functions defined within a class's namespace.\n",
        "      * They cannot access or modify class or instance attributes directly.\n",
        "      * Often used for utility functions that logically belong to the class but don't need any class-specific or instance-specific data.\n",
        "\n",
        "<!-- end list -->"
      ],
      "metadata": {
        "id": "6hY9tJyHMntF"
      }
    },
    {
      "cell_type": "code",
      "source": [
        "class Bank:\n",
        "    bank_name = \"State Bank of Bharat\"\n",
        "    ifsc_code_prefix = \"SBIN\"\n",
        "\n",
        "    def __init__(self, branch_name, branch_code):\n",
        "        self.branch_name = branch_name\n",
        "        self.branch_code = branch_code\n",
        "\n",
        "    def get_branch_details(self):\n",
        "        return f\"Branch: {self.branch_name}, Code: {self.branch_code}\"\n",
        "\n",
        "    @classmethod\n",
        "    def create_new_branch(cls, branch_name, branch_suffix):\n",
        "        new_branch_code = f\"{cls.ifsc_code_prefix}{branch_suffix}\"\n",
        "        return cls(branch_name, new_branch_code)\n",
        "\n",
        "    @staticmethod\n",
        "    def display_motto():\n",
        "        return \"Your Bank, Your Trust - Serving the Nation.\"\n",
        "\n",
        "mumbai_branch = Bank(\"Mumbai - Bandra\", \"SBIN000001\")\n",
        "print(mumbai_branch.get_branch_details())\n",
        "\n",
        "chennai_branch = Bank.create_new_branch(\"Chennai - Anna Nagar\", \"000050\")\n",
        "print(chennai_branch.get_branch_details())\n",
        "print(f\"Bank name (from class method context): {Bank.bank_name}\")\n",
        "\n",
        "print(Bank.display_motto())"
      ],
      "outputs": [
        {
          "output_type": "stream",
          "name": "stdout",
          "text": [
            "Branch: Mumbai - Bandra, Code: SBIN000001\n",
            "Branch: Chennai - Anna Nagar, Code: SBIN000050\n",
            "Bank name (from class method context): State Bank of Bharat\n",
            "Your Bank, Your Trust - Serving the Nation.\n"
          ]
        }
      ],
      "execution_count": 188,
      "metadata": {
        "colab": {
          "base_uri": "https://localhost:8080/"
        },
        "id": "LokmXNr-MntG",
        "outputId": "0b730f68-927a-4d4f-8386-fe26fbf44391"
      }
    },
    {
      "cell_type": "markdown",
      "source": [
        "\n",
        "\n",
        "**11. What is method overloading in Python?**\n",
        "\n",
        "**Method overloading** refers to the ability to define multiple methods within the same class that have the same name but differ in the number or type of their parameters.\n",
        "\n",
        "**Python does not directly support method overloading in the traditional sense** (where the same method name can have different implementations based on argument types/counts). If you define multiple methods with the same name in a Python class, the last one defined will simply override the previous ones.\n",
        "\n",
        "Instead, Python developers achieve similar functionality using:\n",
        "\n",
        "  * Default argument values.\n",
        "  * Variable-length arguments (`*args`, `**kwargs`).\n",
        "  * Checking argument types inside the method.\n",
        "\n",
        "<!-- end list -->"
      ],
      "metadata": {
        "id": "2QYNmaOzMntG"
      }
    },
    {
      "cell_type": "code",
      "source": [
        "class FoodItem:\n",
        "    def __init__(self, name, price):\n",
        "        self.name = name\n",
        "        self.price = price\n",
        "\n",
        "    def describe(self, quantity=None, special_note=None):\n",
        "        if quantity is not None and special_note is not None:\n",
        "            return f\"{self.name} (Qty: {quantity}) - ₹{self.price * quantity:.2f} with note: '{special_note}'\"\n",
        "        elif quantity is not None:\n",
        "            return f\"{self.name} (Qty: {quantity}) - ₹{self.price * quantity:.2f}\"\n",
        "        else:\n",
        "            return f\"A {self.name} priced at ₹{self.price:.2f}\"\n",
        "\n",
        "idli = FoodItem(\"Idli\", 30)\n",
        "dosa = FoodItem(\"Dosa\", 60)\n",
        "\n",
        "print(idli.describe())\n",
        "print(dosa.describe(2))\n",
        "print(idli.describe(3, \"Extra Chutney\"))"
      ],
      "outputs": [
        {
          "output_type": "stream",
          "name": "stdout",
          "text": [
            "A Idli priced at ₹30.00\n",
            "Dosa (Qty: 2) - ₹120.00\n",
            "Idli (Qty: 3) - ₹90.00 with note: 'Extra Chutney'\n"
          ]
        }
      ],
      "execution_count": 189,
      "metadata": {
        "colab": {
          "base_uri": "https://localhost:8080/"
        },
        "id": "9AQtD0E0MntH",
        "outputId": "95dd7723-4e08-40b4-d5b5-9e68b89188cc"
      }
    },
    {
      "cell_type": "markdown",
      "source": [
        "\n",
        "\n",
        "**12. What is method overriding in OOP?**\n",
        "\n",
        "**Method overriding** is a concept in inheritance where a subclass provides its own specific implementation for a method that is already defined in its superclass. When the method is called on an object of the subclass, the subclass's version of the method is executed instead of the superclass's version. This allows subclasses to customize or specialize the behavior inherited from their parents while maintaining the same method signature."
      ],
      "metadata": {
        "id": "_uD_a7B9MntH"
      }
    },
    {
      "cell_type": "code",
      "source": [
        "class Festival:\n",
        "    def celebrate(self):\n",
        "        return \"Celebrating a general festival!\"\n",
        "\n",
        "class Diwali(Festival):\n",
        "    def celebrate(self):\n",
        "        return \"Lighting diyas and exchanging sweets for Diwali!\"\n",
        "\n",
        "class Holi(Festival):\n",
        "    def celebrate(self):\n",
        "        return \"Playing with colors and enjoying gujiya for Holi!\"\n",
        "\n",
        "gen_fest = Festival()\n",
        "diwali_fest = Diwali()\n",
        "holi_fest = Holi()\n",
        "\n",
        "print(gen_fest.celebrate())\n",
        "print(diwali_fest.celebrate())\n",
        "print(holi_fest.celebrate())"
      ],
      "outputs": [
        {
          "output_type": "stream",
          "name": "stdout",
          "text": [
            "Celebrating a general festival!\n",
            "Lighting diyas and exchanging sweets for Diwali!\n",
            "Playing with colors and enjoying gujiya for Holi!\n"
          ]
        }
      ],
      "execution_count": 190,
      "metadata": {
        "colab": {
          "base_uri": "https://localhost:8080/"
        },
        "id": "TlBBOR9VMntI",
        "outputId": "e7c1540e-4291-48e2-d110-4f03fe59aeec"
      }
    },
    {
      "cell_type": "markdown",
      "source": [
        "\n",
        "\n",
        "**13. What is a property decorator in Python?**\n",
        "\n",
        "The `@property` decorator in Python is a built-in decorator that provides a \"Pythonic\" way to define getter, setter, and deleter methods for class attributes. It allows you to access or modify instance attributes as if they were public attributes, but behind the scenes, specific methods are called. This helps enforce encapsulation, allowing you to add validation, computation, or other logic whenever an attribute is accessed or changed, without altering the way the attribute is accessed from outside the class."
      ],
      "metadata": {
        "id": "6jxvznUxMntI"
      }
    },
    {
      "cell_type": "code",
      "source": [
        "class TrainTicket:\n",
        "    def __init__(self, pnr, fare):\n",
        "        self._pnr = pnr\n",
        "        self._fare = fare\n",
        "\n",
        "    @property\n",
        "    def fare(self):\n",
        "        return self._fare\n",
        "\n",
        "    @fare.setter\n",
        "    def fare(self, new_fare):\n",
        "        if new_fare >= 0:\n",
        "            self._fare = new_fare\n",
        "        else:\n",
        "            print(\"Fare cannot be negative.\")\n",
        "\n",
        "    @property\n",
        "    def pnr(self):\n",
        "        return self._pnr\n",
        "\n",
        "my_ticket = TrainTicket(\"JNP123456\", 750.50)\n",
        "\n",
        "print(f\"Initial Ticket Fare: ₹{my_ticket.fare}\")\n",
        "\n",
        "my_ticket.fare = 800.00\n",
        "print(f\"New Ticket Fare: ₹{my_ticket.fare}\")\n",
        "\n",
        "my_ticket.fare = -50\n",
        "print(f\"Fare after invalid attempt: ₹{my_ticket.fare}\")\n",
        "print(f\"PNR: {my_ticket.pnr}\")"
      ],
      "outputs": [
        {
          "output_type": "stream",
          "name": "stdout",
          "text": [
            "Initial Ticket Fare: ₹750.5\n",
            "New Ticket Fare: ₹800.0\n",
            "Fare cannot be negative.\n",
            "Fare after invalid attempt: ₹800.0\n",
            "PNR: JNP123456\n"
          ]
        }
      ],
      "execution_count": 191,
      "metadata": {
        "colab": {
          "base_uri": "https://localhost:8080/"
        },
        "id": "dGaCeOzWMntI",
        "outputId": "5a8b8366-eaa1-47df-e594-60b643f2ce28"
      }
    },
    {
      "cell_type": "markdown",
      "source": [
        "\n",
        "\n",
        "**14. Why is polymorphism important in OOP?**\n",
        "\n",
        "Polymorphism is crucial in OOP for several reasons:\n",
        "\n",
        "  * **Flexibility and Extensibility:** It allows you to write more generic and flexible code that can work with objects of different types, as long as they adhere to a common interface (i.e., they implement the same method). This makes systems easier to extend with new classes without modifying existing code.\n",
        "  * **Code Reusability:** You can reuse the same method names for different implementations, reducing the need for conditional logic (e.g., `if-elif-else` chains) based on object type.\n",
        "  * **Decoupling:** It decouples the caller from the specific implementation details of the objects being called, promoting looser coupling and better modularity.\n",
        "  * **Readability and Maintainability:** Code becomes easier to read and understand because you can interact with diverse objects using a consistent approach.\n",
        "\n",
        "<!-- end list -->"
      ],
      "metadata": {
        "id": "fOG2DWHqMntI"
      }
    },
    {
      "cell_type": "code",
      "source": [
        "class DanceForm:\n",
        "    def perform(self):\n",
        "        return \"Performing a dance.\"\n",
        "\n",
        "class Bharatnatyam(DanceForm):\n",
        "    def perform(self):\n",
        "        return \"Performing intricate Bharatnatyam steps.\"\n",
        "\n",
        "class Kathakali(DanceForm):\n",
        "    def perform(self):\n",
        "        return \"Performing dramatic Kathakali expressions.\"\n",
        "\n",
        "class Bhangra(DanceForm):\n",
        "    def perform(self):\n",
        "        return \"Performing energetic Bhangra moves.\"\n",
        "\n",
        "def host_cultural_event(artist_group):\n",
        "    for artist in artist_group:\n",
        "        print(artist.perform())\n",
        "\n",
        "bharat_dancer = Bharatnatyam()\n",
        "kathakali_performer = Kathakali()\n",
        "bhangra_team = Bhangra()\n",
        "\n",
        "indian_dance_show = [bharat_dancer, kathakali_performer, bhangra_team]\n",
        "\n",
        "print(\"--- Annual Cultural Event ---\")\n",
        "host_cultural_event(indian_dance_show)\n",
        "\n",
        "class Odissi(DanceForm):\n",
        "    def perform(self):\n",
        "        return \"Performing graceful Odissi poses.\"\n",
        "\n",
        "odissi_dancer = Odissi()\n",
        "indian_dance_show.append(odissi_dancer)\n",
        "print(\"\\n--- Event with New Addition ---\")\n",
        "host_cultural_event(indian_dance_show)"
      ],
      "outputs": [
        {
          "output_type": "stream",
          "name": "stdout",
          "text": [
            "--- Annual Cultural Event ---\n",
            "Performing intricate Bharatnatyam steps.\n",
            "Performing dramatic Kathakali expressions.\n",
            "Performing energetic Bhangra moves.\n",
            "\n",
            "--- Event with New Addition ---\n",
            "Performing intricate Bharatnatyam steps.\n",
            "Performing dramatic Kathakali expressions.\n",
            "Performing energetic Bhangra moves.\n",
            "Performing graceful Odissi poses.\n"
          ]
        }
      ],
      "execution_count": 192,
      "metadata": {
        "colab": {
          "base_uri": "https://localhost:8080/"
        },
        "id": "QZleHkzTMntI",
        "outputId": "b52691dc-402a-4ebd-8ca5-e5eaf423aa97"
      }
    },
    {
      "cell_type": "markdown",
      "source": [
        "\n",
        "\n",
        "**15. What is an abstract class in Python?**\n",
        "\n",
        "An **abstract class** is a class that cannot be instantiated directly. It serves as a blueprint for other classes, often defining common methods that its subclasses *must* implement. Abstract classes typically contain one or more **abstract methods**, which are declared but do not have an implementation in the abstract class itself. Subclasses are then responsible for providing concrete implementations for these abstract methods.\n",
        "\n",
        "In Python, abstract classes are created using the `abc` (Abstract Base Classes) module and the `@abstractmethod` decorator."
      ],
      "metadata": {
        "id": "FqJNLxr_MntJ"
      }
    },
    {
      "cell_type": "code",
      "source": [
        "from abc import ABC, abstractmethod\n",
        "\n",
        "class GovernmentScheme(ABC):\n",
        "    def __init__(self, name, budget):\n",
        "        self.name = name\n",
        "        self.budget = budget\n",
        "\n",
        "    @abstractmethod\n",
        "    def describe_scheme(self):\n",
        "        pass\n",
        "\n",
        "    @abstractmethod\n",
        "    def target_beneficiaries(self):\n",
        "        pass\n",
        "\n",
        "    def get_budget(self):\n",
        "        return f\"Budget for {self.name}: ₹{self.budget} Crores\"\n",
        "\n",
        "class PMJAY(GovernmentScheme):\n",
        "    def __init__(self, budget):\n",
        "        super().__init__(\"Pradhan Mantri Jan Arogya Yojana\", budget)\n",
        "        self.health_cover = \"₹5 Lakhs\"\n",
        "\n",
        "    def describe_scheme(self):\n",
        "        return f\"{self.name} provides health cover up to {self.health_cover} per family per year.\"\n",
        "\n",
        "    def target_beneficiaries(self):\n",
        "        return \"Economically weaker sections of society.\"\n",
        "\n",
        "class PMGKY(GovernmentScheme):\n",
        "    def __init__(self, budget):\n",
        "        super().__init__(\"Pradhan Mantri Garib Kalyan Yojana\", budget)\n",
        "\n",
        "    def describe_scheme(self):\n",
        "        return f\"{self.name} provides food grains and financial assistance.\"\n",
        "\n",
        "    def target_beneficiaries(self):\n",
        "        return \"Poor and vulnerable families during crises.\"\n",
        "\n",
        "pm_jay_scheme = PMJAY(6400)\n",
        "pm_gky_scheme = PMGKY(170000)\n",
        "\n",
        "print(pm_jay_scheme.describe_scheme())\n",
        "print(f\"Target: {pm_jay_scheme.target_beneficiaries()}\")\n",
        "print(pm_jay_scheme.get_budget())\n",
        "\n",
        "print(\"\\n---\")\n",
        "print(pm_gky_scheme.describe_scheme())\n",
        "print(f\"Target: {pm_gky_scheme.target_beneficiaries()}\")\n",
        "print(pm_gky_scheme.get_budget())"
      ],
      "outputs": [
        {
          "output_type": "stream",
          "name": "stdout",
          "text": [
            "Pradhan Mantri Jan Arogya Yojana provides health cover up to ₹5 Lakhs per family per year.\n",
            "Target: Economically weaker sections of society.\n",
            "Budget for Pradhan Mantri Jan Arogya Yojana: ₹6400 Crores\n",
            "\n",
            "---\n",
            "Pradhan Mantri Garib Kalyan Yojana provides food grains and financial assistance.\n",
            "Target: Poor and vulnerable families during crises.\n",
            "Budget for Pradhan Mantri Garib Kalyan Yojana: ₹170000 Crores\n"
          ]
        }
      ],
      "execution_count": 193,
      "metadata": {
        "colab": {
          "base_uri": "https://localhost:8080/"
        },
        "id": "TBclJL5UMntJ",
        "outputId": "d4196e22-d936-4f4f-e879-19fcb8d90ef0"
      }
    },
    {
      "cell_type": "markdown",
      "source": [
        "\n",
        "\n",
        "**16. What are the advantages of OOP?**\n",
        "\n",
        "Key advantages of OOP include:\n",
        "\n",
        "  * **Modularity:** Breaking down complex problems into smaller, manageable objects.\n",
        "  * **Reusability:** Inheritance allows code to be reused across different parts of the system or in new projects.\n",
        "  * **Maintainability:** Encapsulation and modularity make it easier to locate, debug, and fix problems.\n",
        "  * **Scalability:** Well-designed OOP systems are easier to extend and adapt to changing requirements.\n",
        "  * **Flexibility (Polymorphism):** Allows for more general and adaptable code that can work with various object types.\n",
        "  * **Better organization:** Code is more structured and easier to understand.\n",
        "  * **Reduced Complexity:** Managing complexity by dealing with objects at a higher level of abstraction.\n",
        "\n",
        "<!-- end list -->"
      ],
      "metadata": {
        "id": "mDGFVAquMntJ"
      }
    },
    {
      "cell_type": "code",
      "source": [
        "class Dish:\n",
        "    def __init__(self, name, price):\n",
        "        self.name = name\n",
        "        self.price = price\n",
        "\n",
        "    def get_info(self):\n",
        "        return f\"{self.name}: ₹{self.price}\"\n",
        "\n",
        "class NorthIndianDish(Dish):\n",
        "    def __init__(self, name, price, spice_level):\n",
        "        super().__init__(name, price)\n",
        "        self.spice_level = spice_level\n",
        "\n",
        "    def describe_taste(self):\n",
        "        return f\"A {self.spice_level} spicy North Indian delight.\"\n",
        "\n",
        "class SouthIndianDish(Dish):\n",
        "    def __init__(self, name, price, main_ingredient):\n",
        "        super().__init__(name, price)\n",
        "        self.main_ingredient = main_ingredient\n",
        "\n",
        "    def describe_region(self):\n",
        "        return f\"A classic South Indian dish with {self.main_ingredient}.\"\n",
        "\n",
        "dal_makhani = NorthIndianDish(\"Dal Makhani\", 280, \"Medium\")\n",
        "dosa = SouthIndianDish(\"Masala Dosa\", 120, \"Rice Batter\")\n",
        "biryani = NorthIndianDish(\"Chicken Biryani\", 450, \"High\")\n",
        "\n",
        "print(dal_makhani.get_info())\n",
        "print(dal_makhani.describe_taste())\n",
        "\n",
        "print(dosa.get_info())\n",
        "print(dosa.describe_region())"
      ],
      "outputs": [
        {
          "output_type": "stream",
          "name": "stdout",
          "text": [
            "Dal Makhani: ₹280\n",
            "A Medium spicy North Indian delight.\n",
            "Masala Dosa: ₹120\n",
            "A classic South Indian dish with Rice Batter.\n"
          ]
        }
      ],
      "execution_count": 194,
      "metadata": {
        "colab": {
          "base_uri": "https://localhost:8080/"
        },
        "id": "yBUQC3z9MntK",
        "outputId": "6b543e87-4c5c-49bb-cba0-11162babd173"
      }
    },
    {
      "cell_type": "markdown",
      "source": [
        "\n",
        "\n",
        "**17. What is the difference between a class variable and an instance variable?**\n",
        "\n",
        "  * **Class Variable:**\n",
        "\n",
        "      * Defined directly inside the class but outside any method.\n",
        "      * Shared by all instances (objects) of that class.\n",
        "      * When a class variable is modified, the change is reflected across all instances.\n",
        "      * Accessed using `ClassName.variable_name` or `self.variable_name` (though `ClassName.variable_name` is clearer for modification).\n",
        "\n",
        "  * **Instance Variable:**\n",
        "\n",
        "      * Defined inside methods (usually `__init__`) using the `self` keyword (e.g., `self.variable_name`).\n",
        "      * Unique to each instance (object) of the class. Each object has its own copy of the instance variables.\n",
        "      * Modifying an instance variable in one object does not affect other objects.\n",
        "      * Accessed using `self.variable_name` (inside the class) or `object_name.variable_name` (outside the class).\n",
        "\n",
        "<!-- end list -->"
      ],
      "metadata": {
        "id": "sGhmfagiMntK"
      }
    },
    {
      "cell_type": "code",
      "source": [
        "class StreetVendor:\n",
        "    stall_type = \"Food Stall\"\n",
        "    total_vendors_in_city = 0\n",
        "\n",
        "    def __init__(self, name, specialty_dish):\n",
        "        self.name = name\n",
        "        self.specialty_dish = specialty_dish\n",
        "        StreetVendor.total_vendors_in_city += 1\n",
        "\n",
        "    def introduce(self):\n",
        "        return f\"Hello, I'm {self.name}, and I sell {self.specialty_dish}.\"\n",
        "\n",
        "vendor1 = StreetVendor(\"Ramesh\", \"Pani Puri\")\n",
        "vendor2 = StreetVendor(\"Seema\", \"Chole Bhature\")\n",
        "\n",
        "print(f\"Vendor 1: {vendor1.introduce()}\")\n",
        "print(f\"Vendor 2: {vendor2.introduce()}\")\n",
        "\n",
        "print(f\"All vendors are of type: {StreetVendor.stall_type}\")\n",
        "print(f\"Total vendors in city: {StreetVendor.total_vendors_in_city}\")\n",
        "\n",
        "StreetVendor.stall_type = \"Street Food Cart\"\n",
        "print(f\"New stall type: {vendor1.stall_type}\")\n",
        "print(f\"New stall type: {vendor2.stall_type}\")\n",
        "\n",
        "vendor1.specialty_dish = \"Samosa\"\n",
        "print(f\"Vendor 1 now sells: {vendor1.specialty_dish}\")\n",
        "print(f\"Vendor 2 still sells: {vendor2.specialty_dish}\")"
      ],
      "outputs": [
        {
          "output_type": "stream",
          "name": "stdout",
          "text": [
            "Vendor 1: Hello, I'm Ramesh, and I sell Pani Puri.\n",
            "Vendor 2: Hello, I'm Seema, and I sell Chole Bhature.\n",
            "All vendors are of type: Food Stall\n",
            "Total vendors in city: 2\n",
            "New stall type: Street Food Cart\n",
            "New stall type: Street Food Cart\n",
            "Vendor 1 now sells: Samosa\n",
            "Vendor 2 still sells: Chole Bhature\n"
          ]
        }
      ],
      "execution_count": 195,
      "metadata": {
        "colab": {
          "base_uri": "https://localhost:8080/"
        },
        "id": "tQ-ClHC8MntL",
        "outputId": "86aad25c-b9f3-4b35-f938-9d33da8544b8"
      }
    },
    {
      "cell_type": "markdown",
      "source": [
        "\n",
        "\n",
        "**18. What is multiple inheritance in Python?**\n",
        "\n",
        "**Multiple inheritance** is an OOP feature that allows a class to inherit from more than one parent class. This means a single subclass can acquire attributes and methods from multiple base classes, combining their functionalities. Python supports multiple inheritance, allowing for flexible class designs, but it can sometimes lead to complexity (like the \"diamond problem\" or Method Resolution Order issues)."
      ],
      "metadata": {
        "id": "f1QkO8f4MntL"
      }
    },
    {
      "cell_type": "code",
      "source": [
        "class Artist:\n",
        "    def create_art(self):\n",
        "        return \"Artist creates something beautiful.\"\n",
        "\n",
        "class Engineer:\n",
        "    def build_things(self):\n",
        "        return \"Engineer builds functional structures.\"\n",
        "\n",
        "class Entrepreneur:\n",
        "    def manage_business(self):\n",
        "        return \"Entrepreneur manages business operations.\"\n",
        "\n",
        "class Innovator(Artist, Engineer, Entrepreneur):\n",
        "    def innovate(self):\n",
        "        return \"Innovator combines creativity and logic to invent.\"\n",
        "\n",
        "person_a = Innovator()\n",
        "print(person_a.create_art())\n",
        "print(person_a.build_things())\n",
        "print(person_a.manage_business())\n",
        "print(person_a.innovate())"
      ],
      "outputs": [
        {
          "output_type": "stream",
          "name": "stdout",
          "text": [
            "Artist creates something beautiful.\n",
            "Engineer builds functional structures.\n",
            "Entrepreneur manages business operations.\n",
            "Innovator combines creativity and logic to invent.\n"
          ]
        }
      ],
      "execution_count": 196,
      "metadata": {
        "colab": {
          "base_uri": "https://localhost:8080/"
        },
        "id": "4ZpCBUhZMntL",
        "outputId": "e1430230-58a1-4f37-99fd-cf2e92de2177"
      }
    },
    {
      "cell_type": "markdown",
      "source": [
        "\n",
        "\n",
        "**19. Explain the purpose of `__str__` and `__repr__` methods in Python.**\n",
        "\n",
        "Both `__str__` and `__repr__` are \"dunder\" methods used for defining string representations of objects, but they serve different purposes:\n",
        "\n",
        "  * **`__str__(self)`:**\n",
        "\n",
        "      * **Purpose:** Provides an \"informal\" or \"user-friendly\" string representation of an object. It's designed for readability and for end-users.\n",
        "      * **Called by:** `str()` built-in function, `print()` function, and f-strings.\n",
        "      * **Goal:** To be highly readable and presentable.\n",
        "\n",
        "  * **`__repr__(self)`:**\n",
        "\n",
        "      * **Purpose:** Provides an \"official\" or \"unambiguous\" string representation of an object. It's primarily for developers, debugging, and logging. The goal is that, if possible, this string could be used to recreate the object (e.g., `eval(repr(obj))`).\n",
        "      * **Called by:** `repr()` built-in function, and by default if `__str__` is not defined when `print()` or `str()` is used.\n",
        "      * **Goal:** To be unambiguous and convey the object's exact state.\n",
        "\n",
        "<!-- end list -->"
      ],
      "metadata": {
        "id": "T6ANZ9QnMntM"
      }
    },
    {
      "cell_type": "code",
      "source": [
        "class Temple:\n",
        "    def __init__(self, name, deity, city):\n",
        "        self.name = name\n",
        "        self.deity = deity\n",
        "        self.city = city\n",
        "\n",
        "    def __str__(self):\n",
        "        return f\"{self.name} Temple, {self.city} (Dedicated to {self.deity})\"\n",
        "\n",
        "    def __repr__(self):\n",
        "        return f\"Temple(name='{self.name}', deity='{self.deity}', city='{self.city}')\"\n",
        "\n",
        "badrinath = Temple(\"Badrinath\", \"Lord Vishnu\", \"Badrinath\")\n",
        "golden_temple = Temple(\"Golden Temple\", \"Waheguru\", \"Amritsar\")\n",
        "\n",
        "print(badrinath)\n",
        "print(str(golden_temple))\n",
        "\n",
        "print(repr(badrinath))"
      ],
      "outputs": [
        {
          "output_type": "stream",
          "name": "stdout",
          "text": [
            "Badrinath Temple, Badrinath (Dedicated to Lord Vishnu)\n",
            "Golden Temple Temple, Amritsar (Dedicated to Waheguru)\n",
            "Temple(name='Badrinath', deity='Lord Vishnu', city='Badrinath')\n"
          ]
        }
      ],
      "execution_count": 197,
      "metadata": {
        "colab": {
          "base_uri": "https://localhost:8080/"
        },
        "id": "bIxvHl0NMntM",
        "outputId": "d1a3004c-dc6e-40f4-f2ba-e1e819a396b4"
      }
    },
    {
      "cell_type": "markdown",
      "source": [
        "\n",
        "\n",
        "**20. What is the significance of the `super()` function in Python?**\n",
        "\n",
        "The `super()` function in Python is used to call methods and access attributes of a parent or sibling class in an inheritance hierarchy. Its primary significances are:\n",
        "\n",
        "  * **Calling Parent Constructor:** Most commonly used to call the `__init__` method of the parent class from within the subclass's `__init__` method to ensure proper initialization of inherited attributes.\n",
        "  * **Method Overriding and Extension:** Allows a subclass to extend the functionality of an overridden method in the parent class by first calling the parent's implementation and then adding its own logic.\n",
        "  * **Method Resolution Order (MRO):** In multiple inheritance, `super()` intelligently follows the MRO of the class, ensuring that methods are called in the correct order, even in complex hierarchies. This helps avoid direct parent-class specific calls and makes code more robust.\n",
        "\n",
        "<!-- end list -->"
      ],
      "metadata": {
        "id": "XgDqhU5NMntM"
      }
    },
    {
      "cell_type": "code",
      "source": [
        "class FoodItem:\n",
        "    def __init__(self, name, price):\n",
        "        self.name = name\n",
        "        self.price = price\n",
        "        print(f\"FoodItem '{self.name}' created.\")\n",
        "\n",
        "    def get_details(self):\n",
        "        return f\"{self.name} (₹{self.price})\"\n",
        "\n",
        "class NorthIndianDish(FoodItem):\n",
        "    def __init__(self, name, price, spice_level):\n",
        "        super().__init__(name, price)\n",
        "        self.spice_level = spice_level\n",
        "        print(f\"NorthIndianDish '{self.name}' initialized with spice level: {self.spice_level}.\")\n",
        "\n",
        "    def get_details(self):\n",
        "        parent_details = super().get_details()\n",
        "        return f\"{parent_details}, Spice Level: {self.spice_level}\"\n",
        "\n",
        "class SouthIndianDish(FoodItem):\n",
        "    def __init__(self, name, price, serves_with):\n",
        "        super().__init__(name, price)\n",
        "        self.serves_with = serves_with\n",
        "        print(f\"SouthIndianDish '{self.name}' initialized, served with: {self.serves_with}.\")\n",
        "\n",
        "    def get_details(self):\n",
        "        parent_details = super().get_details()\n",
        "        return f\"{parent_details}, Served with: {self.serves_with}\"\n",
        "\n",
        "\n",
        "paneer_tikka = NorthIndianDish(\"Paneer Tikka\", 350, \"Medium\")\n",
        "print(paneer_tikka.get_details())\n",
        "\n",
        "dosa = SouthIndianDish(\"Dosa\", 100, \"Sambar and Chutney\")\n",
        "print(dosa.get_details())"
      ],
      "outputs": [
        {
          "output_type": "stream",
          "name": "stdout",
          "text": [
            "FoodItem 'Paneer Tikka' created.\n",
            "NorthIndianDish 'Paneer Tikka' initialized with spice level: Medium.\n",
            "Paneer Tikka (₹350), Spice Level: Medium\n",
            "FoodItem 'Dosa' created.\n",
            "SouthIndianDish 'Dosa' initialized, served with: Sambar and Chutney.\n",
            "Dosa (₹100), Served with: Sambar and Chutney\n"
          ]
        }
      ],
      "execution_count": 198,
      "metadata": {
        "colab": {
          "base_uri": "https://localhost:8080/"
        },
        "id": "bpYKWOSgMntM",
        "outputId": "c4d747f0-2499-428e-9414-6de77e5aa3da"
      }
    },
    {
      "cell_type": "markdown",
      "source": [
        "\n",
        "\n",
        "**21. What is the significance of the `__del__` method in Python?**\n",
        "\n",
        "The `__del__(self)` method in Python is a \"destructor\" or finalizer. It's a special method that is called by the Python interpreter when an object is about to be \"garbage collected\" (i.e., its reference count drops to zero and it's no longer accessible).\n",
        "\n",
        "**Significance:**\n",
        "\n",
        "  * It's primarily used for **cleanup operations** or releasing external resources (like closing files, database connections, network sockets, or releasing memory allocated in C extensions) that the object might be holding before it's completely destroyed.\n",
        "  * **Caution:** Its usage is often discouraged in favor of context managers (`with` statements) because there's no guarantee exactly *when* `__del__` will be called due to Python's garbage collection mechanism. Relying on `__del__` for critical resource release can lead to unpredictable behavior or resource leaks.\n",
        "\n",
        "<!-- end list -->"
      ],
      "metadata": {
        "id": "V7tU5ppfMntN"
      }
    },
    {
      "cell_type": "code",
      "source": [
        "class DatabaseConnection:\n",
        "    def __init__(self, db_name):\n",
        "        self.db_name = db_name\n",
        "        self.connected = True\n",
        "        print(f\"Connected to database: {self.db_name}\")\n",
        "\n",
        "    def query(self, sql):\n",
        "        if self.connected:\n",
        "            return f\"Executing query on {self.db_name}: {sql}\"\n",
        "        return \"Not connected to database.\"\n",
        "\n",
        "    def __del__(self):\n",
        "        if self.connected:\n",
        "            print(f\"Closing connection to database: {self.db_name}\")\n",
        "            self.connected = False\n",
        "        print(f\"DatabaseConnection object for {self.db_name} destroyed.\")\n",
        "\n",
        "my_db_conn = DatabaseConnection(\"IndianRailwaysDB\")\n",
        "print(my_db_conn.query(\"SELECT * FROM TRAINS;\"))\n",
        "\n",
        "del my_db_conn\n",
        "print(\"Object reference removed.\")"
      ],
      "outputs": [
        {
          "output_type": "stream",
          "name": "stdout",
          "text": [
            "Connected to database: IndianRailwaysDB\n",
            "Executing query on IndianRailwaysDB: SELECT * FROM TRAINS;\n",
            "Closing connection to database: IndianRailwaysDB\n",
            "DatabaseConnection object for IndianRailwaysDB destroyed.\n",
            "Object reference removed.\n"
          ]
        }
      ],
      "execution_count": 199,
      "metadata": {
        "colab": {
          "base_uri": "https://localhost:8080/"
        },
        "id": "k39mwQlEMntW",
        "outputId": "3443a49b-b4ac-4333-8f7f-26977bb5c650"
      }
    },
    {
      "cell_type": "markdown",
      "source": [
        "\n",
        "\n",
        "**22. What is the difference between `@staticmethod` and `@classmethod` in Python?**\n",
        "\n",
        "  * **`@staticmethod`:**\n",
        "\n",
        "      * Does **not** receive the instance (`self`) or the class (`cls`) as its first argument.\n",
        "      * Behaves like a regular function placed within the class's namespace.\n",
        "      * Cannot access or modify instance or class attributes directly.\n",
        "      * Used for utility functions that logically belong to the class but don't need any class or instance context.\n",
        "\n",
        "  * **`@classmethod`:**\n",
        "\n",
        "      * Receives the **class** itself (`cls`) as its first argument.\n",
        "      * Can access and modify class-level attributes.\n",
        "      * Can be used to create alternative constructors or methods that operate on the class as a whole rather than a specific instance.\n",
        "      * Often used when the method needs to know about the class type it's operating on.\n",
        "\n",
        "<!-- end list -->"
      ],
      "metadata": {
        "id": "sA5s9OvEMntW"
      }
    },
    {
      "cell_type": "code",
      "source": [
        "class MetroSystem:\n",
        "    city_operators = {}\n",
        "\n",
        "    def __init__(self, city, lines):\n",
        "        self.city = city\n",
        "        self.lines = lines\n",
        "        MetroSystem.city_operators[city] = self\n",
        "\n",
        "    def get_metro_info(self):\n",
        "        return f\"{self.city} Metro has {self.lines} lines.\"\n",
        "\n",
        "    @classmethod\n",
        "    def get_operator_info(cls, city_name):\n",
        "        if city_name in cls.city_operators:\n",
        "            return f\"The operator for {city_name} Metro is available.\"\n",
        "        return f\"No operator info for {city_name}.\"\n",
        "\n",
        "    @staticmethod\n",
        "    def calculate_fare(distance_km):\n",
        "        base_fare = 10\n",
        "        fare_per_km = 5\n",
        "        return base_fare + (distance_km * fare_per_km)\n",
        "\n",
        "delhi_metro = MetroSystem(\"Delhi\", 12)\n",
        "mumbai_metro = MetroSystem(\"Mumbai\", 3)\n",
        "\n",
        "print(delhi_metro.get_metro_info())\n",
        "\n",
        "print(MetroSystem.get_operator_info(\"Delhi\"))\n",
        "print(mumbai_metro.get_operator_info(\"Bengaluru\"))\n",
        "\n",
        "print(f\"Fare for 5 KM ride: ₹{MetroSystem.calculate_fare(5)}\")\n",
        "print(f\"Fare for 10 KM ride: ₹{delhi_metro.calculate_fare(10)}\")"
      ],
      "outputs": [
        {
          "output_type": "stream",
          "name": "stdout",
          "text": [
            "Delhi Metro has 12 lines.\n",
            "The operator for Delhi Metro is available.\n",
            "No operator info for Bengaluru.\n",
            "Fare for 5 KM ride: ₹35\n",
            "Fare for 10 KM ride: ₹60\n"
          ]
        }
      ],
      "execution_count": 200,
      "metadata": {
        "colab": {
          "base_uri": "https://localhost:8080/"
        },
        "id": "Icrv_4QvMntW",
        "outputId": "b9f038e1-7540-4f9c-9b44-066d971bb2a9"
      }
    },
    {
      "cell_type": "markdown",
      "source": [
        "\n",
        "\n",
        "**23. How does polymorphism work in Python with inheritance?**\n",
        "\n",
        "Polymorphism in Python, particularly with inheritance, works through the concept of **method overriding** and **duck typing**.\n",
        "\n",
        "1.  **Method Overriding:** When a subclass overrides a method from its superclass, and you have a reference to an object that could be either the superclass or a subclass, Python automatically calls the appropriate (overridden) version of the method based on the *actual type* of the object at runtime.\n",
        "2.  **Duck Typing:** Python's dynamic typing means it doesn't care about the object's explicit type, but rather about its capabilities. If multiple classes (related by inheritance or not) define a method with the same name, any object from these classes can be treated polymorphically. As long as an object has the required method, it can be used where that method is expected, regardless of its class hierarchy.\n",
        "\n",
        "<!-- end list -->"
      ],
      "metadata": {
        "id": "oPwvEJb8MntX"
      }
    },
    {
      "cell_type": "code",
      "source": [
        "class IndianState:\n",
        "    def capital(self):\n",
        "        return \"Capital of a generic Indian State.\"\n",
        "\n",
        "    def describe_culture(self):\n",
        "        return \"Describes general Indian culture.\"\n",
        "\n",
        "class Maharashtra(IndianState):\n",
        "    def capital(self):\n",
        "        return \"Mumbai is the financial capital of Maharashtra.\"\n",
        "\n",
        "    def describe_culture(self):\n",
        "        return \"Known for Marathi language, Bollywood, and Ganesh Chaturthi.\"\n",
        "\n",
        "class Rajasthan(IndianState):\n",
        "    def capital(self):\n",
        "        return \"Jaipur is the Pink City and capital of Rajasthan.\"\n",
        "\n",
        "    def describe_culture(self):\n",
        "        return \"Famous for deserts, forts, and vibrant folk music.\"\n",
        "\n",
        "def explore_india(state_object):\n",
        "    print(state_object.capital())\n",
        "    print(state_object.describe_culture())\n",
        "    print(\"-\" * 20)\n",
        "\n",
        "generic_state = IndianState()\n",
        "maharashtra_state = Maharashtra()\n",
        "rajasthan_state = Rajasthan()\n",
        "\n",
        "print(\"Exploring Indian States:\")\n",
        "explore_india(generic_state)\n",
        "explore_india(maharashtra_state)\n",
        "explore_india(rajasthan_state)\n",
        "\n",
        "all_states = [Maharashtra(), Rajasthan(), IndianState()]\n",
        "print(\"\\nExploring states from a list:\")\n",
        "for state in all_states:\n",
        "    explore_india(state)"
      ],
      "outputs": [
        {
          "output_type": "stream",
          "name": "stdout",
          "text": [
            "Exploring Indian States:\n",
            "Capital of a generic Indian State.\n",
            "Describes general Indian culture.\n",
            "--------------------\n",
            "Mumbai is the financial capital of Maharashtra.\n",
            "Known for Marathi language, Bollywood, and Ganesh Chaturthi.\n",
            "--------------------\n",
            "Jaipur is the Pink City and capital of Rajasthan.\n",
            "Famous for deserts, forts, and vibrant folk music.\n",
            "--------------------\n",
            "\n",
            "Exploring states from a list:\n",
            "Mumbai is the financial capital of Maharashtra.\n",
            "Known for Marathi language, Bollywood, and Ganesh Chaturthi.\n",
            "--------------------\n",
            "Jaipur is the Pink City and capital of Rajasthan.\n",
            "Famous for deserts, forts, and vibrant folk music.\n",
            "--------------------\n",
            "Capital of a generic Indian State.\n",
            "Describes general Indian culture.\n",
            "--------------------\n"
          ]
        }
      ],
      "execution_count": 201,
      "metadata": {
        "colab": {
          "base_uri": "https://localhost:8080/"
        },
        "id": "VPAHaNCBMntX",
        "outputId": "3735bf71-8fb5-444a-88a2-541434643d74"
      }
    },
    {
      "cell_type": "markdown",
      "source": [
        "\n",
        "\n",
        "**24. What is method chaining in OOP?**\n",
        "\n",
        "**Method chaining** (also known as \"fluent interface\") is a programming technique where multiple method calls are made sequentially on the same object in a single statement. For this to work, each method in the chain must return the object itself (`self`), allowing the next method call to be applied to the same object. This makes the code more concise and readable, especially for configuring objects or performing a series of operations."
      ],
      "metadata": {
        "id": "TVqmorMSMntY"
      }
    },
    {
      "cell_type": "code",
      "source": [
        "class ChaiOrder:\n",
        "    def __init__(self, base_milk=\"cow milk\"):\n",
        "        self.ingredients = [base_milk, \"tea leaves\"]\n",
        "        self.sweetness = \"medium\"\n",
        "        self.spice = []\n",
        "\n",
        "    def add_sugar(self, level=\"medium\"):\n",
        "        self.sweetness = level\n",
        "        return self\n",
        "\n",
        "    def add_spice(self, spice_name):\n",
        "        self.spice.append(spice_name)\n",
        "        return self\n",
        "\n",
        "    def make_with(self, milk_type):\n",
        "        self.ingredients[0] = milk_type\n",
        "        return self\n",
        "\n",
        "    def prepare(self):\n",
        "        return (f\"Preparing chai with {', '.join(self.ingredients)}, \"\n",
        "                f\"{self.sweetness} sweetness, and spices: {', '.join(self.spice) if self.spice else 'none'}.\")\n",
        "\n",
        "my_chai = ChaiOrder().make_with(\"buffalo milk\").add_sugar(\"high\").add_spice(\"ginger\").add_spice(\"cardamom\")\n",
        "print(my_chai.prepare())\n",
        "\n",
        "another_chai = ChaiOrder().add_sugar(\"low\").add_spice(\"clove\")\n",
        "print(another_chai.prepare())"
      ],
      "outputs": [
        {
          "output_type": "stream",
          "name": "stdout",
          "text": [
            "Preparing chai with buffalo milk, tea leaves, high sweetness, and spices: ginger, cardamom.\n",
            "Preparing chai with cow milk, tea leaves, low sweetness, and spices: clove.\n"
          ]
        }
      ],
      "execution_count": 202,
      "metadata": {
        "colab": {
          "base_uri": "https://localhost:8080/"
        },
        "id": "tKAZRDC2MntY",
        "outputId": "ceacf1d1-67e2-42e4-8d15-3d2c86f1ba4e"
      }
    },
    {
      "cell_type": "markdown",
      "source": [
        "\n",
        "\n",
        "**25. What is the purpose of the `__call__` method in Python?**\n",
        "\n",
        "The `__call__(self, *args, **kwargs)` method in Python is a special \"dunder\" method that makes an instance of a class callable like a function.\n",
        "\n",
        "**Purpose:**\n",
        "\n",
        "  * If a class defines the `__call__` method, then an object created from that class can be invoked directly using parentheses (e.g., `my_object()`), just like a regular function.\n",
        "  * It's used when you want an object to behave like a function, often for creating \"callable objects\" or \"functors.\" This can be useful for stateful functions (where the object's internal state affects its behavior when called), decorators, or more advanced design patterns.\n",
        "\n",
        "<!-- end list -->"
      ],
      "metadata": {
        "id": "bbgbt9_KMntY"
      }
    },
    {
      "cell_type": "code",
      "source": [
        "class CurrencyConverter:\n",
        "    def __init__(self, inr_exchange_rate):\n",
        "        self.inr_exchange_rate = inr_exchange_rate\n",
        "\n",
        "    def __call__(self, amount_usd):\n",
        "        converted_amount = amount_usd * self.inr_exchange_rate\n",
        "        return f\"₹{converted_amount:.2f}\"\n",
        "\n",
        "usd_to_inr_converter = CurrencyConverter(83.50)\n",
        "\n",
        "print(f\"50 USD is {usd_to_inr_converter(50)}\")\n",
        "print(f\"100 USD is {usd_to_inr_converter(100)}\")\n",
        "\n",
        "tomorrow_converter = CurrencyConverter(83.75)\n",
        "print(f\"50 USD (tomorrow's rate) is {tomorrow_converter(50)}\")"
      ],
      "outputs": [
        {
          "output_type": "stream",
          "name": "stdout",
          "text": [
            "50 USD is ₹4175.00\n",
            "100 USD is ₹8350.00\n",
            "50 USD (tomorrow's rate) is ₹4187.50\n"
          ]
        }
      ],
      "execution_count": 203,
      "metadata": {
        "colab": {
          "base_uri": "https://localhost:8080/"
        },
        "id": "T9ZOUceyMntY",
        "outputId": "fed7759e-de21-47b2-daf8-f6bd8c0bc8a5"
      }
    },
    {
      "cell_type": "markdown",
      "source": [
        "#***OOPS Assignment Practical Section***"
      ],
      "metadata": {
        "id": "GuBDvXqINbH2"
      }
    },
    {
      "cell_type": "code",
      "source": [
        "# 1. Create a parent class Animal with a method speak() that prints a generic message.\n",
        "# Create a child class Dog that overrides the speak() method to print \"Bark!\".\n",
        "\n",
        "class Animal:\n",
        "    \"\"\"\n",
        "    A base class representing an animal with a generic speak method.\n",
        "    \"\"\"\n",
        "    def speak(self):\n",
        "        \"\"\"\n",
        "        Prints a generic message indicating the animal is speaking.\n",
        "        \"\"\"\n",
        "        print(\"This animal makes a sound.\")\n",
        "\n",
        "class Dog(Animal):\n",
        "    \"\"\"\n",
        "    A derived class representing a dog, overriding the speak method.\n",
        "    \"\"\"\n",
        "    def speak(self):\n",
        "        \"\"\"\n",
        "        Prints the specific sound a dog makes.\n",
        "        \"\"\"\n",
        "        print(\"Bark!\")\n",
        "\n",
        "# --- Demonstration ---\n",
        "if __name__ == \"__main__\":\n",
        "    generic_animal = Animal()\n",
        "    dog_instance = Dog()\n",
        "\n",
        "    print(\"Generic Animal speaks:\")\n",
        "    generic_animal.speak()\n",
        "    print(\"Dog speaks:\")\n",
        "    dog_instance.speak()\n",
        "    print(\"-\" * 40)"
      ],
      "outputs": [
        {
          "output_type": "stream",
          "name": "stdout",
          "text": [
            "Generic Animal speaks:\n",
            "This animal makes a sound.\n",
            "Dog speaks:\n",
            "Bark!\n",
            "----------------------------------------\n"
          ]
        }
      ],
      "execution_count": 204,
      "metadata": {
        "colab": {
          "base_uri": "https://localhost:8080/"
        },
        "id": "t-3M6k78QSkG",
        "outputId": "ba31f36c-5434-4e9b-ac22-b9eb82296f8e"
      }
    },
    {
      "cell_type": "code",
      "source": [
        "# 2. Write a program to create an abstract class Shape with a method area().\n",
        "# Derive classes Circle and Rectangle from it and implement the area() method in both.\n",
        "\n",
        "from abc import ABC, abstractmethod\n",
        "import math\n",
        "\n",
        "class Shape(ABC):\n",
        "    \"\"\"\n",
        "    An abstract base class for shapes, defining an abstract area method.\n",
        "    \"\"\"\n",
        "    @abstractmethod\n",
        "    def area(self):\n",
        "        \"\"\"\n",
        "        Abstract method to calculate the area of the shape.\n",
        "        This method must be implemented by concrete subclasses.\n",
        "        \"\"\"\n",
        "        pass\n",
        "\n",
        "class Circle(Shape):\n",
        "    \"\"\"\n",
        "    A concrete class representing a circle, derived from Shape.\n",
        "    \"\"\"\n",
        "    def __init__(self, radius):\n",
        "        \"\"\"\n",
        "        Initializes a Circle object with a given radius.\n",
        "        Args:\n",
        "            radius (float or int): The radius of the circle.\n",
        "        \"\"\"\n",
        "        if not isinstance(radius, (int, float)) or radius < 0:\n",
        "            raise ValueError(\"Radius must be a non-negative number.\")\n",
        "        self.radius = radius\n",
        "\n",
        "    def area(self):\n",
        "        \"\"\"\n",
        "        Calculates and returns the area of the circle.\n",
        "        Returns:\n",
        "            float: The area of the circle.\n",
        "        \"\"\"\n",
        "        return math.pi * self.radius ** 2\n",
        "\n",
        "class Rectangle(Shape):\n",
        "    \"\"\"\n",
        "    A concrete class representing a rectangle, derived from Shape.\n",
        "    \"\"\"\n",
        "    def __init__(self, length, width):\n",
        "        \"\"\"\n",
        "        Initializes a Rectangle object with given length and width.\n",
        "        Args:\n",
        "            length (float or int): The length of the rectangle.\n",
        "            width (float or int): The width of the rectangle.\n",
        "        \"\"\"\n",
        "        if not isinstance(length, (int, float)) or length < 0:\n",
        "            raise ValueError(\"Length must be a non-negative number.\")\n",
        "        if not isinstance(width, (int, float)) or width < 0:\n",
        "            raise ValueError(\"Width must be a non-negative number.\")\n",
        "        self.length = length\n",
        "        self.width = width\n",
        "\n",
        "    def area(self):\n",
        "        \"\"\"\n",
        "        Calculates and returns the area of the rectangle.\n",
        "        Returns:\n",
        "            float: The area of the rectangle.\n",
        "        \"\"\"\n",
        "        return self.length * self.width\n",
        "\n",
        "# --- Demonstration ---\n",
        "if __name__ == \"__main__\":\n",
        "    try:\n",
        "        circle_obj = Circle(5)\n",
        "        rectangle_obj = Rectangle(4, 6)\n",
        "\n",
        "        print(f\"Area of Circle with radius 5: {circle_obj.area():.2f}\")\n",
        "        print(f\"Area of Rectangle with length 4 and width 6: {rectangle_obj.area():.2f}\")\n",
        "    except ValueError as e:\n",
        "        print(f\"Error: {e}\")\n",
        "    print(\"-\" * 40)"
      ],
      "outputs": [
        {
          "output_type": "stream",
          "name": "stdout",
          "text": [
            "Area of Circle with radius 5: 78.54\n",
            "Area of Rectangle with length 4 and width 6: 24.00\n",
            "----------------------------------------\n"
          ]
        }
      ],
      "execution_count": 205,
      "metadata": {
        "colab": {
          "base_uri": "https://localhost:8080/"
        },
        "id": "coqPL_vvQSkI",
        "outputId": "6958faa6-220b-423b-fe32-09f4df86c68f"
      }
    },
    {
      "cell_type": "code",
      "source": [
        "# 3. Implement a multi-level inheritance scenario where a class Vehicle has an attribute type.\n",
        "# Derive a class Car and further derive a class ElectricCar that adds a battery attribute.\n",
        "\n",
        "class Vehicle:\n",
        "    \"\"\"\n",
        "    A base class representing a generic vehicle.\n",
        "    \"\"\"\n",
        "    def __init__(self, vehicle_type):\n",
        "        \"\"\"\n",
        "        Initializes a Vehicle object.\n",
        "        Args:\n",
        "            vehicle_type (str): The type of the vehicle (e.g., \"Car\", \"Bike\").\n",
        "        \"\"\"\n",
        "        self.type = vehicle_type\n",
        "\n",
        "    def get_info(self):\n",
        "        \"\"\"\n",
        "        Returns a string with basic vehicle information.\n",
        "        \"\"\"\n",
        "        return f\"Vehicle Type: {self.type}\"\n",
        "\n",
        "class Car(Vehicle):\n",
        "    \"\"\"\n",
        "    A derived class representing a car.\n",
        "    \"\"\"\n",
        "    def __init__(self, vehicle_type, make, model):\n",
        "        \"\"\"\n",
        "        Initializes a Car object.\n",
        "        Args:\n",
        "            vehicle_type (str): The type of the vehicle (e.g., \"Sedan\", \"SUV\").\n",
        "            make (str): The manufacturer of the car.\n",
        "            model (str): The model of the car.\n",
        "        \"\"\"\n",
        "        super().__init__(vehicle_type)\n",
        "        self.make = make\n",
        "        self.model = model\n",
        "\n",
        "    def get_info(self):\n",
        "        \"\"\"\n",
        "        Returns a string with car-specific information.\n",
        "        \"\"\"\n",
        "        return f\"{super().get_info()}, Make: {self.make}, Model: {self.model}\"\n",
        "\n",
        "class ElectricCar(Car):\n",
        "    \"\"\"\n",
        "    A derived class representing an electric car, inheriting from Car.\n",
        "    \"\"\"\n",
        "    def __init__(self, vehicle_type, make, model, battery_capacity_kwh):\n",
        "        \"\"\"\n",
        "        Initializes an ElectricCar object.\n",
        "        Args:\n",
        "            vehicle_type (str): The type of the vehicle (e.g., \"Sedan\", \"SUV\").\n",
        "            make (str): The manufacturer of the car.\n",
        "            model (str): The model of the car.\n",
        "            battery_capacity_kwh (float or int): The battery capacity in kWh.\n",
        "        \"\"\"\n",
        "        super().__init__(vehicle_type, make, model)\n",
        "        if not isinstance(battery_capacity_kwh, (int, float)) or battery_capacity_kwh < 0:\n",
        "            raise ValueError(\"Battery capacity must be a non-negative number.\")\n",
        "        self.battery_capacity_kwh = battery_capacity_kwh\n",
        "\n",
        "    def get_info(self):\n",
        "        \"\"\"\n",
        "        Returns a string with electric car-specific information.\n",
        "        \"\"\"\n",
        "        return f\"{super().get_info()}, Battery Capacity: {self.battery_capacity_kwh} kWh\"\n",
        "\n",
        "# --- Demonstration ---\n",
        "if __name__ == \"__main__\":\n",
        "    generic_vehicle = Vehicle(\"Bike\")\n",
        "    my_car = Car(\"Sedan\", \"Honda\", \"City\")\n",
        "    my_electric_car = ElectricCar(\"SUV\", \"Tesla\", \"Model Y\", 75.0)\n",
        "\n",
        "    print(generic_vehicle.get_info())\n",
        "    print(my_car.get_info())\n",
        "    print(my_electric_car.get_info())\n",
        "    print(\"-\" * 40)"
      ],
      "outputs": [
        {
          "output_type": "stream",
          "name": "stdout",
          "text": [
            "Vehicle Type: Bike\n",
            "Vehicle Type: Sedan, Make: Honda, Model: City\n",
            "Vehicle Type: SUV, Make: Tesla, Model: Model Y, Battery Capacity: 75.0 kWh\n",
            "----------------------------------------\n"
          ]
        }
      ],
      "execution_count": 206,
      "metadata": {
        "colab": {
          "base_uri": "https://localhost:8080/"
        },
        "id": "KaCDGyQ5QSkJ",
        "outputId": "04b6cf5d-e34d-40a0-a435-807d9cb5e582"
      }
    },
    {
      "cell_type": "code",
      "source": [
        "# 4. Demonstrate polymorphism by creating a base class Bird with a method fly().\n",
        "# Create two derived classes Sparrow and Penguin that override the fly() method.\n",
        "\n",
        "class Bird:\n",
        "    \"\"\"\n",
        "    A base class representing a bird with a generic fly method.\n",
        "    \"\"\"\n",
        "    def fly(self):\n",
        "        \"\"\"\n",
        "        Prints a generic message about bird flight.\n",
        "        \"\"\"\n",
        "        print(\"This bird can fly.\")\n",
        "\n",
        "class Sparrow(Bird):\n",
        "    \"\"\"\n",
        "    A derived class representing a sparrow, overriding the fly method.\n",
        "    \"\"\"\n",
        "    def fly(self):\n",
        "        \"\"\"\n",
        "        Prints a message specific to a sparrow's flight.\n",
        "        \"\"\"\n",
        "        print(\"Sparrows fly high and swiftly.\")\n",
        "\n",
        "class Penguin(Bird):\n",
        "    \"\"\"\n",
        "    A derived class representing a penguin, overriding the fly method.\n",
        "    \"\"\"\n",
        "    def fly(self):\n",
        "        \"\"\"\n",
        "        Prints a message specific to a penguin (which cannot fly).\n",
        "        \"\"\"\n",
        "        print(\"Penguins cannot fly, but they are excellent swimmers!\")\n",
        "\n",
        "# --- Demonstration ---\n",
        "if __name__ == \"__main__\":\n",
        "    generic_bird = Bird()\n",
        "    sparrow_instance = Sparrow()\n",
        "    penguin_instance = Penguin()\n",
        "\n",
        "    print(\"Generic Bird:\")\n",
        "    generic_bird.fly()\n",
        "    print(\"Sparrow:\")\n",
        "    sparrow_instance.fly()\n",
        "    print(\"Penguin:\")\n",
        "    penguin_instance.fly()\n",
        "\n",
        "    # Demonstrating polymorphism through a list\n",
        "    print(\"\\nDemonstrating polymorphism with a list of birds:\")\n",
        "    birds = [Bird(), Sparrow(), Penguin()]\n",
        "    for bird in birds:\n",
        "        bird.fly()\n",
        "    print(\"-\" * 40)"
      ],
      "outputs": [
        {
          "output_type": "stream",
          "name": "stdout",
          "text": [
            "Generic Bird:\n",
            "This bird can fly.\n",
            "Sparrow:\n",
            "Sparrows fly high and swiftly.\n",
            "Penguin:\n",
            "Penguins cannot fly, but they are excellent swimmers!\n",
            "\n",
            "Demonstrating polymorphism with a list of birds:\n",
            "This bird can fly.\n",
            "Sparrows fly high and swiftly.\n",
            "Penguins cannot fly, but they are excellent swimmers!\n",
            "----------------------------------------\n"
          ]
        }
      ],
      "execution_count": 207,
      "metadata": {
        "colab": {
          "base_uri": "https://localhost:8080/"
        },
        "id": "AuOX7UvKQSkK",
        "outputId": "c316daa2-59cf-4bc2-9494-73c94ac0d284"
      }
    },
    {
      "cell_type": "code",
      "source": [
        "# 5. Write a program to demonstrate encapsulation by creating a class BankAccount\n",
        "# with private attributes balance and methods to deposit, withdraw, and check balance.\n",
        "\n",
        "class BankAccount:\n",
        "    \"\"\"\n",
        "    A class representing a bank account, demonstrating encapsulation.\n",
        "    \"\"\"\n",
        "    def __init__(self, account_number, initial_balance=0.0):\n",
        "        \"\"\"\n",
        "        Initializes a BankAccount object with an account number and an initial balance.\n",
        "        Private attribute: _balance\n",
        "        Args:\n",
        "            account_number (str): Unique identifier for the account.\n",
        "            initial_balance (float): The starting balance of the account.\n",
        "        \"\"\"\n",
        "        self._account_number = account_number # Protected, typically indicates internal use\n",
        "        if not isinstance(initial_balance, (int, float)) or initial_balance < 0:\n",
        "            raise ValueError(\"Initial balance must be a non-negative number.\")\n",
        "        self.__balance = initial_balance  # Private attribute\n",
        "\n",
        "    def deposit(self, amount):\n",
        "        \"\"\"\n",
        "        Deposits a specified amount into the account.\n",
        "        Args:\n",
        "            amount (float): The amount to deposit.\n",
        "        Returns:\n",
        "            bool: True if deposit is successful, False otherwise.\n",
        "        \"\"\"\n",
        "        if not isinstance(amount, (int, float)) or amount <= 0:\n",
        "            print(\"Deposit amount must be a positive number.\")\n",
        "            return False\n",
        "        self.__balance += amount\n",
        "        print(f\"Deposited: ₹{amount:.2f}. New Balance: ₹{self.__balance:.2f}\")\n",
        "        return True\n",
        "\n",
        "    def withdraw(self, amount):\n",
        "        \"\"\"\n",
        "        Withdraws a specified amount from the account if sufficient funds are available.\n",
        "        Args:\n",
        "            amount (float): The amount to withdraw.\n",
        "        Returns:\n",
        "            bool: True if withdrawal is successful, False otherwise.\n",
        "        \"\"\"\n",
        "        if not isinstance(amount, (int, float)) or amount <= 0:\n",
        "            print(\"Withdrawal amount must be a positive number.\")\n",
        "            return False\n",
        "        if amount > self.__balance:\n",
        "            print(f\"Insufficient funds. Current Balance: ₹{self.__balance:.2f}. \"\n",
        "                  f\"Attempted Withdrawal: ₹{amount:.2f}\")\n",
        "            return False\n",
        "        self.__balance -= amount\n",
        "        print(f\"Withdrew: ₹{amount:.2f}. New Balance: ₹{self.__balance:.2f}\")\n",
        "        return True\n",
        "\n",
        "    def check_balance(self):\n",
        "        \"\"\"\n",
        "        Returns the current balance of the account.\n",
        "        Returns:\n",
        "            float: The current balance.\n",
        "        \"\"\"\n",
        "        return self.__balance\n",
        "\n",
        "    def get_account_number(self):\n",
        "        \"\"\"\n",
        "        Returns the account number.\n",
        "        \"\"\"\n",
        "        return self._account_number\n",
        "\n",
        "# --- Demonstration ---\n",
        "if __name__ == \"__main__\":\n",
        "    try:\n",
        "        my_account = BankAccount(\"SBI12345\", 1000.0)\n",
        "        print(f\"Account Number: {my_account.get_account_number()}\")\n",
        "        print(f\"Initial Balance: ₹{my_account.check_balance():.2f}\")\n",
        "\n",
        "        my_account.deposit(500.0)\n",
        "        my_account.withdraw(200.0)\n",
        "        my_account.withdraw(1500.0) # Attempt to withdraw more than balance\n",
        "        my_account.deposit(-100.0) # Invalid deposit\n",
        "        my_account.withdraw(0) # Invalid withdrawal\n",
        "\n",
        "        print(f\"Final Balance: ₹{my_account.check_balance():.2f}\")\n",
        "\n",
        "        # Attempting to access private attribute directly (will cause an AttributeError or Name Mangling access)\n",
        "        # print(my_account.__balance) # This will raise an AttributeError\n",
        "        # To access for demonstration purposes only, via name mangling:\n",
        "        # print(my_account._BankAccount__balance) # Not recommended practice\n",
        "    except ValueError as e:\n",
        "        print(f\"Error initializing account: {e}\")\n",
        "    print(\"-\" * 40)"
      ],
      "outputs": [
        {
          "output_type": "stream",
          "name": "stdout",
          "text": [
            "Account Number: SBI12345\n",
            "Initial Balance: ₹1000.00\n",
            "Deposited: ₹500.00. New Balance: ₹1500.00\n",
            "Withdrew: ₹200.00. New Balance: ₹1300.00\n",
            "Insufficient funds. Current Balance: ₹1300.00. Attempted Withdrawal: ₹1500.00\n",
            "Deposit amount must be a positive number.\n",
            "Withdrawal amount must be a positive number.\n",
            "Final Balance: ₹1300.00\n",
            "----------------------------------------\n"
          ]
        }
      ],
      "execution_count": 208,
      "metadata": {
        "colab": {
          "base_uri": "https://localhost:8080/"
        },
        "id": "XqG6r0l_QSkK",
        "outputId": "3e22c911-7e99-45cb-db6c-ef339bf48b9d"
      }
    },
    {
      "cell_type": "code",
      "source": [
        "# 6. Demonstrate runtime polymorphism using a method play() in a base class Instrument.\n",
        "# Derive classes Guitar and Piano that implement their own version of play().\n",
        "\n",
        "class Instrument:\n",
        "    \"\"\"\n",
        "    A base class representing a musical instrument with a generic play method.\n",
        "    \"\"\"\n",
        "    def play(self):\n",
        "        \"\"\"\n",
        "        Prints a generic message about playing an instrument.\n",
        "        \"\"\"\n",
        "        print(\"This instrument is being played.\")\n",
        "\n",
        "class Guitar(Instrument):\n",
        "    \"\"\"\n",
        "    A derived class representing a guitar, overriding the play method.\n",
        "    \"\"\"\n",
        "    def play(self):\n",
        "        \"\"\"\n",
        "        Prints a message specific to playing a guitar.\n",
        "        \"\"\"\n",
        "        print(\"The guitar is strumming a melody.\")\n",
        "\n",
        "class Piano(Instrument):\n",
        "    \"\"\"\n",
        "    A derived class representing a piano, overriding the play method.\n",
        "    \"\"\"\n",
        "    def play(self):\n",
        "        \"\"\"\n",
        "        Prints a message specific to playing a piano.\n",
        "        \"\"\"\n",
        "        print(\"The piano keys are producing harmonious sounds.\")\n",
        "\n",
        "# --- Demonstration ---\n",
        "if __name__ == \"__main__\":\n",
        "    generic_instrument = Instrument()\n",
        "    guitar_instance = Guitar()\n",
        "    piano_instance = Piano()\n",
        "\n",
        "    print(\"Generic Instrument:\")\n",
        "    generic_instrument.play()\n",
        "    print(\"Guitar:\")\n",
        "    guitar_instance.play()\n",
        "    print(\"Piano:\")\n",
        "    piano_instance.play()\n",
        "\n",
        "    # Demonstrating runtime polymorphism through a list\n",
        "    print(\"\\nDemonstrating polymorphism with a list of instruments:\")\n",
        "    instruments = [Instrument(), Guitar(), Piano()]\n",
        "    for inst in instruments:\n",
        "        inst.play()\n",
        "    print(\"-\" * 40)"
      ],
      "outputs": [
        {
          "output_type": "stream",
          "name": "stdout",
          "text": [
            "Generic Instrument:\n",
            "This instrument is being played.\n",
            "Guitar:\n",
            "The guitar is strumming a melody.\n",
            "Piano:\n",
            "The piano keys are producing harmonious sounds.\n",
            "\n",
            "Demonstrating polymorphism with a list of instruments:\n",
            "This instrument is being played.\n",
            "The guitar is strumming a melody.\n",
            "The piano keys are producing harmonious sounds.\n",
            "----------------------------------------\n"
          ]
        }
      ],
      "execution_count": 209,
      "metadata": {
        "colab": {
          "base_uri": "https://localhost:8080/"
        },
        "id": "-LHYbKSZQSkL",
        "outputId": "28bd3258-62da-4969-9756-fa69850d8b1e"
      }
    },
    {
      "cell_type": "code",
      "source": [
        "# 7. Create a class MathOperations with a class method add_numbers() to add two numbers\n",
        "# and a static method subtract_numbers() to subtract two numbers.\n",
        "\n",
        "class MathOperations:\n",
        "    \"\"\"\n",
        "    A utility class providing mathematical operations using class and static methods.\n",
        "    \"\"\"\n",
        "    _operation_count = 0  # To track class method calls (example)\n",
        "\n",
        "    @classmethod\n",
        "    def add_numbers(cls, num1, num2):\n",
        "        \"\"\"\n",
        "        A class method to add two numbers.\n",
        "        Args:\n",
        "            num1 (int or float): The first number.\n",
        "            num2 (int or float): The second number.\n",
        "        Returns:\n",
        "            int or float: The sum of the two numbers.\n",
        "        \"\"\"\n",
        "        if not isinstance(num1, (int, float)) or not isinstance(num2, (int, float)):\n",
        "            raise TypeError(\"Both inputs must be numbers for addition.\")\n",
        "        cls._operation_count += 1 # Example of using cls\n",
        "        return num1 + num2\n",
        "\n",
        "    @staticmethod\n",
        "    def subtract_numbers(num1, num2):\n",
        "        \"\"\"\n",
        "        A static method to subtract two numbers.\n",
        "        Args:\n",
        "            num1 (int or float): The first number (minuend).\n",
        "            num2 (int or float): The second number (subtrahend).\n",
        "        Returns:\n",
        "            int or float: The difference between the two numbers.\n",
        "        \"\"\"\n",
        "        if not isinstance(num1, (int, float)) or not isinstance(num2, (int, float)):\n",
        "            raise TypeError(\"Both inputs must be numbers for subtraction.\")\n",
        "        return num1 - num2\n",
        "\n",
        "# --- Demonstration ---\n",
        "if __name__ == \"__main__\":\n",
        "    # Calling class method\n",
        "    try:\n",
        "        sum_result = MathOperations.add_numbers(10, 5)\n",
        "        print(f\"10 + 5 = {sum_result}\")\n",
        "        print(f\"Operation Count (after add): {MathOperations._operation_count}\")\n",
        "\n",
        "        sum_result_float = MathOperations.add_numbers(7.5, 2.5)\n",
        "        print(f\"7.5 + 2.5 = {sum_result_float}\")\n",
        "        print(f\"Operation Count (after add): {MathOperations._operation_count}\")\n",
        "\n",
        "        # Calling static method\n",
        "        diff_result = MathOperations.subtract_numbers(20, 8)\n",
        "        print(f\"20 - 8 = {diff_result}\")\n",
        "\n",
        "        diff_result_float = MathOperations.subtract_numbers(15.0, 3.5)\n",
        "        print(f\"15.0 - 3.5 = {diff_result_float}\")\n",
        "\n",
        "        # Error cases\n",
        "        # MathOperations.add_numbers(10, \"five\")\n",
        "        # MathOperations.subtract_numbers(\"twenty\", 8)\n",
        "    except TypeError as e:\n",
        "        print(f\"Error: {e}\")\n",
        "    print(\"-\" * 40)"
      ],
      "outputs": [
        {
          "output_type": "stream",
          "name": "stdout",
          "text": [
            "10 + 5 = 15\n",
            "Operation Count (after add): 1\n",
            "7.5 + 2.5 = 10.0\n",
            "Operation Count (after add): 2\n",
            "20 - 8 = 12\n",
            "15.0 - 3.5 = 11.5\n",
            "----------------------------------------\n"
          ]
        }
      ],
      "execution_count": 210,
      "metadata": {
        "colab": {
          "base_uri": "https://localhost:8080/"
        },
        "id": "lHzlXh5MQSkL",
        "outputId": "a9db0431-407b-4403-a600-11f58b9460df"
      }
    },
    {
      "cell_type": "code",
      "source": [
        "# 8. Implement a class Person with a class method to count the total number of persons created.\n",
        "\n",
        "class Person:\n",
        "    \"\"\"\n",
        "    A class representing a person, with a class-level counter for instances created.\n",
        "    \"\"\"\n",
        "    _person_count = 0  # Class variable to keep track of the number of Person objects created\n",
        "\n",
        "    def __init__(self, name, age):\n",
        "        \"\"\"\n",
        "        Initializes a Person object and increments the person count.\n",
        "        Args:\n",
        "            name (str): The name of the person.\n",
        "            age (int): The age of the person.\n",
        "        \"\"\"\n",
        "        if not isinstance(name, str) or not name.strip():\n",
        "            raise ValueError(\"Name must be a non-empty string.\")\n",
        "        if not isinstance(age, int) or age < 0:\n",
        "            raise ValueError(\"Age must be a non-negative integer.\")\n",
        "        self.name = name\n",
        "        self.age = age\n",
        "        Person._person_count += 1  # Increment the class counter\n",
        "\n",
        "    @classmethod\n",
        "    def get_total_persons(cls):\n",
        "        \"\"\"\n",
        "        Returns the total number of Person objects created.\n",
        "        Returns:\n",
        "            int: The total count of persons.\n",
        "        \"\"\"\n",
        "        return cls._person_count\n",
        "\n",
        "    def get_info(self):\n",
        "        \"\"\"\n",
        "        Returns a string with the person's name and age.\n",
        "        \"\"\"\n",
        "        return f\"Name: {self.name}, Age: {self.age}\"\n",
        "\n",
        "# --- Demonstration ---\n",
        "if __name__ == \"__main__\":\n",
        "\n",
        "    print(f\"Initial total persons: {Person.get_total_persons()}\")\n",
        "\n",
        "    try:\n",
        "        person1 = Person(\"Alice\", 30)\n",
        "        print(f\"Person 1: {person1.get_info()}\")\n",
        "        print(f\"Total persons created: {Person.get_total_persons()}\")\n",
        "\n",
        "        person2 = Person(\"Bob\", 25)\n",
        "        print(f\"Person 2: {person2.get_info()}\")\n",
        "        print(f\"Total persons created: {Person.get_total_persons()}\")\n",
        "\n",
        "        person3 = Person(\"Charlie\", 35)\n",
        "        print(f\"Person 3: {person3.get_info()}\")\n",
        "        print(f\"Total persons created: {Person.get_total_persons()}\")\n",
        "\n",
        "        # Creating an invalid person\n",
        "        # invalid_person = Person(\"\", -5)\n",
        "    except ValueError as e:\n",
        "        print(f\"Error creating person: {e}\")\n",
        "\n",
        "    print(\"-\" * 40)"
      ],
      "outputs": [
        {
          "output_type": "stream",
          "name": "stdout",
          "text": [
            "Initial total persons: 0\n",
            "Person 1: Name: Alice, Age: 30\n",
            "Total persons created: 1\n",
            "Person 2: Name: Bob, Age: 25\n",
            "Total persons created: 2\n",
            "Person 3: Name: Charlie, Age: 35\n",
            "Total persons created: 3\n",
            "----------------------------------------\n"
          ]
        }
      ],
      "execution_count": 211,
      "metadata": {
        "colab": {
          "base_uri": "https://localhost:8080/"
        },
        "id": "U9iGOVFAQSkM",
        "outputId": "a8262981-7e40-4558-e198-491e82789b1a"
      }
    },
    {
      "cell_type": "code",
      "source": [
        "# 9. Write a class Fraction with attributes numerator and denominator.\n",
        "# Override the str method to display the fraction as \"numerator/denominator\".\n",
        "\n",
        "class Fraction:\n",
        "    \"\"\"\n",
        "    A class representing a mathematical fraction.\n",
        "    \"\"\"\n",
        "    def __init__(self, numerator, denominator):\n",
        "        \"\"\"\n",
        "        Initializes a Fraction object.\n",
        "        Args:\n",
        "            numerator (int): The numerator of the fraction.\n",
        "            denominator (int): The denominator of the fraction.\n",
        "                               Must not be zero.\n",
        "        \"\"\"\n",
        "        if not isinstance(numerator, int) or not isinstance(denominator, int):\n",
        "            raise TypeError(\"Numerator and denominator must be integers.\")\n",
        "        if denominator == 0:\n",
        "            raise ValueError(\"Denominator cannot be zero.\")\n",
        "        self.numerator = numerator\n",
        "        self.denominator = denominator\n",
        "\n",
        "    def __str__(self):\n",
        "        \"\"\"\n",
        "        Returns a string representation of the fraction in \"numerator/denominator\" format.\n",
        "        This method is called by str() and print().\n",
        "        \"\"\"\n",
        "        return f\"{self.numerator}/{self.denominator}\"\n",
        "\n",
        "    def __repr__(self):\n",
        "        \"\"\"\n",
        "        Returns a developer-friendly string representation of the Fraction object.\n",
        "        \"\"\"\n",
        "        return f\"Fraction({self.numerator}, {self.denominator})\"\n",
        "\n",
        "# --- Demonstration ---\n",
        "if __name__ == \"__main__\":\n",
        "    try:\n",
        "        fraction1 = Fraction(1, 2)\n",
        "        fraction2 = Fraction(3, 4)\n",
        "        fraction3 = Fraction(7, 1)\n",
        "        fraction4 = Fraction(-5, 6)\n",
        "\n",
        "        print(f\"Fraction 1: {fraction1}\") # Uses __str__\n",
        "        print(f\"Fraction 2: {fraction2}\")\n",
        "        print(f\"Fraction 3: {fraction3}\")\n",
        "        print(f\"Fraction 4: {fraction4}\")\n",
        "\n",
        "        print(f\"Using str() directly: {str(fraction1)}\")\n",
        "        print(f\"Using repr() directly: {repr(fraction1)}\")\n",
        "\n",
        "        # Error case: zero denominator\n",
        "        # invalid_fraction = Fraction(1, 0)\n",
        "    except (ValueError, TypeError) as e:\n",
        "        print(f\"Error creating fraction: {e}\")\n",
        "    print(\"-\" * 40)"
      ],
      "outputs": [
        {
          "output_type": "stream",
          "name": "stdout",
          "text": [
            "Fraction 1: 1/2\n",
            "Fraction 2: 3/4\n",
            "Fraction 3: 7/1\n",
            "Fraction 4: -5/6\n",
            "Using str() directly: 1/2\n",
            "Using repr() directly: Fraction(1, 2)\n",
            "----------------------------------------\n"
          ]
        }
      ],
      "execution_count": 212,
      "metadata": {
        "colab": {
          "base_uri": "https://localhost:8080/"
        },
        "id": "W-VXP7zQQSkM",
        "outputId": "7e5393cc-b130-43c5-c10a-fcf2db1c39ed"
      }
    },
    {
      "cell_type": "code",
      "source": [
        "# 10. Demonstrate operator overloading by creating a class Vector and overriding the add method\n",
        "# to add two vectors.\n",
        "\n",
        "class Vector:\n",
        "    \"\"\"\n",
        "    A class representing a 2D vector, demonstrating operator overloading for addition.\n",
        "    \"\"\"\n",
        "    def __init__(self, x, y):\n",
        "        \"\"\"\n",
        "        Initializes a Vector object with x and y components.\n",
        "        Args:\n",
        "            x (int or float): The x-component of the vector.\n",
        "            y (int or float): The y-component of the vector.\n",
        "        \"\"\"\n",
        "        if not isinstance(x, (int, float)) or not isinstance(y, (int, float)):\n",
        "            raise TypeError(\"Vector components must be numbers.\")\n",
        "        self.x = x\n",
        "        self.y = y\n",
        "\n",
        "    def __add__(self, other):\n",
        "        \"\"\"\n",
        "        Overloads the addition operator (+) for Vector objects.\n",
        "        Adds two vectors component-wise.\n",
        "        Args:\n",
        "            other (Vector): The other Vector object to add.\n",
        "        Returns:\n",
        "            Vector: A new Vector object representing the sum.\n",
        "        Raises:\n",
        "            TypeError: If the 'other' object is not a Vector.\n",
        "        \"\"\"\n",
        "        if not isinstance(other, Vector):\n",
        "            raise TypeError(\"Can only add a Vector object to another Vector.\")\n",
        "        return Vector(self.x + other.x, self.y + other.y)\n",
        "\n",
        "    def __str__(self):\n",
        "        \"\"\"\n",
        "        Returns a string representation of the vector.\n",
        "        \"\"\"\n",
        "        return f\"Vector({self.x}, {self.y})\"\n",
        "\n",
        "    def __repr__(self):\n",
        "        \"\"\"\n",
        "        Returns a developer-friendly string representation.\n",
        "        \"\"\"\n",
        "        return f\"Vector({self.x}, {self.y})\"\n",
        "\n",
        "# --- Demonstration ---\n",
        "if __name__ == \"__main__\":\n",
        "    try:\n",
        "        vector1 = Vector(2, 3)\n",
        "        vector2 = Vector(5, 7)\n",
        "        vector3 = Vector(-1, 4)\n",
        "\n",
        "        print(f\"Vector 1: {vector1}\")\n",
        "        print(f\"Vector 2: {vector2}\")\n",
        "        print(f\"Vector 3: {vector3}\")\n",
        "\n",
        "        # Add two vectors using the overloaded + operator\n",
        "        sum_vector1_2 = vector1 + vector2\n",
        "        print(f\"Vector 1 + Vector 2 = {sum_vector1_2}\")\n",
        "\n",
        "        sum_vector1_3 = vector1 + vector3\n",
        "        print(f\"Vector 1 + Vector 3 = {sum_vector1_3}\")\n",
        "\n",
        "        # Chained addition\n",
        "        total_sum = vector1 + vector2 + vector3\n",
        "        print(f\"Vector 1 + Vector 2 + Vector 3 = {total_sum}\")\n",
        "\n",
        "        # Attempting to add with a non-Vector object\n",
        "        # invalid_sum = vector1 + 10\n",
        "    except TypeError as e:\n",
        "        print(f\"Error during addition: {e}\")\n",
        "    except ValueError as e: # Catch if constructor raises ValueError\n",
        "        print(f\"Error creating vector: {e}\")\n",
        "    print(\"-\" * 40)"
      ],
      "outputs": [
        {
          "output_type": "stream",
          "name": "stdout",
          "text": [
            "Vector 1: Vector(2, 3)\n",
            "Vector 2: Vector(5, 7)\n",
            "Vector 3: Vector(-1, 4)\n",
            "Vector 1 + Vector 2 = Vector(7, 10)\n",
            "Vector 1 + Vector 3 = Vector(1, 7)\n",
            "Vector 1 + Vector 2 + Vector 3 = Vector(6, 14)\n",
            "----------------------------------------\n"
          ]
        }
      ],
      "execution_count": 213,
      "metadata": {
        "colab": {
          "base_uri": "https://localhost:8080/"
        },
        "id": "fqzLu-ZoQSkM",
        "outputId": "f1280ccb-506e-46dc-ac88-58aebb2da401"
      }
    },
    {
      "cell_type": "code",
      "source": [
        "# 11. Create a class Person with attributes name and age. Add a method greet()\n",
        "# that prints \"Hello, my name is [name] and I am [age] years old.\"\n",
        "\n",
        "class Person:\n",
        "    \"\"\"\n",
        "    A class representing a person with name and age attributes.\n",
        "    \"\"\"\n",
        "    def __init__(self, name, age):\n",
        "        \"\"\"\n",
        "        Initializes a Person object.\n",
        "        Args:\n",
        "            name (str): The name of the person.\n",
        "            age (int): The age of the person.\n",
        "        \"\"\"\n",
        "        if not isinstance(name, str) or not name.strip():\n",
        "            raise ValueError(\"Name must be a non-empty string.\")\n",
        "        if not isinstance(age, int) or age < 0:\n",
        "            raise ValueError(\"Age must be a non-negative integer.\")\n",
        "        self.name = name\n",
        "        self.age = age\n",
        "\n",
        "    def greet(self):\n",
        "        \"\"\"\n",
        "        Prints a greeting message including the person's name and age.\n",
        "        \"\"\"\n",
        "        print(f\"Hello, my name is {self.name} and I am {self.age} years old.\")\n",
        "\n",
        "# --- Demonstration ---\n",
        "if __name__ == \"__main__\":\n",
        "    try:\n",
        "        person1 = Person(\"Ravi\", 28)\n",
        "        person2 = Person(\"Priya\", 35)\n",
        "\n",
        "        person1.greet()\n",
        "        person2.greet()\n",
        "\n",
        "        # Error cases\n",
        "        # invalid_person_name = Person(\"\", 30)\n",
        "        # invalid_person_age = Person(\"Kiran\", -10)\n",
        "    except ValueError as e:\n",
        "        print(f\"Error creating person: {e}\")\n",
        "    print(\"-\" * 40)"
      ],
      "outputs": [
        {
          "output_type": "stream",
          "name": "stdout",
          "text": [
            "Hello, my name is Ravi and I am 28 years old.\n",
            "Hello, my name is Priya and I am 35 years old.\n",
            "----------------------------------------\n"
          ]
        }
      ],
      "execution_count": 214,
      "metadata": {
        "colab": {
          "base_uri": "https://localhost:8080/"
        },
        "id": "cPK4TZMsQSkN",
        "outputId": "1d2b4c60-e118-49d6-f010-5fb6095e53cd"
      }
    },
    {
      "cell_type": "code",
      "source": [
        "# 12. Implement a class Student with attributes name and grades.\n",
        "# Create a method average_grade() to compute the average of the grades.\n",
        "\n",
        "class Student:\n",
        "    \"\"\"\n",
        "    A class representing a student with a name and a list of grades.\n",
        "    \"\"\"\n",
        "    def __init__(self, name, grades):\n",
        "        \"\"\"\n",
        "        Initializes a Student object.\n",
        "        Args:\n",
        "            name (str): The name of the student.\n",
        "            grades (list): A list of numerical grades.\n",
        "        \"\"\"\n",
        "        if not isinstance(name, str) or not name.strip():\n",
        "            raise ValueError(\"Name must be a non-empty string.\")\n",
        "        if not isinstance(grades, list):\n",
        "            raise TypeError(\"Grades must be a list.\")\n",
        "        for grade in grades:\n",
        "            if not isinstance(grade, (int, float)) or not (0 <= grade <= 100):\n",
        "                raise ValueError(\"All grades must be numbers between 0 and 100.\")\n",
        "\n",
        "        self.name = name\n",
        "        self.grades = grades\n",
        "\n",
        "    def average_grade(self):\n",
        "        \"\"\"\n",
        "        Computes and returns the average of the student's grades.\n",
        "        Returns:\n",
        "            float: The average grade, or 0.0 if there are no grades.\n",
        "        \"\"\"\n",
        "        if not self.grades:\n",
        "            return 0.0\n",
        "        return sum(self.grades) / len(self.grades)\n",
        "\n",
        "    def get_info(self):\n",
        "        \"\"\"\n",
        "        Returns a string with the student's name and grades.\n",
        "        \"\"\"\n",
        "        return f\"Student Name: {self.name}, Grades: {self.grades}\"\n",
        "\n",
        "# --- Demonstration ---\n",
        "if __name__ == \"__main__\":\n",
        "    try:\n",
        "        student1 = Student(\"Aarav Sharma\", [85, 90, 78, 92])\n",
        "        student2 = Student(\"Diya Singh\", [60, 70, 65])\n",
        "        student3 = Student(\"Empty Grades\", [])\n",
        "\n",
        "        print(f\"{student1.get_info()}, Average Grade: {student1.average_grade():.2f}\")\n",
        "        print(f\"{student2.get_info()}, Average Grade: {student2.average_grade():.2f}\")\n",
        "        print(f\"{student3.get_info()}, Average Grade: {student3.average_grade():.2f}\")\n",
        "\n",
        "        # Error cases\n",
        "        # invalid_student_name = Student(\"\", [70, 80])\n",
        "        # invalid_student_grades_type = Student(\"Rahul\", \"not a list\")\n",
        "        # invalid_student_grades_value = Student(\"Pooja\", [90, 105, 80])\n",
        "    except (ValueError, TypeError) as e:\n",
        "        print(f\"Error creating student: {e}\")\n",
        "    print(\"-\" * 40)"
      ],
      "outputs": [
        {
          "output_type": "stream",
          "name": "stdout",
          "text": [
            "Student Name: Aarav Sharma, Grades: [85, 90, 78, 92], Average Grade: 86.25\n",
            "Student Name: Diya Singh, Grades: [60, 70, 65], Average Grade: 65.00\n",
            "Student Name: Empty Grades, Grades: [], Average Grade: 0.00\n",
            "----------------------------------------\n"
          ]
        }
      ],
      "execution_count": 215,
      "metadata": {
        "colab": {
          "base_uri": "https://localhost:8080/"
        },
        "id": "yR0fR4bnQSkN",
        "outputId": "1685c839-f4a2-47d1-ac19-3a0e7c81038d"
      }
    },
    {
      "cell_type": "code",
      "source": [
        "# 13. Create a class Rectangle with methods set_dimensions() to set the dimensions\n",
        "# and area() to calculate the area.\n",
        "\n",
        "class Rectangle:\n",
        "    \"\"\"\n",
        "    A class representing a rectangle with methods to set dimensions and calculate area.\n",
        "    \"\"\"\n",
        "    def __init__(self, length=0.0, width=0.0):\n",
        "        \"\"\"\n",
        "        Initializes a Rectangle object.\n",
        "        Args:\n",
        "            length (float or int): The initial length of the rectangle.\n",
        "            width (float or int): The initial width of the rectangle.\n",
        "        \"\"\"\n",
        "        self._length = 0.0 # Use protected variable for internal state\n",
        "        self._width = 0.0\n",
        "        self.set_dimensions(length, width) # Use the setter for initial values\n",
        "\n",
        "    def set_dimensions(self, length, width):\n",
        "        \"\"\"\n",
        "        Sets the length and width of the rectangle.\n",
        "        Args:\n",
        "            length (float or int): The new length of the rectangle.\n",
        "            width (float or int): The new width of the rectangle.\n",
        "        Raises:\n",
        "            ValueError: If length or width are negative.\n",
        "            TypeError: If length or width are not numbers.\n",
        "        \"\"\"\n",
        "        if not isinstance(length, (int, float)) or length < 0:\n",
        "            raise ValueError(\"Length must be a non-negative number.\")\n",
        "        if not isinstance(width, (int, float)) or width < 0:\n",
        "            raise ValueError(\"Width must be a non-negative number.\")\n",
        "        self._length = length\n",
        "        self._width = width\n",
        "\n",
        "    def area(self):\n",
        "        \"\"\"\n",
        "        Calculates and returns the area of the rectangle.\n",
        "        Returns:\n",
        "            float: The area of the rectangle.\n",
        "        \"\"\"\n",
        "        return self._length * self._width\n",
        "\n",
        "    def get_dimensions(self):\n",
        "        \"\"\"\n",
        "        Returns the current dimensions of the rectangle.\n",
        "        Returns:\n",
        "            tuple: A tuple containing (length, width).\n",
        "        \"\"\"\n",
        "        return (self._length, self._width)\n",
        "\n",
        "    def __str__(self):\n",
        "        \"\"\"\n",
        "        Returns a user-friendly string representation of the rectangle.\n",
        "        \"\"\"\n",
        "        return f\"Rectangle(Length: {self._length}, Width: {self._width})\"\n",
        "\n",
        "# --- Demonstration ---\n",
        "if __name__ == \"__main__\":\n",
        "    try:\n",
        "        rect1 = Rectangle(10, 5)\n",
        "        print(f\"Rectangle 1: {rect1}\")\n",
        "        print(f\"Area of Rectangle 1: {rect1.area():.2f}\")\n",
        "\n",
        "        rect2 = Rectangle() # Initialized with default 0,0\n",
        "        print(f\"Rectangle 2 (initial): {rect2}\")\n",
        "        rect2.set_dimensions(7.5, 4.0)\n",
        "        print(f\"Rectangle 2 (after setting dimensions): {rect2}\")\n",
        "        print(f\"Area of Rectangle 2: {rect2.area():.2f}\")\n",
        "\n",
        "        # Error cases\n",
        "        # invalid_rect1 = Rectangle(-2, 5)\n",
        "        # rect1.set_dimensions(10, \"abc\")\n",
        "    except (ValueError, TypeError) as e:\n",
        "        print(f\"Error: {e}\")\n",
        "    print(\"-\" * 40)"
      ],
      "outputs": [
        {
          "output_type": "stream",
          "name": "stdout",
          "text": [
            "Rectangle 1: Rectangle(Length: 10, Width: 5)\n",
            "Area of Rectangle 1: 50.00\n",
            "Rectangle 2 (initial): Rectangle(Length: 0.0, Width: 0.0)\n",
            "Rectangle 2 (after setting dimensions): Rectangle(Length: 7.5, Width: 4.0)\n",
            "Area of Rectangle 2: 30.00\n",
            "----------------------------------------\n"
          ]
        }
      ],
      "execution_count": 216,
      "metadata": {
        "colab": {
          "base_uri": "https://localhost:8080/"
        },
        "id": "7iVeCBMTQSkN",
        "outputId": "39333348-e4e6-4d11-a782-8e864f0c18b4"
      }
    },
    {
      "cell_type": "code",
      "source": [
        "# 14. Create a class Employee with a method calculate_salary() that computes the salary\n",
        "# based on hours worked and hourly rate.\n",
        "# Create a derived class Manager that adds a bonus to the salary.\n",
        "\n",
        "class Employee:\n",
        "    \"\"\"\n",
        "    A base class representing an employee.\n",
        "    \"\"\"\n",
        "    def __init__(self, name, employee_id, hourly_rate):\n",
        "        \"\"\"\n",
        "        Initializes an Employee object.\n",
        "        Args:\n",
        "            name (str): The name of the employee.\n",
        "            employee_id (str): The employee's ID.\n",
        "            hourly_rate (float): The hourly rate of the employee.\n",
        "        \"\"\"\n",
        "        if not isinstance(name, str) or not name.strip():\n",
        "            raise ValueError(\"Name must be a non-empty string.\")\n",
        "        if not isinstance(employee_id, str) or not employee_id.strip():\n",
        "            raise ValueError(\"Employee ID must be a non-empty string.\")\n",
        "        if not isinstance(hourly_rate, (int, float)) or hourly_rate < 0:\n",
        "            raise ValueError(\"Hourly rate must be a non-negative number.\")\n",
        "\n",
        "        self.name = name\n",
        "        self.employee_id = employee_id\n",
        "        self.hourly_rate = hourly_rate\n",
        "\n",
        "    def calculate_salary(self, hours_worked):\n",
        "        \"\"\"\n",
        "        Computes the salary based on hours worked and hourly rate.\n",
        "        Args:\n",
        "            hours_worked (float or int): The number of hours worked.\n",
        "        Returns:\n",
        "            float: The calculated salary.\n",
        "        \"\"\"\n",
        "        if not isinstance(hours_worked, (int, float)) or hours_worked < 0:\n",
        "            raise ValueError(\"Hours worked must be a non-negative number.\")\n",
        "        return self.hourly_rate * hours_worked\n",
        "\n",
        "    def get_info(self):\n",
        "        \"\"\"\n",
        "        Returns basic employee information.\n",
        "        \"\"\"\n",
        "        return f\"Employee ID: {self.employee_id}, Name: {self.name}, Hourly Rate: ₹{self.hourly_rate:.2f}\"\n",
        "\n",
        "class Manager(Employee):\n",
        "    \"\"\"\n",
        "    A derived class representing a manager, inheriting from Employee, with an added bonus.\n",
        "    \"\"\"\n",
        "    def __init__(self, name, employee_id, hourly_rate, bonus):\n",
        "        \"\"\"\n",
        "        Initializes a Manager object.\n",
        "        Args:\n",
        "            name (str): The name of the manager.\n",
        "            employee_id (str): The manager's ID.\n",
        "            hourly_rate (float): The hourly rate of the manager.\n",
        "            bonus (float): The bonus amount for the manager.\n",
        "        \"\"\"\n",
        "        super().__init__(name, employee_id, hourly_rate)\n",
        "        if not isinstance(bonus, (int, float)) or bonus < 0:\n",
        "            raise ValueError(\"Bonus must be a non-negative number.\")\n",
        "        self.bonus = bonus\n",
        "\n",
        "    def calculate_salary(self, hours_worked):\n",
        "        \"\"\"\n",
        "        Computes the manager's salary including the bonus.\n",
        "        Overrides the base class method.\n",
        "        Args:\n",
        "            hours_worked (float or int): The number of hours worked.\n",
        "        Returns:\n",
        "            float: The calculated salary including bonus.\n",
        "        \"\"\"\n",
        "        base_salary = super().calculate_salary(hours_worked)\n",
        "        return base_salary + self.bonus\n",
        "\n",
        "    def get_info(self):\n",
        "        \"\"\"\n",
        "        Returns manager-specific information.\n",
        "        \"\"\"\n",
        "        return f\"{super().get_info()}, Bonus: ₹{self.bonus:.2f}\"\n",
        "\n",
        "# --- Demonstration ---\n",
        "if __name__ == \"__main__\":\n",
        "    try:\n",
        "        employee1 = Employee(\"Sita Devi\", \"EMP001\", 150.0)\n",
        "        manager1 = Manager(\"Ram Kumar\", \"MGR001\", 200.0, 5000.0)\n",
        "\n",
        "        hours_for_employee = 160\n",
        "        hours_for_manager = 160\n",
        "\n",
        "        emp_salary = employee1.calculate_salary(hours_for_employee)\n",
        "        mgr_salary = manager1.calculate_salary(hours_for_manager)\n",
        "\n",
        "        print(f\"{employee1.get_info()}\")\n",
        "        print(f\"Salary for {hours_for_employee} hours: ₹{emp_salary:.2f}\\n\")\n",
        "\n",
        "        print(f\"{manager1.get_info()}\")\n",
        "        print(f\"Salary for {hours_for_manager} hours: ₹{mgr_salary:.2f}\")\n",
        "\n",
        "        # Error cases\n",
        "        # invalid_employee_rate = Employee(\"Test\", \"EMP002\", -10)\n",
        "        # invalid_manager_bonus = Manager(\"Test\", \"MGR002\", 100, -100)\n",
        "    except ValueError as e:\n",
        "        print(f\"Error: {e}\")\n",
        "    print(\"-\" * 40)"
      ],
      "outputs": [
        {
          "output_type": "stream",
          "name": "stdout",
          "text": [
            "Employee ID: EMP001, Name: Sita Devi, Hourly Rate: ₹150.00\n",
            "Salary for 160 hours: ₹24000.00\n",
            "\n",
            "Employee ID: MGR001, Name: Ram Kumar, Hourly Rate: ₹200.00, Bonus: ₹5000.00\n",
            "Salary for 160 hours: ₹37000.00\n",
            "----------------------------------------\n"
          ]
        }
      ],
      "execution_count": 217,
      "metadata": {
        "colab": {
          "base_uri": "https://localhost:8080/"
        },
        "id": "kuPFJpPBQSkO",
        "outputId": "5088015f-b7c8-4946-c525-e144d817729d"
      }
    },
    {
      "cell_type": "code",
      "source": [
        "#15. Create a class Product with attributes name, price, and quantity. Implement a method total_price() that calculates the total price of the product.\n",
        "\n",
        "class Product:\n",
        "    def __init__(self, name: str, price: float, quantity: int):\n",
        "        self.name = name\n",
        "        self.price = price\n",
        "        self.quantity = quantity\n",
        "\n",
        "    def total_price(self) -> float:\n",
        "        return self.price * self.quantity\n",
        "\n",
        "if __name__ == \"__main__\":\n",
        "    basmati_rice = Product(\"Basmati Rice (5kg)\", 750.00, 1)\n",
        "    detergent = Product(\"Detergent Powder (1kg)\", 150.00, 3)\n",
        "    smart_tv = Product(\"Smart LED TV\", 45000.00, 1)\n",
        "    smartphone = Product(\"Smartphone (Mid-Range)\", 18000.00, 1)\n",
        "\n",
        "    print(f\"Product: {basmati_rice.name}, Unit Price: ₹{basmati_rice.price:.2f}, Quantity: {basmati_rice.quantity}\")\n",
        "    print(f\"Total price for {basmati_rice.name}: ₹{basmati_rice.total_price():.2f}\\n\")\n",
        "\n",
        "    print(f\"Product: {detergent.name}, Unit Price: ₹{detergent.price:.2f}, Quantity: {detergent.quantity}\")\n",
        "    print(f\"Total price for {detergent.name}: ₹{detergent.total_price():.2f}\\n\")\n",
        "\n",
        "    print(f\"Product: {smart_tv.name}, Unit Price: ₹{smart_tv.price:.2f}, Quantity: {smart_tv.quantity}\")\n",
        "    print(f\"Total price for {smart_tv.name}: ₹{smart_tv.total_price():.2f}\\n\")\n",
        "\n",
        "    print(f\"Product: {smartphone.name}, Unit Price: ₹{smartphone.price:.2f}, Quantity: {smartphone.quantity}\")\n",
        "    print(f\"Total price for {smartphone.name}: ₹{smartphone.total_price():.2f}\\n\")\n"
      ],
      "metadata": {
        "colab": {
          "base_uri": "https://localhost:8080/"
        },
        "id": "Z_boNMUjSHJX",
        "outputId": "e21a3d44-84b5-4323-862b-f045005555a2"
      },
      "execution_count": 218,
      "outputs": [
        {
          "output_type": "stream",
          "name": "stdout",
          "text": [
            "Product: Basmati Rice (5kg), Unit Price: ₹750.00, Quantity: 1\n",
            "Total price for Basmati Rice (5kg): ₹750.00\n",
            "\n",
            "Product: Detergent Powder (1kg), Unit Price: ₹150.00, Quantity: 3\n",
            "Total price for Detergent Powder (1kg): ₹450.00\n",
            "\n",
            "Product: Smart LED TV, Unit Price: ₹45000.00, Quantity: 1\n",
            "Total price for Smart LED TV: ₹45000.00\n",
            "\n",
            "Product: Smartphone (Mid-Range), Unit Price: ₹18000.00, Quantity: 1\n",
            "Total price for Smartphone (Mid-Range): ₹18000.00\n",
            "\n"
          ]
        }
      ]
    },
    {
      "cell_type": "code",
      "source": [
        "# 16.Create a class Animal with an abstract method sound().\n",
        "# Create two derived classes Cow and Sheep that implement the sound() method.\n",
        "\n",
        "from abc import ABC, abstractmethod\n",
        "\n",
        "class Animal(ABC):\n",
        "    \"\"\"\n",
        "    An abstract base class for animals, requiring derived classes to implement\n",
        "    a 'sound()' method.\n",
        "    \"\"\"\n",
        "    def __init__(self, name: str):\n",
        "        \"\"\"\n",
        "        Initializes an Animal instance.\n",
        "\n",
        "        Args:\n",
        "            name (str): The name of the animal.\n",
        "        \"\"\"\n",
        "        self.name = name\n",
        "\n",
        "    @abstractmethod\n",
        "    def sound(self) -> str:\n",
        "        \"\"\"\n",
        "        Abstract method to be implemented by derived classes.\n",
        "        Returns the sound the animal makes.\n",
        "        \"\"\"\n",
        "        pass\n",
        "\n",
        "class Cow(Animal):\n",
        "    \"\"\"\n",
        "    A derived class from Animal, representing a Cow.\n",
        "    Implements the specific sound a cow makes.\n",
        "    \"\"\"\n",
        "    def __init__(self, name: str):\n",
        "        \"\"\"\n",
        "        Initializes a Cow instance.\n",
        "\n",
        "        Args:\n",
        "            name (str): The name of the cow.\n",
        "        \"\"\"\n",
        "        super().__init__(name)\n",
        "\n",
        "    def sound(self) -> str:\n",
        "        \"\"\"\n",
        "        Returns the sound a cow makes.\n",
        "        \"\"\"\n",
        "        return \"Moo!\"\n",
        "\n",
        "class Sheep(Animal):\n",
        "    \"\"\"\n",
        "    A derived class from Animal, representing a Sheep.\n",
        "    Implements the specific sound a sheep makes.\n",
        "    \"\"\"\n",
        "    def __init__(self, name: str):\n",
        "        \"\"\"\n",
        "        Initializes a Sheep instance.\n",
        "\n",
        "        Args:\n",
        "            name (str): The name of the sheep.\n",
        "        \"\"\"\n",
        "        super().__init__(name)\n",
        "\n",
        "    def sound(self) -> str:\n",
        "        \"\"\"\n",
        "        Returns the sound a sheep makes.\n",
        "        \"\"\"\n",
        "        return \"Baa!\"\n",
        "\n",
        "# --- Example Usage for Animal Hierarchy ---\n",
        "if __name__ == \"__main__\":\n",
        "    # Create instances of derived animal classes\n",
        "    betsy = Cow(\"Betsy\")\n",
        "    shaun = Sheep(\"Shaun\")\n",
        "\n",
        "    # Call the sound method on each animal\n",
        "    print(f\"{betsy.name} says: {betsy.sound()}\")\n",
        "    print(f\"{shaun.name} says: {shaun.sound()}\")\n",
        "\n",
        "    # Trying to instantiate Animal directly would raise a TypeError\n",
        "    # animal = Animal(\"Generic Animal\") # This line would cause an error\n"
      ],
      "metadata": {
        "colab": {
          "base_uri": "https://localhost:8080/"
        },
        "id": "m5yE8d0LVFnM",
        "outputId": "b4f0b324-0821-446a-b798-c54be6870cc0"
      },
      "execution_count": 219,
      "outputs": [
        {
          "output_type": "stream",
          "name": "stdout",
          "text": [
            "Betsy says: Moo!\n",
            "Shaun says: Baa!\n"
          ]
        }
      ]
    },
    {
      "cell_type": "code",
      "source": [
        "# 17.Create a class Book with attributes title, author, and year_published.\n",
        "# Add a method get_book_info() that returns a formatted string with the book's details.\n",
        "\n",
        "class Book:\n",
        "    \"\"\"\n",
        "    Represents a book with a title, author, and year of publication.\n",
        "    \"\"\"\n",
        "    def __init__(self, title: str, author: str, year_published: int):\n",
        "        \"\"\"\n",
        "        Initializes a new Book instance.\n",
        "\n",
        "        Args:\n",
        "            title (str): The title of the book.\n",
        "            author (str): The author of the book.\n",
        "            year_published (int): The year the book was published.\n",
        "        \"\"\"\n",
        "        self.title = title\n",
        "        self.author = author\n",
        "        self.year_published = year_published\n",
        "\n",
        "    def get_book_info(self) -> str:\n",
        "        \"\"\"\n",
        "        Returns a formatted string containing the book's details.\n",
        "\n",
        "        Returns:\n",
        "            str: A string like \"Title by Author (Year Published)\".\n",
        "        \"\"\"\n",
        "        return f\"{self.title} by {self.author} ({self.year_published})\"\n",
        "\n",
        "# --- Example Usage for Book Class ---\n",
        "if __name__ == \"__main__\":\n",
        "    # Create some book instances\n",
        "    book1 = Book(\"1984\", \"George Orwell\", 1949)\n",
        "    book2 = Book(\"Pride and Prejudice\", \"Jane Austen\", 1813)\n",
        "\n",
        "    # Get and print book information\n",
        "    print(f\"Book 1 Info: {book1.get_book_info()}\")\n",
        "    print(f\"Book 2 Info: {book2.get_book_info()}\")\n"
      ],
      "metadata": {
        "colab": {
          "base_uri": "https://localhost:8080/"
        },
        "id": "BWcid1n7VNHZ",
        "outputId": "89ee870f-78fc-43e4-ede7-ba44dc983720"
      },
      "execution_count": 220,
      "outputs": [
        {
          "output_type": "stream",
          "name": "stdout",
          "text": [
            "Book 1 Info: 1984 by George Orwell (1949)\n",
            "Book 2 Info: Pride and Prejudice by Jane Austen (1813)\n"
          ]
        }
      ]
    },
    {
      "cell_type": "code",
      "source": [
        "# 18.Create a class House with attributes address and price.\n",
        "# Create a derived class Mansion that adds an attribute number_of_rooms.\n",
        "\n",
        "class House:\n",
        "    \"\"\"\n",
        "    Represents a generic house with an address and price.\n",
        "    \"\"\"\n",
        "    def __init__(self, address: str, price: float):\n",
        "        \"\"\"\n",
        "        Initializes a new House instance.\n",
        "\n",
        "        Args:\n",
        "            address (str): The address of the house.\n",
        "            price (float): The price of the house.\n",
        "        \"\"\"\n",
        "        self.address = address\n",
        "        self.price = price\n",
        "\n",
        "    def __str__(self) -> str:\n",
        "        \"\"\"\n",
        "        Returns a string representation of the House object.\n",
        "        \"\"\"\n",
        "        return f\"Address: {self.address}, Price: ${self.price:,.2f}\"\n",
        "\n",
        "class Mansion(House):\n",
        "    \"\"\"\n",
        "    Represents a mansion, derived from House, with an additional attribute\n",
        "    for the number of rooms.\n",
        "    \"\"\"\n",
        "    def __init__(self, address: str, price: float, number_of_rooms: int):\n",
        "        \"\"\"\n",
        "        Initializes a new Mansion instance.\n",
        "\n",
        "        Args:\n",
        "            address (str): The address of the mansion.\n",
        "            price (float): The price of the mansion.\n",
        "            number_of_rooms (int): The number of rooms in the mansion.\n",
        "        \"\"\"\n",
        "        super().__init__(address, price) # Call the constructor of the base class\n",
        "        self.number_of_rooms = number_of_rooms\n",
        "\n",
        "    def __str__(self) -> str:\n",
        "        \"\"\"\n",
        "        Returns a string representation of the Mansion object,\n",
        "        including the number of rooms.\n",
        "        \"\"\"\n",
        "        return (f\"Mansion at {self.address}, Price: ${self.price:,.2f}, \"\n",
        "                f\"Rooms: {self.number_of_rooms}\")\n",
        "\n",
        "# --- Example Usage for House Hierarchy ---\n",
        "if __name__ == \"__main__\":\n",
        "    # Create instances of House and Mansion\n",
        "    my_house = House(\"123 Main St\", 250000.00)\n",
        "    my_mansion = Mansion(\"789 Grand Ave\", 5000000.00, 25)\n",
        "\n",
        "    # Print information for each\n",
        "    print(f\"House Info: {my_house}\")\n",
        "    print(f\"Mansion Info: {my_mansion}\")\n",
        "\n",
        "    # Accessing specific attributes\n",
        "    print(f\"The mansion's address is: {my_mansion.address}\")\n",
        "    print(f\"The mansion has {my_mansion.number_of_rooms} rooms.\")\n"
      ],
      "metadata": {
        "colab": {
          "base_uri": "https://localhost:8080/"
        },
        "id": "o3WVGuHvVSsL",
        "outputId": "effdaa16-7352-432f-e2b8-7db720c60ce2"
      },
      "execution_count": 221,
      "outputs": [
        {
          "output_type": "stream",
          "name": "stdout",
          "text": [
            "House Info: Address: 123 Main St, Price: $250,000.00\n",
            "Mansion Info: Mansion at 789 Grand Ave, Price: $5,000,000.00, Rooms: 25\n",
            "The mansion's address is: 789 Grand Ave\n",
            "The mansion has 25 rooms.\n"
          ]
        }
      ]
    }
  ]
}