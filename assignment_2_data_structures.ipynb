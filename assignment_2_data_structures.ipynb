{
  "nbformat": 4,
  "nbformat_minor": 0,
  "metadata": {
    "colab": {
      "provenance": []
    },
    "kernelspec": {
      "name": "python3",
      "display_name": "Python 3"
    },
    "language_info": {
      "name": "python"
    }
  },
  "cells": [
    {
      "cell_type": "markdown",
      "source": [
        "**Assignment 1 python basics theory section**"
      ],
      "metadata": {
        "id": "5463KOgd1uKa"
      }
    },
    {
      "cell_type": "markdown",
      "source": [
        "1. What are data structures, and why are they important?\n",
        "-Data structures are specialized formats for organizing, processing, retrieving, and storing data efficiently. They provide a foundational way to manage and store information so it can be accessed and modified quickly. Their importance lies in their ability to optimize algorithms, leading to more performant and scalable software applications. Fundamentally, they serve as the building blocks for almost all kinds of software, from complex databases to simple mobile apps."
      ],
      "metadata": {
        "id": "3rqy_C9b5d2S"
      }
    },
    {
      "cell_type": "markdown",
      "source": [
        "2. Explain the difference between mutable and immutable data types with examples.\n",
        "-Mutable data types are those whose internal state can be changed after they are created, meaning their content can be altered without making a new object; examples in Python include lists, dictionaries, and sets. Conversely, immutable data types cannot be modified once they are created, so any apparent change actually results in a new object being generated. Python's immutable types include numbers (integers, floats), strings, and tuples. This distinction is critical for understanding how data behaves in memory and when passed between functions."
      ],
      "metadata": {
        "id": "UEvdmXi65kz4"
      }
    },
    {
      "cell_type": "markdown",
      "source": [
        "3. What are the main differences between lists and tuples in Python?\n",
        "-The primary difference between lists and tuples in Python is mutability: lists are mutable, allowing their elements to be added, removed, or changed after creation, while tuples are immutable, meaning their elements cannot be modified once defined. Syntactically, lists are created using square brackets [], whereas tuples use parentheses (). Lists are generally preferred for collections of items that are expected to change frequently, offering methods for modification like append() and remove(). Tuples, due to their immutability, are often used for fixed collections of data or when the sequence needs to be protected from alteration, such as function return values or dictionary keys."
      ],
      "metadata": {
        "id": "IXWfsJBA54iD"
      }
    },
    {
      "cell_type": "markdown",
      "source": [
        "4. Describe how dictionaries store data.\n",
        "-Dictionaries in Python store data as unordered collections of unique key-value pairs. Each key maps to a specific value, acting as an identifier that allows for fast retrieval of its associated data. Keys must be unique and immutable data types (like strings, numbers, or tuples), while values can be of any data type and can be mutable or immutable. Internally, dictionaries are typically implemented using hash tables, which enable very efficient (average O(1) time complexity) lookups, insertions, and deletions."
      ],
      "metadata": {
        "id": "_xdAgvDp6A1T"
      }
    },
    {
      "cell_type": "markdown",
      "source": [
        "5. Why might you use a set instead of a list in Python?\n",
        "-We might choose a set over a list in Python primarily when we need to store only unique elements, as sets automatically handle the removal of duplicates. Sets offer significantly faster membership testing (checking if an item is present) with average O(1) time complexity, compared to lists' O(n) linear search. Additionally, sets provide convenient methods for mathematical set operations like union, intersection, and difference. If the order of elements is not important and you don't require indexing, a set is often a more efficient and appropriate data structure."
      ],
      "metadata": {
        "id": "3E8psDYF6I0X"
      }
    },
    {
      "cell_type": "markdown",
      "source": [
        "6. What is a string in Python, and how is it different from a list?\n",
        "-A string in Python is an ordered sequence of characters used to represent text data. A key characteristic of strings is their immutability, meaning that once a string is created, its individual characters cannot be changed in place. In contrast, a list is an ordered and mutable collection that can hold items of various data types. While both are sequences, lists allow elements to be added, removed, or modified after creation, making them suitable for dynamic collections, whereas strings are fixed textual representations."
      ],
      "metadata": {
        "id": "KrSzghh46GRa"
      }
    },
    {
      "cell_type": "markdown",
      "source": [
        "7. How do tuples ensure data integrity in Python?\n",
        "-Tuples primarily ensure data integrity in Python through their inherent immutability. Once a tuple is created, its elements cannot be changed, added, or removed, guaranteeing that the data it contains remains constant. This fixed nature prevents accidental or unintended modifications to the data from other parts of a program. Because they are immutable, tuples can also be reliably used as keys in dictionaries or elements in sets, where objects must be hashable and thus unchanging. Therefore, tuples are ideal for representing collections of data that are meant to be constant and protected from alteration."
      ],
      "metadata": {
        "id": "hqUp6GvN6QC0"
      }
    },
    {
      "cell_type": "markdown",
      "source": [
        "8. What is a hash table, and how does it relate to dictionaries in Python?\n",
        "-A hash table is a data structure that implements an associative array, efficiently mapping keys to values. It works by using a hash function to compute an index into an array of buckets, where the actual data is stored. Python's dictionaries are fundamentally implemented using hash tables, which is why they offer incredibly fast average-case performance for operations like adding, retrieving, or deleting key-value pairs. This underlying mechanism allows dictionaries to provide near-constant time (O(1)) access to elements, making them highly efficient for lookup-intensive tasks."
      ],
      "metadata": {
        "id": "BZo3Elks6UQC"
      }
    },
    {
      "cell_type": "markdown",
      "source": [
        "9. Can lists contain different data types in Python?\n",
        "-Yes, lists in Python are highly flexible and can indeed contain elements of different data types. For instance, a single list can simultaneously hold an integer, a string, a floating-point number, a boolean, and even other complex objects like nested lists or dictionaries. This heterogeneity is a core feature that makes lists incredibly versatile for organizing diverse collections of information. There are no restrictions on the types of objects that can be stored together within a Python list, allowing for great adaptability in data representation."
      ],
      "metadata": {
        "id": "RgTuhabw6Ymu"
      }
    },
    {
      "cell_type": "markdown",
      "source": [
        "10. Explain why strings are immutable in Python.\n",
        "-Strings are immutable in Python primarily to ensure data consistency and allow for efficient memory management. Because they cannot be changed after creation, strings can be safely used as hashable objects, making them suitable for dictionary keys or set elements, which rely on a consistent hash value. Immutability also simplifies concurrent programming, as multiple threads can safely access the same string without fear of modification. Furthermore, Python can optimize memory by having multiple string variables point to the same string object if they have identical values."
      ],
      "metadata": {
        "id": "CIn3EFRL6fHw"
      }
    },
    {
      "cell_type": "markdown",
      "source": [
        "11. What advantages do dictionaries offer over lists for certain tasks?\n",
        "-Dictionaries offer significant advantages over lists for tasks requiring fast retrieval of values based on a descriptive identifier, as they provide average O(1) time complexity for key-based lookups. They are ideal for representing associative data, where each piece of information has a unique, meaningful name or label. Dictionaries also improve code readability by allowing access to data using descriptive keys rather than numerical indices. This makes them particularly well-suited for flexible data representation where elements don't necessarily have a fixed order or a consistent set of attributes."
      ],
      "metadata": {
        "id": "cpokR4If6vIT"
      }
    },
    {
      "cell_type": "markdown",
      "source": [
        "12. Describe a scenario where using a tuple would be preferable over a list.\n",
        "-You might prefer using a tuple over a list when representing a student's fixed course enrollment, like a specific semester's schedule. For example, a tuple ('Fall 2024', 'Calculus I', 'Physics 101', 'English Comp') could store the semester and courses, which are typically set and shouldn't change accidentally once registered. Unlike a list, a tuple's immutability ensures this specific course combination remains intact and cannot be altered by mistake. This makes tuples ideal for fixed records like an official transcript entry, safeguarding data integrity for unchanging academic records."
      ],
      "metadata": {
        "id": "DXK8Nchj6pN1"
      }
    },
    {
      "cell_type": "markdown",
      "source": [
        "13. How do sets handle duplicate values in Python?\n",
        "-Sets in Python inherently handle duplicate values by automatically ensuring that all elements stored within them are unique. When you attempt to add a duplicate element to a set, it simply ignores the operation, and no error is raised. This means that if you create a set from a list or another iterable containing duplicates, the resulting set will only contain one instance of each unique element. This characteristic makes sets an extremely efficient tool for de-duplicating collections of items."
      ],
      "metadata": {
        "id": "S2HiSiem6zEL"
      }
    },
    {
      "cell_type": "markdown",
      "source": [
        "14. How does the \"in\" keyword work differently for lists and dictionaries?\n",
        "-For lists, the \"in\" keyword checks for the presence of a specific value among the list's elements, performing a linear search that can be slower for large lists (average O(n) time complexity). Conversely, when used with dictionaries, \"in\" efficiently checks for the presence of a key within the dictionary's keys, leveraging its hash table implementation for much faster (average O(1)) lookups. While you can check for values in dictionaries using value in my_dict.values(), this still involves iterating through all values, similar to a list search. Therefore, the core difference lies in whether in searches for an item's value or a key's existence."
      ],
      "metadata": {
        "id": "XGUKiH6J63je"
      }
    },
    {
      "cell_type": "markdown",
      "source": [
        "15. Can you modify the elements of a tuple? Explain why or why not.\n",
        "-No, you cannot directly modify the elements of a tuple after it has been created. This is because tuples are an immutable data type in Python, a fundamental design characteristic. Once a tuple is defined, its contents are fixed; you cannot add new elements, remove existing ones, or change the value of an individual element in place. This immutability is a deliberate design choice that ensures data integrity and allows tuples to be hashable, which is necessary for their use as dictionary keys or set elements."
      ],
      "metadata": {
        "id": "R3swZ3ceRgFk"
      }
    },
    {
      "cell_type": "markdown",
      "source": [
        "16. What is a nested dictionary, and give an example of its use case.\n",
        "-A nested dictionary is a dictionary where one or more of its values are themselves other dictionaries. This structure allows us to create hierarchical or multi-level data representations. A common use case for us would be storing structured information about multiple entities, like customer details in an e-commerce platform. For example, {'customer_001': {'name': 'Priya Sharma', 'city': 'Mumbai', 'order_count': 5}, 'customer_002': {'name': 'Amit Singh', 'city': 'Delhi', 'order_count': 8}} effectively represents customer data where each customer ID maps to another dictionary containing specific customer details. This enables us to organize complex related data in a clearly structured manner."
      ],
      "metadata": {
        "id": "cqrRuLhZSaqL"
      }
    },
    {
      "cell_type": "markdown",
      "source": [
        "17. Describe the time complexity of accessing elements in a dictionary.\n",
        "-The time complexity of accessing elements in a dictionary by their key is, on average, constant time, denoted as O(1). We achieve this exceptional speed because dictionaries are implemented using hash tables, which allow for a near-direct lookup of the value's memory location once the key's hash is computed. In the rare worst-case scenario, often due to many hash collisions, access could degrade to linear time, O(n), but Python's highly optimized hash function design minimizes this. Consequently, we find dictionaries to be extremely efficient for key-based data retrieval in our applications."
      ],
      "metadata": {
        "id": "znbtDBWGSvfY"
      }
    },
    {
      "cell_type": "markdown",
      "source": [
        "18. In what situations are lists preferred over dictionaries?\n",
        "-Lists are preferred over dictionaries when the order of elements is crucial and needs to be maintained, as lists preserve insertion order. We also use them when we need to access elements by their numerical position or index, like tracking the sequence of stops on a local Mumbai train route. Lists are suitable for simple, homogeneous collections where each item is equally important and doesn't require a unique identifying key. Finally, if our primary operation involves iterating through a sequence of items in a specific order, lists typically offer a more straightforward and intuitive approach."
      ],
      "metadata": {
        "id": "S4E2B-YAS0J9"
      }
    },
    {
      "cell_type": "markdown",
      "source": [
        "19. Why are dictionaries considered unordered, and how does that affect data retrieval?\n",
        "-Historically (prior to Python 3.7), we considered dictionaries unordered because their underlying hash table implementation focused purely on efficient key-based lookups rather than maintaining any specific insertion sequence. This meant that the order in which items were inserted was not guaranteed during retrieval or iteration. However, from Python 3.7 onwards, dictionaries do maintain insertion order, so while they are not inherently sorted by key or value, they are no longer \"unordered\" in the traditional sense of not preserving sequence. This change means that now, when iterating or retrieving items, we can rely on the order in which they were added, but they still don't offer positional indexing like lists."
      ],
      "metadata": {
        "id": "7WUT9mAtS3JV"
      }
    },
    {
      "cell_type": "markdown",
      "source": [
        "20. Explain the difference between a list and a dictionary in terms of data retrieval.\n",
        "In terms of data retrieval, we access elements in lists primarily by their numerical position or index (e.g., my_list[0]), offering direct and efficient O(1) lookup when the index is known. Conversely, finding a specific value within a list usually requires a linear search, which is less efficient. Dictionaries, on the other hand, retrieve data by associating unique keys with values (e.g., my_dict['city_name']), providing extremely fast average O(1) lookup based on the key. Therefore, we optimize lists for ordered, positional access, while we optimize dictionaries for fast, named access to data based on unique identifiers."
      ],
      "metadata": {
        "id": "bD2Wy4BcS-Tm"
      }
    },
    {
      "cell_type": "markdown",
      "source": [
        "**Assignment 1 python basics practical section**"
      ],
      "metadata": {
        "id": "kQN3WO1q716_"
      }
    },
    {
      "cell_type": "code",
      "source": [
        "# Question 1. Write a code to create a string with your name and print it.\n",
        "my_name = \"Hamza Menghrani\"\n",
        "print(my_name)\n"
      ],
      "metadata": {
        "colab": {
          "base_uri": "https://localhost:8080/"
        },
        "id": "rCBQ9D4G74L9",
        "outputId": "85c63338-e47b-4609-9a09-9d186163720f"
      },
      "execution_count": 61,
      "outputs": [
        {
          "output_type": "stream",
          "name": "stdout",
          "text": [
            "Hamza Menghrani\n"
          ]
        }
      ]
    },
    {
      "cell_type": "code",
      "source": [
        "# Question 2. Write a code to find the length of the string \"Hello World\".\n",
        "s = \"Hello World\"\n",
        "print(len(s))"
      ],
      "metadata": {
        "colab": {
          "base_uri": "https://localhost:8080/"
        },
        "id": "jARlIm2E8cND",
        "outputId": "3aec2ea4-f552-40f8-a813-410e3460c85f"
      },
      "execution_count": 62,
      "outputs": [
        {
          "output_type": "stream",
          "name": "stdout",
          "text": [
            "11\n"
          ]
        }
      ]
    },
    {
      "cell_type": "code",
      "source": [
        "# Question 3. Write a code to slice the first 3 characters from the string \"Python Programming\".\n",
        "s = \"Python Programming\"\n",
        "print(s[:3])"
      ],
      "metadata": {
        "colab": {
          "base_uri": "https://localhost:8080/"
        },
        "id": "8nC5mHU_8v2-",
        "outputId": "18577816-30c1-4c32-a96e-64f67b0c4fa3"
      },
      "execution_count": 63,
      "outputs": [
        {
          "output_type": "stream",
          "name": "stdout",
          "text": [
            "Pyt\n"
          ]
        }
      ]
    },
    {
      "cell_type": "code",
      "source": [
        "# Question 4. Write a code to convert the string \"hello\" to uppercase.\n",
        "s = \"hello\"\n",
        "print(s.upper())"
      ],
      "metadata": {
        "colab": {
          "base_uri": "https://localhost:8080/"
        },
        "id": "wEAU2anS80kf",
        "outputId": "63168bde-d3ea-47a4-97bb-8136e3f28e4f"
      },
      "execution_count": 64,
      "outputs": [
        {
          "output_type": "stream",
          "name": "stdout",
          "text": [
            "HELLO\n"
          ]
        }
      ]
    },
    {
      "cell_type": "code",
      "source": [
        "# Question 5. Write a code to replace the word \"apple\" with \"orange\" in the string \"I like apple\".\n",
        "s = \"I like apple\"\n",
        "print(s.replace(\"apple\", \"orange\"))"
      ],
      "metadata": {
        "colab": {
          "base_uri": "https://localhost:8080/"
        },
        "id": "uT0-tE1I-UOX",
        "outputId": "c044fec7-2eee-44c3-ef2b-81912dab6b88"
      },
      "execution_count": 65,
      "outputs": [
        {
          "output_type": "stream",
          "name": "stdout",
          "text": [
            "I like orange\n"
          ]
        }
      ]
    },
    {
      "cell_type": "code",
      "source": [
        "# Question 6. Write a code to create a list with numbers 1 to 5 and print it.\n",
        "my_list = [1, 2, 3, 4, 5]\n",
        "print(my_list)"
      ],
      "metadata": {
        "colab": {
          "base_uri": "https://localhost:8080/"
        },
        "id": "r8JOIy8v9kae",
        "outputId": "1c797c6b-c6b5-4a61-bc5c-dd0e04987d78"
      },
      "execution_count": 66,
      "outputs": [
        {
          "output_type": "stream",
          "name": "stdout",
          "text": [
            "[1, 2, 3, 4, 5]\n"
          ]
        }
      ]
    },
    {
      "cell_type": "code",
      "source": [
        "# Question 7. Write a code to append the number 10 to the list [1, 2, 3, 4].\n",
        "my_list = [1, 2, 3, 4]\n",
        "my_list.append(10)\n",
        "print(my_list)\n"
      ],
      "metadata": {
        "colab": {
          "base_uri": "https://localhost:8080/"
        },
        "id": "RhIQJtsQ-xGe",
        "outputId": "a2ec94e9-c1d8-4806-c3ad-042761a5ef65"
      },
      "execution_count": 67,
      "outputs": [
        {
          "output_type": "stream",
          "name": "stdout",
          "text": [
            "[1, 2, 3, 4, 10]\n"
          ]
        }
      ]
    },
    {
      "cell_type": "code",
      "source": [
        "# Question 8. Write a code to remove the number 3 from the list [1, 2, 3, 4, 5].\n",
        "my_list = [1, 2, 3, 4, 5]\n",
        "my_list.remove(3)\n",
        "print(my_list)"
      ],
      "metadata": {
        "colab": {
          "base_uri": "https://localhost:8080/"
        },
        "id": "eqUtcuY2_5r0",
        "outputId": "d3fb81e5-094c-4f4a-c9e1-fe8b9a571b4d"
      },
      "execution_count": 68,
      "outputs": [
        {
          "output_type": "stream",
          "name": "stdout",
          "text": [
            "[1, 2, 4, 5]\n"
          ]
        }
      ]
    },
    {
      "cell_type": "code",
      "source": [
        "# Question 9. Write a code to access the second element in the list ['a', 'b', 'c', 'd'].\n",
        "my_list = ['a', 'b', 'c', 'd']\n",
        "print(my_list[1])\n",
        "\n"
      ],
      "metadata": {
        "colab": {
          "base_uri": "https://localhost:8080/"
        },
        "id": "mxQbd7ewCONf",
        "outputId": "dd52660a-aeb3-459e-c65d-9a7e9c167c3d"
      },
      "execution_count": 69,
      "outputs": [
        {
          "output_type": "stream",
          "name": "stdout",
          "text": [
            "b\n"
          ]
        }
      ]
    },
    {
      "cell_type": "code",
      "source": [
        "# Question 10. Write a code to reverse the list [10, 20, 30, 40, 50].\n",
        "my_list = [10, 20, 30, 40, 50]\n",
        "my_list.reverse()\n",
        "print(my_list)"
      ],
      "metadata": {
        "colab": {
          "base_uri": "https://localhost:8080/"
        },
        "id": "qPpqcFYhCavk",
        "outputId": "d6859bf0-ea6d-43e3-8247-513103fdde79"
      },
      "execution_count": 70,
      "outputs": [
        {
          "output_type": "stream",
          "name": "stdout",
          "text": [
            "[50, 40, 30, 20, 10]\n"
          ]
        }
      ]
    },
    {
      "cell_type": "code",
      "source": [
        "# Question 11. Write a code to create a tuple with the elements 100, 200, 300 and print it.\n",
        "my_tuple = (100, 200, 300)\n",
        "print(my_tuple)"
      ],
      "metadata": {
        "colab": {
          "base_uri": "https://localhost:8080/"
        },
        "id": "B9EZ1s_IClxY",
        "outputId": "3f6168fa-5de1-4a43-9d26-dc3496410b77"
      },
      "execution_count": 71,
      "outputs": [
        {
          "output_type": "stream",
          "name": "stdout",
          "text": [
            "(100, 200, 300)\n"
          ]
        }
      ]
    },
    {
      "cell_type": "code",
      "source": [
        "# Question 12. Write a code to access the second-to-last element of the tuple ('red', 'green', 'blue', 'yellow').\n",
        "my_tuple = ('red', 'green', 'blue', 'yellow')\n",
        "print(my_tuple[-2])"
      ],
      "metadata": {
        "colab": {
          "base_uri": "https://localhost:8080/"
        },
        "id": "G7ureYPxCpWH",
        "outputId": "106b71fc-82c8-4223-ab8e-2d30f13277ea"
      },
      "execution_count": 72,
      "outputs": [
        {
          "output_type": "stream",
          "name": "stdout",
          "text": [
            "blue\n"
          ]
        }
      ]
    },
    {
      "cell_type": "code",
      "source": [
        "# Question 13. Write a code to find the minimum number in the tuple (10, 20, 5, 15).\n",
        "my_tuple = (10, 20, 5, 15)\n",
        "print(min(my_tuple))"
      ],
      "metadata": {
        "colab": {
          "base_uri": "https://localhost:8080/"
        },
        "id": "E1q0qGYpCr3g",
        "outputId": "9c2c5acf-ffdf-460f-d1f9-a10e3ac7fd66"
      },
      "execution_count": 73,
      "outputs": [
        {
          "output_type": "stream",
          "name": "stdout",
          "text": [
            "5\n"
          ]
        }
      ]
    },
    {
      "cell_type": "code",
      "source": [
        "# Question 14. Write a code to find the index of the element \"cat\" in the tuple ('dog', 'cat', 'rabbit').\n",
        "my_tuple = ('dog', 'cat', 'rabbit')\n",
        "print(my_tuple.index('cat'))"
      ],
      "metadata": {
        "colab": {
          "base_uri": "https://localhost:8080/"
        },
        "id": "Zat5s6eFCuph",
        "outputId": "b8fe289c-b9ae-41c4-a368-bdde9100edb8"
      },
      "execution_count": 74,
      "outputs": [
        {
          "output_type": "stream",
          "name": "stdout",
          "text": [
            "1\n"
          ]
        }
      ]
    },
    {
      "cell_type": "code",
      "source": [
        "# Question 15. Write a code to create a tuple containing three different fruits and check if \"kiwi\" is in it.\n",
        "fruits_tuple = (\"apple\", \"banana\", \"orange\")\n",
        "print(\"kiwi\" in fruits_tuple)"
      ],
      "metadata": {
        "colab": {
          "base_uri": "https://localhost:8080/"
        },
        "id": "0nt107i-CxeO",
        "outputId": "02a6efab-2bfc-41bb-fcef-0955c469a430"
      },
      "execution_count": 75,
      "outputs": [
        {
          "output_type": "stream",
          "name": "stdout",
          "text": [
            "False\n"
          ]
        }
      ]
    },
    {
      "cell_type": "code",
      "source": [
        "# Question 16. Write a code to create a set with the elements 'a', 'b', 'c' and print it.\n",
        "my_set = {'a', 'b', 'c'}\n",
        "print(my_set)\n"
      ],
      "metadata": {
        "colab": {
          "base_uri": "https://localhost:8080/"
        },
        "id": "ElYv3cBKNTVj",
        "outputId": "20af2daa-2acc-4e93-c512-83d1d2bf9e24"
      },
      "execution_count": 76,
      "outputs": [
        {
          "output_type": "stream",
          "name": "stdout",
          "text": [
            "{'c', 'a', 'b'}\n"
          ]
        }
      ]
    },
    {
      "cell_type": "code",
      "source": [
        "# Question 17. Write a code to clear all elements from the set {1, 2, 3, 4}.\n",
        "my_set = {1, 2, 3, 4}\n",
        "my_set.clear()\n",
        "print(my_set)"
      ],
      "metadata": {
        "colab": {
          "base_uri": "https://localhost:8080/"
        },
        "id": "K7x8Z6o1NWIv",
        "outputId": "137909d4-ac94-495a-f5c1-6b51def2bc53"
      },
      "execution_count": 77,
      "outputs": [
        {
          "output_type": "stream",
          "name": "stdout",
          "text": [
            "set()\n"
          ]
        }
      ]
    },
    {
      "cell_type": "code",
      "source": [
        "# Question 18. Write a code to remove the element 4 from the set {1, 2, 3, 4}.\n",
        "my_set = {1, 2, 3, 4}\n",
        "my_set.remove(4)\n",
        "print(my_set)"
      ],
      "metadata": {
        "colab": {
          "base_uri": "https://localhost:8080/"
        },
        "id": "49YcCOHwNYVG",
        "outputId": "4a9e9937-5c55-405b-9839-5e09529927e4"
      },
      "execution_count": 78,
      "outputs": [
        {
          "output_type": "stream",
          "name": "stdout",
          "text": [
            "{1, 2, 3}\n"
          ]
        }
      ]
    },
    {
      "cell_type": "code",
      "source": [
        "# Question 19. Write a code to find the union of two sets {1, 2, 3} and {3, 4, 5}.\n",
        "set1 = {1, 2, 3}\n",
        "set2 = {3, 4, 5}\n",
        "print(set1.union(set2))\n",
        "\n"
      ],
      "metadata": {
        "colab": {
          "base_uri": "https://localhost:8080/"
        },
        "id": "ADpz7aZpNaVE",
        "outputId": "4e02fc77-773f-47d8-8a99-5ccc1aec3179"
      },
      "execution_count": 79,
      "outputs": [
        {
          "output_type": "stream",
          "name": "stdout",
          "text": [
            "{1, 2, 3, 4, 5}\n"
          ]
        }
      ]
    },
    {
      "cell_type": "code",
      "source": [
        "# Question 20. Write a code to find the intersection of two sets {1, 2, 3} and {2, 3, 4}.\n",
        "set1 = {1, 2, 3}\n",
        "set2 = {2, 3, 4}\n",
        "print(set1.intersection(set2))\n",
        "\n"
      ],
      "metadata": {
        "colab": {
          "base_uri": "https://localhost:8080/"
        },
        "id": "dgjotuOyN2Mz",
        "outputId": "86f052db-623d-4a48-b3b1-980b6e6cfa46"
      },
      "execution_count": 80,
      "outputs": [
        {
          "output_type": "stream",
          "name": "stdout",
          "text": [
            "{2, 3}\n"
          ]
        }
      ]
    },
    {
      "cell_type": "code",
      "source": [
        "# Question 21. Write a code to create a dictionary with the keys \"name\", \"age\", and \"city\", and print it.\n",
        "my_dict = {\"name\": \"John\", \"age\": 30, \"city\": \"New York\"}\n",
        "print(my_dict)\n",
        "\n"
      ],
      "metadata": {
        "colab": {
          "base_uri": "https://localhost:8080/"
        },
        "id": "VwUh-pdTN40T",
        "outputId": "ce32051d-1725-45f7-fe2a-5b30a351ed47"
      },
      "execution_count": 81,
      "outputs": [
        {
          "output_type": "stream",
          "name": "stdout",
          "text": [
            "{'name': 'John', 'age': 30, 'city': 'New York'}\n"
          ]
        }
      ]
    },
    {
      "cell_type": "code",
      "source": [
        "# Question 22. Write a code to add a new key-value pair \"country\": \"USA\" to the dictionary {'name': 'John', 'age': 25}.\n",
        "my_dict = {'name': 'John', 'age': 25}\n",
        "my_dict['country'] = 'USA'\n",
        "print(my_dict)\n",
        "\n"
      ],
      "metadata": {
        "colab": {
          "base_uri": "https://localhost:8080/"
        },
        "id": "D94SP2iLN7tz",
        "outputId": "88d006e2-9721-4811-aac7-d2c7a4150897"
      },
      "execution_count": 82,
      "outputs": [
        {
          "output_type": "stream",
          "name": "stdout",
          "text": [
            "{'name': 'John', 'age': 25, 'country': 'USA'}\n"
          ]
        }
      ]
    },
    {
      "cell_type": "code",
      "source": [
        "# Question 23. Write a code to access the value associated with the key 'name' in the dictionary {'name': 'Alice', 'age': 30}.\n",
        "my_dict = {'name': 'Alice', 'age': 30}\n",
        "print(my_dict['name'])\n",
        "\n"
      ],
      "metadata": {
        "colab": {
          "base_uri": "https://localhost:8080/"
        },
        "id": "7BDGxc2yN9Yi",
        "outputId": "4295055d-af61-4365-c63e-fb9fddfa6d49"
      },
      "execution_count": 83,
      "outputs": [
        {
          "output_type": "stream",
          "name": "stdout",
          "text": [
            "Alice\n"
          ]
        }
      ]
    },
    {
      "cell_type": "code",
      "source": [
        "# Question 24. Write a code to remove the key 'age' from the dictionary {'name': 'Bob', 'age': 22, 'city': 'New York'}.\n",
        "my_dict = {'name': 'Bob', 'age': 22, 'city': 'New York'}\n",
        "del my_dict['age']\n",
        "print(my_dict)\n",
        "\n"
      ],
      "metadata": {
        "colab": {
          "base_uri": "https://localhost:8080/"
        },
        "id": "pRaGdL5-OHmJ",
        "outputId": "5d7a2011-e1c4-4f2a-b4cb-4c3d26cc1a6c"
      },
      "execution_count": 84,
      "outputs": [
        {
          "output_type": "stream",
          "name": "stdout",
          "text": [
            "{'name': 'Bob', 'city': 'New York'}\n"
          ]
        }
      ]
    },
    {
      "cell_type": "code",
      "source": [
        "# Question 25. Write a code to check if the key \"city\" exists in the dictionary {'name': 'Alice', 'city': 'Paris'}.\n",
        "my_dict = {'name': 'Alice', 'city': 'Paris'}\n",
        "print(\"city\" in my_dict)\n",
        "\n"
      ],
      "metadata": {
        "colab": {
          "base_uri": "https://localhost:8080/"
        },
        "id": "9Xg1LcjsOKED",
        "outputId": "b29776ae-71c7-4d7e-924c-c29cff60ad3a"
      },
      "execution_count": 85,
      "outputs": [
        {
          "output_type": "stream",
          "name": "stdout",
          "text": [
            "True\n"
          ]
        }
      ]
    },
    {
      "cell_type": "code",
      "source": [
        "# Question 26. Write a code to create a list, a tuple, and a dictionary, and print them all.\n",
        "my_list_example = [1, 'hello', 3.14]\n",
        "my_tuple_example = (10, 'world', True)\n",
        "my_dict_example = {'a': 1, 'b': 'two'}\n",
        "\n",
        "print(\"List:\", my_list_example)\n",
        "print(\"Tuple:\", my_tuple_example)\n",
        "print(\"Dictionary:\", my_dict_example)"
      ],
      "metadata": {
        "colab": {
          "base_uri": "https://localhost:8080/"
        },
        "id": "5Qj2gvQFOLdY",
        "outputId": "39feed8f-f418-4ba8-937f-375711afc418"
      },
      "execution_count": 86,
      "outputs": [
        {
          "output_type": "stream",
          "name": "stdout",
          "text": [
            "List: [1, 'hello', 3.14]\n",
            "Tuple: (10, 'world', True)\n",
            "Dictionary: {'a': 1, 'b': 'two'}\n"
          ]
        }
      ]
    },
    {
      "cell_type": "code",
      "source": [
        "# Question 27. Write a code to create a list of 5 random numbers between 1 and 100, sort it in ascending order, and print the result.\n",
        "import random\n",
        "random_numbers = []\n",
        "for _ in range(5):\n",
        "    random_numbers.append(random.randint(1, 100))\n",
        "\n",
        "random_numbers.sort() # Sorts in ascending order in-place\n",
        "print(random_numbers)\n",
        "\n"
      ],
      "metadata": {
        "colab": {
          "base_uri": "https://localhost:8080/"
        },
        "id": "B5PGxCHWNff2",
        "outputId": "df73b644-f0f2-4925-ac34-6a36d3efc0e3"
      },
      "execution_count": 87,
      "outputs": [
        {
          "output_type": "stream",
          "name": "stdout",
          "text": [
            "[20, 29, 31, 39, 45]\n"
          ]
        }
      ]
    },
    {
      "cell_type": "code",
      "source": [
        "# Question 28. Write a code to create a list with strings and print the element at the third index.\n",
        "string_list = [\"apple\", \"banana\", \"cherry\", \"date\", \"elderberry\"]\n",
        "print(string_list[3]) # Third index is the fourth element (0-indexed)\n",
        "\n"
      ],
      "metadata": {
        "colab": {
          "base_uri": "https://localhost:8080/"
        },
        "id": "4jrWc5sqNh2u",
        "outputId": "87a6aa70-3e98-43c0-eea0-3bd96c7a813f"
      },
      "execution_count": 88,
      "outputs": [
        {
          "output_type": "stream",
          "name": "stdout",
          "text": [
            "date\n"
          ]
        }
      ]
    },
    {
      "cell_type": "code",
      "source": [
        "# Question 29. Write a code to combine two dictionaries into one and print the result.\n",
        "dict1 = {'a': 1, 'b': 2}\n",
        "dict2 = {'c': 3, 'd': 4}\n",
        "\n",
        "# Using update() method\n",
        "combined_dict_update = dict1.copy()\n",
        "combined_dict_update.update(dict2)\n",
        "print(\"Combined using update():\", combined_dict_update)\n",
        "\n",
        "\n",
        "combined_dict_unpacking = {**dict1, **dict2}\n",
        "print(\"Combined using unpacking:\", combined_dict_unpacking)\n",
        "\n"
      ],
      "metadata": {
        "colab": {
          "base_uri": "https://localhost:8080/"
        },
        "id": "Llo3LAk-NjSL",
        "outputId": "f06463eb-e0f4-4a76-b42d-72ed573c7e1a"
      },
      "execution_count": 89,
      "outputs": [
        {
          "output_type": "stream",
          "name": "stdout",
          "text": [
            "Combined using update(): {'a': 1, 'b': 2, 'c': 3, 'd': 4}\n",
            "Combined using unpacking: {'a': 1, 'b': 2, 'c': 3, 'd': 4}\n"
          ]
        }
      ]
    },
    {
      "cell_type": "code",
      "source": [
        "# Question 30. Write a code to convert a list of strings into a set.\n",
        "string_list_to_convert = [\"apple\", \"banana\", \"apple\", \"orange\", \"banana\"]\n",
        "string_set = set(string_list_to_convert)\n",
        "print(string_set)"
      ],
      "metadata": {
        "colab": {
          "base_uri": "https://localhost:8080/"
        },
        "id": "sGlRBMRoNlAp",
        "outputId": "160b77f5-3d8a-4011-ee29-c8bb5ebcac9d"
      },
      "execution_count": 90,
      "outputs": [
        {
          "output_type": "stream",
          "name": "stdout",
          "text": [
            "{'apple', 'orange', 'banana'}\n"
          ]
        }
      ]
    }
  ]
}